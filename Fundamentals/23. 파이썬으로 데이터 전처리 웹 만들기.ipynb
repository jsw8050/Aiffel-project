{
 "cells": [
  {
   "cell_type": "markdown",
   "metadata": {},
   "source": [
    "### 1. 환경 세팅\n",
    "- 최신 버전으로!\n",
    "\n",
    "#### 가상 환경\n",
    "- 아나 콘다 사용 시 상관 없음 \n",
    "- $ pip3 install virtualenv"
   ]
  },
  {
   "cell_type": "markdown",
   "metadata": {},
   "source": [
    "### 2. 플라스크 (Flask) 시작하기\n",
    "- 마이크로(Micro): 플라스크의 특징인, 웹서비스를 구성하는 최소한의 기능을 담은 단순하지만, 확장이 가능한 설계\n",
    "- 웹: 인터넷 브라우저를 통해서 보고 있는 공간\n",
    "- 프레임워크: 어떠한 목적을 달성하기 위해 복잡하게 얽혀있는 문제를 해결하기 위한 구조이며, 소프트웨어 개발에 있어 하나의 뼈대 역할을 한다. 프레임워크 안에는 기본적으로 필요한 기능들이 미리 구축되어 있어서 추가하고자 하는 기능들만 선별적으로 개발하면 된다. 이때, 프레임워크에서 정의한 규칙을 준수해서 개발해야 한다."
   ]
  },
  {
   "cell_type": "code",
   "execution_count": null,
   "metadata": {},
   "outputs": [],
   "source": [
    "from flask import Flask\n",
    "app = Flask(__name__) # Flask 객체가 생성되어 app이라는 변수에 저장됨\n",
    "\n",
    "@app.route(\"/\") # @ 데코레이터: URL 규칙을 받아 해당하는 규칙의 URL로 요청이 들어오면 붙어 있는 함수를 실행하게끔 설정\n",
    "def hello():\n",
    "    return \"플라스크 동작 확인!\"\n",
    "\n"
   ]
  },
  {
   "cell_type": "markdown",
   "metadata": {},
   "source": [
    "- @와 같이 적힌 코드를 데코레이터(decorator)라고 부릅니다. 이 데코레이터는 URL 규칙을 받아 해당하는 규칙의 URL로 요청이 들어오면 붙어 있는 함수(여기에서는 hello())를 실행하게끔 설정합니다.\n",
    "- (‘/’)가 http://IP:(port number)/ 맨 뒤의 /를 의미하며 이는 root의 위치를 나타냅니다."
   ]
  },
  {
   "cell_type": "markdown",
   "metadata": {},
   "source": [
    "**데코레이터(decorator)**\n",
    "데코레이터는 함수를 반환하는 함수. 데코레이터 밑에 있는 함수가 실행되기 전에 먼저 데코레이터가 실행된다고 생각하면 된다."
   ]
  },
  {
   "cell_type": "code",
   "execution_count": 1,
   "metadata": {},
   "outputs": [
    {
     "name": "stdout",
     "output_type": "stream",
     "text": [
      "🚌💨\n"
     ]
    }
   ],
   "source": [
    "def main_function():\n",
    "     print (\"test function\")\n",
    "print(\"🚌💨\")"
   ]
  },
  {
   "cell_type": "code",
   "execution_count": 2,
   "metadata": {},
   "outputs": [
    {
     "name": "stdout",
     "output_type": "stream",
     "text": [
      "2020-08-25 14:16:19.457596\n",
      "test function\n",
      "2020-08-25 14:16:19.457874\n"
     ]
    }
   ],
   "source": [
    "# main_function 함수가 실행되는데 걸리는 시간 찾는 방법\n",
    "import datetime\n",
    "\n",
    "def main_function():\n",
    "    print(\"test function\")\n",
    "    \n",
    "print(datetime.datetime.now()) # 텍스트 표시 전 시간\n",
    "main_function()\n",
    "print(datetime.datetime.now()) # 텍스트 표시 후 시간\n",
    "\n"
   ]
  },
  {
   "cell_type": "markdown",
   "metadata": {},
   "source": [
    "#### 데코레이터 사용법"
   ]
  },
  {
   "cell_type": "code",
   "execution_count": 4,
   "metadata": {},
   "outputs": [
    {
     "name": "stdout",
     "output_type": "stream",
     "text": [
      "2020-08-25 14:19:00.460139\n",
      "test function\n",
      "2020-08-25 14:19:00.460213\n"
     ]
    }
   ],
   "source": [
    "def datetime_decorator(func):    # 1. 함수 정의\n",
    "    def decorated():             # 함수  안에 함수가 있는 구조로 만들어서 내부 함수 반환 구조로 하면 자동으로 데코레이터에 등록\n",
    "        print(datetime.datetime.now())\n",
    "        func()\n",
    "        print(datetime.datetime.now())\n",
    "    return decorated\n",
    "    \n",
    "@datetime_decorator\n",
    "def main_function():\n",
    "    print(\"test function\")\n",
    "    \n",
    "    \n",
    "main_function()"
   ]
  },
  {
   "cell_type": "markdown",
   "metadata": {},
   "source": [
    "### 3. 플라스크 프로젝트\n",
    "플라스크에는 프로젝트(project)라는 개념이 있습니다. 하나의 웹 사이트는 하나의 프로젝트입니다. 아무 웹 사이트를 검색해 들어가 보면 게시판, 공지사항 등 여러 페이지로 이뤄져 있는 것을 볼 수 있습니다. 여기서 웹 페이지는 앱(app)이라고 볼 수 있습니다. 그래서 하나의 프로젝트 안에는 여러 개의 앱이 존재할 수 있습니다."
   ]
  },
  {
   "cell_type": "markdown",
   "metadata": {},
   "source": [
    "- pyproject/ : 플라스크의 프로젝트 디렉토리입니다.\n",
    "\n",
    "    - static/ : 웹 사이트는 CSS 파일과 같은 정적 파일을 필요로합니다. html 페이지를 이쁘게 꾸미는 코드가 있는 CSS 파일을 이 폴더 안에 넣게 됩니다.\n",
    "\n",
    "    - templates/ : HTML 파일들을 넣어두는 폴더입니다.\n",
    "\n",
    "- Templates\n",
    "\n",
    "플라스크에서는 보이는 부분과 처리하는 부분을 나누기 위해 템플릿이라는 기능을 제공합니다. 템플릿에서 사용되는 파일들은 이 디렉토리에 저장되며 HTML 파일들을 여기에 넣게 됩니다.\n",
    "\n",
    "- HTML(Hypertext Markup Language)\n",
    "\n",
    "HTML은 프로그래밍 언어는 아니고, 우리가 보는 웹 페이지가 어떻게 구조화되어 있는지 브라우저로 하여금 알 수 있도록 하는 마크업 언어입니다. 이는 개발자로 하여금 복잡하게 또는 간단하게 프로그래밍 하도록 할 수 있습니다. HTML은 elements로 구성되어 있으며, 이들은 적절한 방법으로 나타내고 실행하기 위해 각 컨텐츠의 여러 부분을 감싸고 마크업합니다. tags는 웹상의 다른 페이지로 이동하게 하는 하이퍼링크 내용들을 생성하거나, 단어를 강조하는 등의 역할을 합니다."
   ]
  },
  {
   "cell_type": "markdown",
   "metadata": {},
   "source": [
    "**렌더링(Rendering)**\n",
    "\n",
    "렌더링은 HTML, CSS 등을 브라우저에서 렌더링 엔진을 이용해서 그래픽 형태로 출력하는 과정을 말합니다."
   ]
  },
  {
   "cell_type": "markdown",
   "metadata": {},
   "source": [
    "**GET & POST**\n",
    "\n",
    "GET은 주로 링크를 클릭할 때 사용하고 POST는 데이터가 있는 게시물을 올릴 때, 즉 이미지나 대량의 텍스트 데이터 같은 데이터를 담아 보낼 때 주로 사용합니다."
   ]
  },
  {
   "cell_type": "code",
   "execution_count": null,
   "metadata": {},
   "outputs": [],
   "source": [
    "# 예시\n",
    "@app.route('/calculate', methods=['POST', 'GET'])\n",
    "def calculate(num=None):\n",
    "    if request.method == 'POST':\n",
    "        pass\n",
    "\n",
    "    elif request.method == 'GET':\n",
    "        pass"
   ]
  },
  {
   "cell_type": "markdown",
   "metadata": {},
   "source": [
    "### 4. UI 코드"
   ]
  },
  {
   "cell_type": "markdown",
   "metadata": {},
   "source": [
    "**@app.route('/get_selected_table', methods=[\"POST\"])**\n",
    "\n",
    "- '/get_selected_table' : HTML 코드에 <form action=\"/get_selected_table\" method=\"POST\"> 부분이 있습니다. 여기에서 action=\"/get_selected_table\" 을 라우팅하고 있는 파이썬 함수가 여기라는 것을 @app.route('/get_selected_table', methods=[\"POST\"]) 가 말하고 있는 것 입니다.\n",
    "- methods=[\"POST\"] : 데이터 전달 방식은 POST를 이용합니다.\n",
    "    \n",
    "**table_id = request.form.get('table_name')**\n",
    "\n",
    "- request.form.get('table_name') : HTML에서 table_name 이라는 name을 가진 UI 컴포넌트에 있는 데이터를 가져옵니다.\n",
    "    \n",
    "**return render_template('index.html')**\n",
    "\n",
    "select_table() 함수가 끝나면 render_template 안에 있는 'index.html'을 표시합니다."
   ]
  }
 ],
 "metadata": {
  "kernelspec": {
   "display_name": "aiffel",
   "language": "python",
   "name": "aiffel"
  },
  "language_info": {
   "codemirror_mode": {
    "name": "ipython",
    "version": 3
   },
   "file_extension": ".py",
   "mimetype": "text/x-python",
   "name": "python",
   "nbconvert_exporter": "python",
   "pygments_lexer": "ipython3",
   "version": "3.7.6"
  }
 },
 "nbformat": 4,
 "nbformat_minor": 4
}
