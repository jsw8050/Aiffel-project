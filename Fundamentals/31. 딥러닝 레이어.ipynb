{
 "cells": [
  {
   "cell_type": "markdown",
   "metadata": {},
   "source": [
    "### 딥러닝은 $y=Wx+b$ 에서 최적의 $W$(Weight)과 를 찾는 과정이다."
   ]
  },
  {
   "cell_type": "markdown",
   "metadata": {},
   "source": [
    "### 1. 개념\n",
    "#### 데이터\n",
    "- 이미지 데이터는 보통 **channel**을 가진다. RGB 총 3개의 채널\n",
    "\n",
    "#### 레이어\n",
    "- 하나의 물체가 여러 개의 논리적인 객체들로 구성되어 있는 경우, 이러한 각각의 객체를 하나의 레이어라 한다.\n",
    "- 신경망의 weight, 정화히는 레이어의 weight를 의미한다."
   ]
  },
  {
   "cell_type": "markdown",
   "metadata": {},
   "source": [
    "### 2. Linear 레이어\n",
    "- Linear 레이어는 선형 변환을 활용해 데이터를 특정 차원으로 변환하는 기능을 합니다. \n",
    "- 100차원의 데이터를 300차원으로 변환한다면 데이터를 더 풍부하게 표현하는 효과가 있고, 반대로 10차원의 데이터로 변환한다면 데이터를 집약시키는 효과가 있습니다.\n",
    "- 사각형은 모두 (x, y) 2차원의 점 4개로 표현 가능하므로, 각각 (4, 2) 형태의 데이터로 표현할 수 있습니다. \n",
    "- 두 사각형을 각각 어떤 하나의 정수로 표현하고자 할 때, 이 정수는 우리가 구분하고자 하는 사각형의 종류(class)를 의미합니다. "
   ]
  },
  {
   "cell_type": "markdown",
   "metadata": {},
   "source": [
    "<식1>\n",
    "1단계: (4, 2) x [2 x 1 행렬] = (4, ) # 2차원이 1차원으로 변환\n",
    "2단계: (4, ) x [4 x 1 행렬] = (1, )  # 4차원을 1차원으로 변환\n",
    "\n",
    "- 여기서 각 행렬이 weight 이다.\n",
    "- Linear 레이어는 (입력의 차원, 출력의 차원)에 해당하는 weight를 가지는 특성이 있다."
   ]
  },
  {
   "cell_type": "code",
   "execution_count": 1,
   "metadata": {},
   "outputs": [
    {
     "name": "stdout",
     "output_type": "stream",
     "text": [
      "1단계 연산 준비: (64, 4, 2)\n",
      "1단계 연산 결과: (64, 4, 3)\n",
      "1단계 Linear Layer의 Weight 형태: (2, 3)\n",
      "\n",
      "2단계 연산 준비: (64, 4, 3)\n",
      "2단계 연산 결과: (64, 4)\n",
      "2단계 Linear Layer의 Weight 형태: (3, 1)\n",
      "\n",
      "3단계 연산 준비: (64, 4)\n",
      "3단계 연산 결과: (64,)\n",
      "3단계 Linear Layer의 Weight 형태: (4, 1)\n",
      "총 Parameters: 13\n"
     ]
    }
   ],
   "source": [
    "import tensorflow as tf\n",
    "\n",
    "batch_size = 64\n",
    "boxes = tf.zeros((batch_size, 4, 2))\n",
    "\n",
    "print(\"1단계 연산 준비:\", boxes.shape)\n",
    "\n",
    "first_linear = tf.keras.layers.Dense(units=3, use_bias=False)\n",
    "first_out = first_linear(boxes)\n",
    "\n",
    "print(\"1단계 연산 결과:\", first_out.shape)\n",
    "print(\"1단계 Linear Layer의 Weight 형태:\", first_linear.weights[0].shape)\n",
    "\n",
    "print(\"\\n2단계 연산 준비:\", first_out.shape)\n",
    "\n",
    "second_linear = tf.keras.layers.Dense(units=1, use_bias=False)\n",
    "second_out = second_linear(first_out)\n",
    "second_out = tf.squeeze(second_out, axis=-1)\n",
    "\n",
    "print(\"2단계 연산 결과:\", second_out.shape)\n",
    "print(\"2단계 Linear Layer의 Weight 형태:\", second_linear.weights[0].shape)\n",
    "\n",
    "print(\"\\n3단계 연산 준비:\", second_out.shape)\n",
    "\n",
    "third_linear = tf.keras.layers.Dense(units=1, use_bias=False)\n",
    "third_out = third_linear(second_out)\n",
    "third_out = tf.squeeze(third_out, axis=-1)\n",
    "\n",
    "print(\"3단계 연산 결과:\", third_out.shape)\n",
    "print(\"3단계 Linear Layer의 Weight 형태:\", third_linear.weights[0].shape)\n",
    "\n",
    "total_params = \\\n",
    "first_linear.count_params() + \\\n",
    "second_linear.count_params() + \\\n",
    "third_linear.count_params()\n",
    "\n",
    "print(\"총 Parameters:\", total_params)"
   ]
  },
  {
   "cell_type": "markdown",
   "metadata": {},
   "source": [
    "그러나 두 사각형에 대해 1단계를 거치고 난 결과가 동일하다.\n",
    "이렇게 되면 <식 1>의 2단계 입력이 동일해지니 두 번째 4 x 1 Weight를 거치는 것이 의미가 없어집니다. 여기서 모든 Weight의 모든 요소를 Parameter라고 합니다. 총 6개 (위 그림에서는 2개)의 Parameter로 이 문제를 해결하기엔 역부족이었던 것 같습니다. 첫 번째 접근은 데이터를 집약하는 데에만 집중했으니, 이번엔 데이터를 더 풍부하게 만들어 봅시다."
   ]
  },
  {
   "cell_type": "markdown",
   "metadata": {},
   "source": [
    "<식2>\n",
    "1단계: (4, 2) x [2 x 3 행렬] = (4, 3)\n",
    "2단계: (4, 3) x [3 x 1 행렬] = (4, )\n",
    "3단계: (4, ) x [4 x 1 행렬] = (1, )\n",
    "\n",
    "- 각 사각형에 대해 독립적인 정보 생기기 시작"
   ]
  },
  {
   "cell_type": "code",
   "execution_count": 2,
   "metadata": {},
   "outputs": [
    {
     "name": "stdout",
     "output_type": "stream",
     "text": [
      "1단계 연산 준비: (64, 4, 2)\n",
      "1단계 연산 결과: (64, 4, 3)\n",
      "1단계 Linear Layer의 Weight 형태: (2, 3)\n",
      "\n",
      "2단계 연산 준비: (64, 4, 3)\n",
      "2단계 연산 결과: (64, 4)\n",
      "2단계 Linear Layer의 Weight 형태: (3, 1)\n",
      "\n",
      "3단계 연산 준비: (64, 4)\n",
      "3단계 연산 결과: (64,)\n",
      "3단계 Linear Layer의 Weight 형태: (4, 1)\n",
      "총 Parameters: 13\n"
     ]
    }
   ],
   "source": [
    "import tensorflow as tf\n",
    "\n",
    "batch_size = 64\n",
    "boxes = tf.zeros((batch_size, 4, 2))\n",
    "\n",
    "print(\"1단계 연산 준비:\", boxes.shape)\n",
    "\n",
    "first_linear = tf.keras.layers.Dense(units=3, use_bias=False)\n",
    "first_out = first_linear(boxes)\n",
    "\n",
    "print(\"1단계 연산 결과:\", first_out.shape)\n",
    "print(\"1단계 Linear Layer의 Weight 형태:\", first_linear.weights[0].shape)\n",
    "\n",
    "print(\"\\n2단계 연산 준비:\", first_out.shape)\n",
    "\n",
    "second_linear = tf.keras.layers.Dense(units=1, use_bias=False)\n",
    "second_out = second_linear(first_out)\n",
    "second_out = tf.squeeze(second_out, axis=-1)\n",
    "\n",
    "print(\"2단계 연산 결과:\", second_out.shape)\n",
    "print(\"2단계 Linear Layer의 Weight 형태:\", second_linear.weights[0].shape)\n",
    "\n",
    "print(\"\\n3단계 연산 준비:\", second_out.shape)\n",
    "\n",
    "third_linear = tf.keras.layers.Dense(units=1, use_bias=False)\n",
    "third_out = third_linear(second_out)\n",
    "third_out = tf.squeeze(third_out, axis=-1)\n",
    "\n",
    "print(\"3단계 연산 결과:\", third_out.shape)\n",
    "print(\"3단계 Linear Layer의 Weight 형태:\", third_linear.weights[0].shape)\n",
    "\n",
    "total_params = \\\n",
    "first_linear.count_params() + \\\n",
    "second_linear.count_params() + \\\n",
    "third_linear.count_params()\n",
    "\n",
    "print(\"총 Parameters:\", total_params)"
   ]
  },
  {
   "cell_type": "markdown",
   "metadata": {},
   "source": [
    "이런 방법들로 Weight의 형태만 선언을 해주면 그 파라미터 값을 임의의 실수가 채우고, 수많은 데이터를 거치며 가장 적합한 Weight를 알아서 찾아가는 과정이 바로 **훈련(Training)**입니다. 적합한 파라미터라는 것은 주어진 데이터가 가지는 분포에 따라 결정됩니다"
   ]
  },
  {
   "cell_type": "markdown",
   "metadata": {},
   "source": [
    "#### 편향\n",
    "편향이 없다면 파라미터를 아무리 돌리고 늘리고 해도 정확하게 근사할 수 없음을 보여주는 예입니다. 단순히 생각해서 원점을 평행이동하는 것만으로도 해결할 수 있기 때문에 실제로 편향은 선형변환된 값에 편향 파라미터 b를 더해주는 것으로 표현해요. 서론의 $y=wx+b$ 속의 b 가 바로 그 편향 값,"
   ]
  },
  {
   "cell_type": "markdown",
   "metadata": {},
   "source": [
    "### 3. Convolution Layer\n",
    "- 딥러닝 외적\n",
    "- 필터(커널)\n",
    "- 입력의 형태 변환시킴"
   ]
  },
  {
   "cell_type": "markdown",
   "metadata": {},
   "source": [
    "<식3>\n",
    "1단계: (1920, 1080, 3) → (1920 x 1080 x 3, )\n",
    "2단계: (6220800, ) x [6220800 x 1 Weight] = (1, )\n",
    "    \n",
    "- 아무리 적어도 620만 개의 Parameter가 생성이 됩니다.\n",
    "- 게다가 \"손\"이라는 목적이 있음에도 모든 픽셀을 한 줄씩 살펴야하기 때문에 비효율적"
   ]
  },
  {
   "cell_type": "markdown",
   "metadata": {},
   "source": [
    "#### 패딩\n",
    "이미지의 맨 구석 모서리에 중요한 픽셀이 있다고 가정하면,\n",
    "Padding이 없을 경우 해당 픽셀은 Convolution 필터가 단 한 번 밖에 보지 못한다.\n",
    "이는 이미지 내곽 픽셀을 필터가 여러 번 훑는 것에 대조적이다.\n",
    "\n",
    "\n",
    "하지만 Padding을 해줄 경우, 모서리의 픽셀도 내곽 픽셀처럼 취급하게 되어\n",
    "필터가 해당 픽셀을 충분히 살필 수 있게 된다."
   ]
  },
  {
   "cell_type": "markdown",
   "metadata": {},
   "source": [
    "#### 컨볼루션 레이어\n",
    "- 목적에 도움이 되는 정보는 선명하게, 그렇지 않은 정보는 흐리게 만드는 필터를 훈련을 통해 찾아주는 것이 바로 Convolution 레이어가 하는 일이다.\n",
    "- 심지어는 단 하나의 필터가 아닌 수십 개의 필터를 중첩해서 가능하다.\n",
    "- 아래 그림처럼 Convolution 레이어가 [ 필터의 개수 x 필터의 가로 x 필터의 세로 ] 로 이루어진 Weight를 갖는다는 사실을 유추할 수 있게 한다."
   ]
  },
  {
   "cell_type": "markdown",
   "metadata": {},
   "source": [
    "<식 4>\n",
    "1단계: (1920, 1080, 3) x [3 x 16 x 5 x 5 Weight & Stride 5] = (384, 216, 16)\n",
    "2단계: (384, 216, 16) → (384 x 216 x 16, )\n",
    "3단계: (1327104, ) x [1327104 x 1 Weight] = (1, )\n",
    "\n",
    "- 16개의 5X5 필터를 가진 컨볼루션 레이어를 정의하여 이미지를strid 5 로 훑음\n",
    "- 생성된 출력을 1차원으로 펼쳐 리니어 레이어로 정보 집약\n",
    "- 필터들은 입력의 3채널에 각각 적용되므로 컨볼루션 레이어의 파라미터는 3*16*5*5 = 1200개"
   ]
  },
  {
   "cell_type": "markdown",
   "metadata": {},
   "source": [
    "- 입력의 정보를 집약시키는 효과가 뛰어나기 때뭉네 여러 겹의 레이어를 중첩하는 것이 일반적이다.\n",
    "- 중첩할수록 최종 리니어 레이어는 작아지게 된다.\n",
    "- 따라서 입력에서 중요한 부분을 뽑아내는 데에 최적화된다."
   ]
  },
  {
   "cell_type": "markdown",
   "metadata": {},
   "source": [
    "#### 신경망이 적합하지 않은 경우\n",
    "\n",
    "1) 1920 x 1080 인 입력 데이터 크기에 비해 5 x 5는 손이라는 객체를 판별해 낼 수 있을 만큼 유의미한 정보를 담기에는 작은 필터 사이즈일 가능성이 높다.\n",
    "\n",
    "입력의 크기를 줄이거나 필터 크기를 키울 필요가 있다.\n",
    "\n",
    "\n",
    "2) 필터의 크기와 Stride를 같게 하면 손이 필터의 경계선에 걸리는 경우, 정상적으로 인식하지 못할 수 있다.\n",
    "Stride를 줄여 이미지를 더 자세하게 살피도록 설계하자."
   ]
  },
  {
   "cell_type": "code",
   "execution_count": 4,
   "metadata": {},
   "outputs": [
    {
     "name": "stdout",
     "output_type": "stream",
     "text": [
      "입력 이미지 데이터: (64, 1920, 1080, 3)\n",
      "\n",
      "Convolution 결과: (64, 384, 216, 16)\n",
      "Convolution Layer의 Parameter 수: 1200\n",
      "\n",
      "1차원으로 펼친 데이터: (64, 1327104)\n",
      "\n",
      "Linear 결과: (64, 1)\n",
      "Linear Layer의 Parameter 수: 1327104\n"
     ]
    }
   ],
   "source": [
    "import tensorflow as tf\n",
    "\n",
    "batch_size = 64\n",
    "pic = tf.zeros((batch_size, 1920, 1080, 3))\n",
    "\n",
    "print(\"입력 이미지 데이터:\", pic.shape)\n",
    "conv_layer = tf.keras.layers.Conv2D(filters=16,\n",
    "                                    kernel_size=(5, 5),\n",
    "                                    strides=5,\n",
    "                                    use_bias=False)\n",
    "conv_out = conv_layer(pic)\n",
    "\n",
    "print(\"\\nConvolution 결과:\", conv_out.shape)\n",
    "print(\"Convolution Layer의 Parameter 수:\", conv_layer.count_params())\n",
    "\n",
    "flatten_out = tf.keras.layers.Flatten()(conv_out)\n",
    "print(\"\\n1차원으로 펼친 데이터:\", flatten_out.shape)\n",
    "\n",
    "linear_layer = tf.keras.layers.Dense(units=1, use_bias=False)\n",
    "linear_out = linear_layer(flatten_out)\n",
    "\n",
    "print(\"\\nLinear 결과:\", linear_out.shape)\n",
    "print(\"Linear Layer의 Parameter 수:\", linear_layer.count_params())"
   ]
  },
  {
   "cell_type": "markdown",
   "metadata": {},
   "source": [
    "- Convolution Layer가 이미지 입력을 처리할 때, Linear 레이어 대비 훨씬 적은 파라미터로 훨씬 효과적으로 중요한 이미지 피터를 뽑아낼 수 있음을 알 수 있다.\n",
    "- 리니어 레이어는 입력 피쳐 전체가 매 출력에 미치는 영향의 가중치를 모든 이벽 피쳐 사이에 전부 고려한다.\n",
    "- 이미지처럼 지역성(locality) 그 자체가 매우 중요한 정보가 되는 경우, 리니어 레이어는 그 중요한 정보가 모두 소실된 채 매우 큰 파라미터 속에서 입력과 출력 사이의 관계 가중치를 찾아야 한다는 어려운 문제를 풀어야 한다.\n",
    "- 그러나 Convolution 레이어는 필터 구조 안에 Locality 정보가 온전히 보존된다. 인접한 픽셀들 사이에서의 패턴만 추출할 수 있다는 것 자체만으로도 불필요한 파라미터 및 연산량을 제거하고 훨씬 정확하고 효율적으로 정보를 집약시킬 수 있게 된다."
   ]
  },
  {
   "cell_type": "markdown",
   "metadata": {},
   "source": [
    "#### 문제 발생\n",
    "- 만약 극단적으로 필터 사이즈를 이미지 사이즈와 동일하게 한다면 Convolution 레이어는 완벽하게 Linear 레이어와 같아지게 된다. \n",
    "- 필터 사이즈를 키우게 되면 파라미터 사이즈와 연산량이 커질 뿐 아니라, Accuracy도 떨어지게 될 가능성이 높다."
   ]
  },
  {
   "cell_type": "markdown",
   "metadata": {},
   "source": [
    "### 4. Pooling Layer"
   ]
  },
  {
   "cell_type": "markdown",
   "metadata": {},
   "source": [
    "#### Receptive Field 개념\n",
    "- 크게 해야 할 부분은 필터 사이즈가 아닌 수용영역이다.\n",
    "- Neural Network의 출력부가 충분한 정보를 얻기 위해 커버하는 입력 데이터의 Receptive Field가 충분히 커서 그 안에 detect해야 할 object의 특성이 충분히 포함되어 있어야 정확한 detection이 가능하게 됩니다. 어쩌면 필요한 Receptive Field의 크기는 거의 이미지 크기 전체가 되는 경우도 있을 것입니다."
   ]
  },
  {
   "cell_type": "markdown",
   "metadata": {},
   "source": [
    "#### Max Pooling 레이어\n",
    "- Max Pooling 레이어를 통해 효과적으로 Receptive Field를 키우고, 정보 집약 효과를 극대화할 수 있다. 늘어난 파라미터 사이즈는 0이다.\n",
    "- translational invariance 효과\n",
    "    - 이미지는 약간의 상하좌우 시프트가 생긴다고 해도 내용상 동일한 특징이 있는데, Max Pooling을 통해 인접한 영역 중 가장 특징이 두드러진 영역 하나를 뽑는 것은 오히려 약간의 시프트 효과에도 불구하고 동일한 특징을 안정적으로 잡아낼 수 있는 긍정적 효과가 있어서 오히려 object 위치에 대한 오버피팅을 방지하고 안정적인 특징 추출 효과를 가져온다\n",
    "- Non-linear 함수와 동일한 피처 추출 효과\n",
    "    - Relu와 같은 Non-linear 함수도 마찬가지로 많은 하위 레이어의 연산 결과를 무시하는 효과를 발생시키지만, 그 결과 중요한 피처만을 상위 레이어로 추출해서 올려줌으로써 결과적으로 분류기의 성능을 증진시키는 효과를 가집니다. Min/Max Pooling도 이와 동일한 효과를 가지게 됩니다.\n",
    "- Receptive Field 극대화 효과\n",
    "    - Max Pooling이 없이도 Receptive Field를 크게 하려면 Convolutional 레이어를 아주 많이 쌓아야 합니다. 그 결과 큰 파라미터 사이즈로 인한 오버피팅, 연산량 증가, Gradient Vanishing 등의 문제를 감수해야 합니다. 이런 문제를 효과적으로 해결하는 방법으로 꼽히는 두가지 중 하나가 Max Pooling 레이어 사용입니다. 다른 하나로는 Dilated Convolution이 있습니다.\n"
   ]
  },
  {
   "cell_type": "markdown",
   "metadata": {},
   "source": [
    "### 5. Deconvolution 레이어\n",
    "- 집약된 정보 복원\n",
    "- Convlution layer 를 통해 집약된 정보가 원본 데이터의 정보를 너무 많이 손실한 것이 아닌가에 대한 문제\n",
    "- 컨볼루션의 결과를 역재생해서 원본 이미지와 최대한 유사한 정보를 복원해내는 Auto Encoder "
   ]
  },
  {
   "cell_type": "code",
   "execution_count": 6,
   "metadata": {},
   "outputs": [],
   "source": [
    "import numpy as np\n",
    "from tensorflow.python.keras.layers import Input, Dense, Conv2D, MaxPooling2D, UpSampling2D\n",
    "from tensorflow.python.keras.models import Model\n",
    "from tensorflow.python.keras.datasets import mnist\n",
    "import json\n",
    "import matplotlib.pyplot as plt #for plotting\n",
    "\n",
    "# MNIST 데이터 로딩\n",
    "(x_train, _), (x_test, _) = mnist.load_data()    # y_train, y_test는 사용하지 않습니다.\n",
    "# AutoEncoder가 수행하는 Image Reconstruction Task는 x_train의 라벨이 바로 x_train 자신이 되기 때문\n",
    "\n",
    "x_train = np.expand_dims(x_train, axis=3)\n",
    "x_test = np.expand_dims(x_test, axis=3)\n",
    "\n",
    "x_train = x_train.astype('float32') / 255.\n",
    "x_test = x_test.astype('float32') / 255."
   ]
  },
  {
   "cell_type": "code",
   "execution_count": 7,
   "metadata": {},
   "outputs": [
    {
     "name": "stdout",
     "output_type": "stream",
     "text": [
      "Model: \"model\"\n",
      "_________________________________________________________________\n",
      "Layer (type)                 Output Shape              Param #   \n",
      "=================================================================\n",
      "input_1 (InputLayer)         [(None, 28, 28, 1)]       0         \n",
      "_________________________________________________________________\n",
      "conv2d_1 (Conv2D)            (None, 28, 28, 16)        160       \n",
      "_________________________________________________________________\n",
      "max_pooling2d (MaxPooling2D) (None, 14, 14, 16)        0         \n",
      "_________________________________________________________________\n",
      "conv2d_2 (Conv2D)            (None, 14, 14, 8)         1160      \n",
      "_________________________________________________________________\n",
      "max_pooling2d_1 (MaxPooling2 (None, 7, 7, 8)           0         \n",
      "_________________________________________________________________\n",
      "conv2d_3 (Conv2D)            (None, 7, 7, 4)           292       \n",
      "_________________________________________________________________\n",
      "max_pooling2d_2 (MaxPooling2 (None, 4, 4, 4)           0         \n",
      "_________________________________________________________________\n",
      "conv2d_4 (Conv2D)            (None, 4, 4, 4)           148       \n",
      "_________________________________________________________________\n",
      "up_sampling2d (UpSampling2D) (None, 8, 8, 4)           0         \n",
      "_________________________________________________________________\n",
      "conv2d_5 (Conv2D)            (None, 8, 8, 8)           296       \n",
      "_________________________________________________________________\n",
      "up_sampling2d_1 (UpSampling2 (None, 16, 16, 8)         0         \n",
      "_________________________________________________________________\n",
      "conv2d_6 (Conv2D)            (None, 14, 14, 16)        1168      \n",
      "_________________________________________________________________\n",
      "up_sampling2d_2 (UpSampling2 (None, 28, 28, 16)        0         \n",
      "_________________________________________________________________\n",
      "conv2d_7 (Conv2D)            (None, 28, 28, 1)         145       \n",
      "=================================================================\n",
      "Total params: 3,369\n",
      "Trainable params: 3,369\n",
      "Non-trainable params: 0\n",
      "_________________________________________________________________\n"
     ]
    }
   ],
   "source": [
    "# AutoEncoder 모델 구성 - Input 부분\n",
    "input_shape = x_train.shape[1:]\n",
    "input_img = Input(shape=input_shape)\n",
    "\n",
    "# AutoEncoder 모델 구성 - Encoder 부분\n",
    "encode_conv_layer_1 = Conv2D(16, (3, 3), activation='relu', padding='same')\n",
    "encode_pool_layer_1 = MaxPooling2D((2, 2), padding='same')\n",
    "encode_conv_layer_2 = Conv2D(8, (3, 3), activation='relu', padding='same')\n",
    "encode_pool_layer_2 = MaxPooling2D((2, 2), padding='same')\n",
    "encode_conv_layer_3 = Conv2D(4, (3, 3), activation='relu', padding='same')\n",
    "encode_pool_layer_3 = MaxPooling2D((2, 2), padding='same')\n",
    "\n",
    "encoded = encode_conv_layer_1(input_img)\n",
    "encoded = encode_pool_layer_1(encoded)\n",
    "encoded = encode_conv_layer_2(encoded)\n",
    "encoded = encode_pool_layer_2(encoded)\n",
    "encoded = encode_conv_layer_3(encoded)\n",
    "encoded = encode_pool_layer_3(encoded)\n",
    "\n",
    "# AutoEncoder 모델 구성 - Decoder 부분\n",
    "decode_conv_layer_1 = Conv2D(4, (3, 3), activation='relu', padding='same')\n",
    "decode_upsample_layer_1 = UpSampling2D((2, 2))\n",
    "decode_conv_layer_2 = Conv2D(8, (3, 3), activation='relu', padding='same')\n",
    "decode_upsample_layer_2 = UpSampling2D((2, 2))\n",
    "decode_conv_layer_3 = Conv2D(16, (3, 3), activation='relu')\n",
    "decode_upsample_layer_3 = UpSampling2D((2, 2))\n",
    "decode_conv_layer_4 = Conv2D(1, (3, 3), activation='sigmoid', padding='same')\n",
    "\n",
    "decoded = decode_conv_layer_1(encoded)   # Decoder는 Encoder의 출력을 입력으로 받습니다.\n",
    "decoded = decode_upsample_layer_1(decoded)\n",
    "decoded = decode_conv_layer_2(decoded)\n",
    "decoded = decode_upsample_layer_2(decoded)\n",
    "decoded = decode_conv_layer_3(decoded)\n",
    "decoded = decode_upsample_layer_3(decoded)\n",
    "decoded = decode_conv_layer_4(decoded)\n",
    "\n",
    "# AutoEncoder 모델 정의\n",
    "autoencoder=Model(input_img, decoded)\n",
    "autoencoder.summary()"
   ]
  },
  {
   "cell_type": "code",
   "execution_count": 8,
   "metadata": {},
   "outputs": [
    {
     "name": "stdout",
     "output_type": "stream",
     "text": [
      "Epoch 1/50\n",
      "235/235 [==============================] - 27s 113ms/step - loss: 0.6965 - val_loss: 0.6961\n",
      "Epoch 2/50\n",
      "235/235 [==============================] - 4s 18ms/step - loss: 0.6956 - val_loss: 0.6952\n",
      "Epoch 3/50\n",
      "235/235 [==============================] - 4s 16ms/step - loss: 0.6947 - val_loss: 0.6942\n",
      "Epoch 4/50\n",
      "235/235 [==============================] - 4s 16ms/step - loss: 0.6938 - val_loss: 0.6933\n",
      "Epoch 5/50\n",
      "235/235 [==============================] - 4s 16ms/step - loss: 0.6927 - val_loss: 0.6922\n",
      "Epoch 6/50\n",
      "235/235 [==============================] - 4s 16ms/step - loss: 0.6916 - val_loss: 0.6909\n",
      "Epoch 7/50\n",
      "235/235 [==============================] - 4s 16ms/step - loss: 0.6902 - val_loss: 0.6896\n",
      "Epoch 8/50\n",
      "235/235 [==============================] - 4s 17ms/step - loss: 0.6888 - val_loss: 0.6881\n",
      "Epoch 9/50\n",
      "235/235 [==============================] - 4s 19ms/step - loss: 0.6874 - val_loss: 0.6866\n",
      "Epoch 10/50\n",
      "235/235 [==============================] - 4s 16ms/step - loss: 0.6858 - val_loss: 0.6850\n",
      "Epoch 11/50\n",
      "235/235 [==============================] - 4s 16ms/step - loss: 0.6841 - val_loss: 0.6832\n",
      "Epoch 12/50\n",
      "235/235 [==============================] - 4s 16ms/step - loss: 0.6822 - val_loss: 0.6812\n",
      "Epoch 13/50\n",
      "235/235 [==============================] - 4s 16ms/step - loss: 0.6800 - val_loss: 0.6789\n",
      "Epoch 14/50\n",
      "235/235 [==============================] - 4s 16ms/step - loss: 0.6776 - val_loss: 0.6762\n",
      "Epoch 15/50\n",
      "235/235 [==============================] - 4s 16ms/step - loss: 0.6745 - val_loss: 0.6729\n",
      "Epoch 16/50\n",
      "235/235 [==============================] - 4s 16ms/step - loss: 0.6708 - val_loss: 0.6688\n",
      "Epoch 17/50\n",
      "235/235 [==============================] - 4s 17ms/step - loss: 0.6661 - val_loss: 0.6634\n",
      "Epoch 18/50\n",
      "235/235 [==============================] - 5s 22ms/step - loss: 0.6600 - val_loss: 0.6565\n",
      "Epoch 19/50\n",
      "235/235 [==============================] - 4s 19ms/step - loss: 0.6519 - val_loss: 0.6473\n",
      "Epoch 20/50\n",
      "235/235 [==============================] - 4s 18ms/step - loss: 0.6412 - val_loss: 0.6349\n",
      "Epoch 21/50\n",
      "235/235 [==============================] - 5s 19ms/step - loss: 0.6265 - val_loss: 0.6179\n",
      "Epoch 22/50\n",
      "235/235 [==============================] - 4s 17ms/step - loss: 0.6065 - val_loss: 0.5948\n",
      "Epoch 23/50\n",
      "235/235 [==============================] - 4s 17ms/step - loss: 0.5795 - val_loss: 0.5641\n",
      "Epoch 24/50\n",
      "235/235 [==============================] - 4s 16ms/step - loss: 0.5448 - val_loss: 0.5261\n",
      "Epoch 25/50\n",
      "235/235 [==============================] - 4s 17ms/step - loss: 0.5043 - val_loss: 0.4851\n",
      "Epoch 26/50\n",
      "235/235 [==============================] - 4s 16ms/step - loss: 0.4647 - val_loss: 0.4494\n",
      "Epoch 27/50\n",
      "235/235 [==============================] - 4s 17ms/step - loss: 0.4344 - val_loss: 0.4260\n",
      "Epoch 28/50\n",
      "235/235 [==============================] - 4s 16ms/step - loss: 0.4168 - val_loss: 0.4145\n",
      "Epoch 29/50\n",
      "235/235 [==============================] - 4s 16ms/step - loss: 0.4088 - val_loss: 0.4098\n",
      "Epoch 30/50\n",
      "235/235 [==============================] - 4s 17ms/step - loss: 0.4054 - val_loss: 0.4076\n",
      "Epoch 31/50\n",
      "235/235 [==============================] - 4s 16ms/step - loss: 0.4036 - val_loss: 0.4064\n",
      "Epoch 32/50\n",
      "235/235 [==============================] - 4s 16ms/step - loss: 0.4025 - val_loss: 0.4053\n",
      "Epoch 33/50\n",
      "235/235 [==============================] - 4s 17ms/step - loss: 0.4015 - val_loss: 0.4045\n",
      "Epoch 34/50\n",
      "235/235 [==============================] - 4s 16ms/step - loss: 0.4007 - val_loss: 0.4038\n",
      "Epoch 35/50\n",
      "235/235 [==============================] - 4s 17ms/step - loss: 0.4001 - val_loss: 0.4033\n",
      "Epoch 36/50\n",
      "235/235 [==============================] - 4s 17ms/step - loss: 0.3996 - val_loss: 0.4029\n",
      "Epoch 37/50\n",
      "235/235 [==============================] - 4s 16ms/step - loss: 0.3992 - val_loss: 0.4025\n",
      "Epoch 38/50\n",
      "235/235 [==============================] - 4s 16ms/step - loss: 0.3989 - val_loss: 0.4022\n",
      "Epoch 39/50\n",
      "235/235 [==============================] - 4s 16ms/step - loss: 0.3985 - val_loss: 0.4018\n",
      "Epoch 40/50\n",
      "235/235 [==============================] - 4s 16ms/step - loss: 0.3981 - val_loss: 0.4014\n",
      "Epoch 41/50\n",
      "235/235 [==============================] - 4s 16ms/step - loss: 0.3978 - val_loss: 0.4011\n",
      "Epoch 42/50\n",
      "235/235 [==============================] - 4s 17ms/step - loss: 0.3974 - val_loss: 0.4007\n",
      "Epoch 43/50\n",
      "235/235 [==============================] - 4s 18ms/step - loss: 0.3970 - val_loss: 0.4003\n",
      "Epoch 44/50\n",
      "235/235 [==============================] - 5s 20ms/step - loss: 0.3966 - val_loss: 0.3999\n",
      "Epoch 45/50\n",
      "235/235 [==============================] - 4s 17ms/step - loss: 0.3962 - val_loss: 0.3994\n",
      "Epoch 46/50\n",
      "235/235 [==============================] - 4s 18ms/step - loss: 0.3957 - val_loss: 0.3990\n",
      "Epoch 47/50\n",
      "235/235 [==============================] - 5s 19ms/step - loss: 0.3952 - val_loss: 0.3985\n",
      "Epoch 48/50\n",
      "235/235 [==============================] - 5s 22ms/step - loss: 0.3948 - val_loss: 0.3980\n",
      "Epoch 49/50\n",
      "235/235 [==============================] - 4s 16ms/step - loss: 0.3943 - val_loss: 0.3975\n",
      "Epoch 50/50\n",
      "235/235 [==============================] - 6s 24ms/step - loss: 0.3937 - val_loss: 0.3969\n"
     ]
    },
    {
     "data": {
      "text/plain": [
       "<tensorflow.python.keras.callbacks.History at 0x7f3d7465e750>"
      ]
     },
     "execution_count": 8,
     "metadata": {},
     "output_type": "execute_result"
    }
   ],
   "source": [
    "autoencoder.compile(optimizer='adadelta', loss='binary_crossentropy')\n",
    "\n",
    "autoencoder.fit(x_train, x_train,\n",
    "                epochs=50,\n",
    "                batch_size=256,\n",
    "                shuffle=True,\n",
    "                validation_data=(x_test, x_test))"
   ]
  },
  {
   "cell_type": "code",
   "execution_count": 9,
   "metadata": {},
   "outputs": [
    {
     "data": {
      "image/png": "[encoded data removed]",
      "text/plain": [
       "<Figure size 864x360 with 20 Axes>"
      ]
     },
     "metadata": {
      "needs_background": "light"
     },
     "output_type": "display_data"
    }
   ],
   "source": [
    "x_test_10 = x_test[:10]       # 테스트 데이터셋에서 10개만 골라서\n",
    "x_test_hat = autoencoder.predict(x_test_10)    # AutoEncoder 모델의 이미지 복원생성\n",
    "x_test_imgs = x_test_10.reshape(-1, 28, 28)\n",
    "x_test_hat_imgs = x_test_hat.reshape(-1, 28, 28)\n",
    "\n",
    "plt.figure(figsize=(12,5))  # 이미지 사이즈 지정\n",
    "for i in range(10):  \n",
    "    # 원본이미지 출력\n",
    "    plt.subplot(2, 10, i+1)\n",
    "    plt.imshow(x_test_imgs[i])\n",
    "    # 생성된 이미지 출력\n",
    "    plt.subplot(2, 10, i+11)\n",
    "    plt.imshow(x_test_hat_imgs[i])"
   ]
  },
  {
   "cell_type": "markdown",
   "metadata": {},
   "source": [
    "#### Decoder Layers for Reconstruction\n",
    "- Decoder에서 이미지 복원을 위해 사용했던 Convolution 레이어는 실은 Encoder에서 사용했던 것과 동일한 레이어\n",
    "- 크기도 변하지 않은 채 채널 개수만 2배로 늘리고 있는 것이다.\n",
    "- Convolution 레이어를 거쳐 정보가 집약되는 것이 아니라 오히려 정보량이 많아지고 있다."
   ]
  },
  {
   "cell_type": "markdown",
   "metadata": {},
   "source": [
    "이것은 Convolution의 수학적 역연산으로서의 Deconvolution과는 다릅니다. 오히려 정방향의 Convolution 연산을 통해 원본 이미지와 가까운 이미지를 재생해 내는 효과를 구현한 것입니다. 하지만 Convolution을 통해 Output shape가 줄어드는 것이 얼마든지 가능하듯, 늘어나는 것도 얼마든지 가능합니다. 단지 우리의 AutoEncoder 구조가 얼마나 정보손실 없이 원본 데이터를 잘 압축하고 있느냐에 따라 Decoder가 뽑아낼 수 있는 최종적인 이미지의 퀄리티가 결정됩니다."
   ]
  },
  {
   "cell_type": "markdown",
   "metadata": {},
   "source": [
    "#### Upsampling 레이어\n",
    "- Max pooling 레이어를 통해 Downsampling을 시도해 왔다면, 이제 Upsampling 레이어를 통해 그 반대 작업을 수행하게 된다.\n",
    "    - Nearest Neighbor : 복원해야 할 값을 가까운 값으로 복제한다.\n",
    "    - Bed of Nails : 복원해야 할 값을 0으로 처리한다.\n",
    "    - Max Unpooling : Max Pooling 때 버린 값을 실은 따로 기억해 두었다가 그 값으로 복원한다."
   ]
  },
  {
   "cell_type": "code",
   "execution_count": 10,
   "metadata": {},
   "outputs": [
    {
     "ename": "NameError",
     "evalue": "name 'Conv2DTranspose' is not defined",
     "output_type": "error",
     "traceback": [
      "\u001b[0;31m---------------------------------------------------------------------------\u001b[0m",
      "\u001b[0;31mNameError\u001b[0m                                 Traceback (most recent call last)",
      "\u001b[0;32m<ipython-input-10-ded965ae27c5>\u001b[0m in \u001b[0;36m<module>\u001b[0;34m\u001b[0m\n\u001b[1;32m     18\u001b[0m \u001b[0;34m\u001b[0m\u001b[0m\n\u001b[1;32m     19\u001b[0m \u001b[0;31m# AutoEncoder 모델 구성 - Decoder 부분  -\u001b[0m\u001b[0;34m\u001b[0m\u001b[0;34m\u001b[0m\u001b[0;34m\u001b[0m\u001b[0m\n\u001b[0;32m---> 20\u001b[0;31m \u001b[0mdecode_conv_layer_1\u001b[0m \u001b[0;34m=\u001b[0m \u001b[0mConv2DTranspose\u001b[0m\u001b[0;34m(\u001b[0m\u001b[0;36m4\u001b[0m\u001b[0;34m,\u001b[0m \u001b[0;34m(\u001b[0m\u001b[0;36m3\u001b[0m\u001b[0;34m,\u001b[0m \u001b[0;36m3\u001b[0m\u001b[0;34m)\u001b[0m\u001b[0;34m,\u001b[0m \u001b[0mactivation\u001b[0m\u001b[0;34m=\u001b[0m\u001b[0;34m'relu'\u001b[0m\u001b[0;34m,\u001b[0m \u001b[0mpadding\u001b[0m\u001b[0;34m=\u001b[0m\u001b[0;34m'same'\u001b[0m\u001b[0;34m)\u001b[0m\u001b[0;34m\u001b[0m\u001b[0;34m\u001b[0m\u001b[0m\n\u001b[0m\u001b[1;32m     21\u001b[0m \u001b[0mdecode_upsample_layer_1\u001b[0m \u001b[0;34m=\u001b[0m \u001b[0mUpSampling2D\u001b[0m\u001b[0;34m(\u001b[0m\u001b[0;34m(\u001b[0m\u001b[0;36m2\u001b[0m\u001b[0;34m,\u001b[0m \u001b[0;36m2\u001b[0m\u001b[0;34m)\u001b[0m\u001b[0;34m)\u001b[0m\u001b[0;34m\u001b[0m\u001b[0;34m\u001b[0m\u001b[0m\n\u001b[1;32m     22\u001b[0m \u001b[0mdecode_conv_layer_2\u001b[0m \u001b[0;34m=\u001b[0m \u001b[0mConv2DTranspose\u001b[0m\u001b[0;34m(\u001b[0m\u001b[0;36m8\u001b[0m\u001b[0;34m,\u001b[0m \u001b[0;34m(\u001b[0m\u001b[0;36m3\u001b[0m\u001b[0;34m,\u001b[0m \u001b[0;36m3\u001b[0m\u001b[0;34m)\u001b[0m\u001b[0;34m,\u001b[0m \u001b[0mactivation\u001b[0m\u001b[0;34m=\u001b[0m\u001b[0;34m'relu'\u001b[0m\u001b[0;34m,\u001b[0m \u001b[0mpadding\u001b[0m\u001b[0;34m=\u001b[0m\u001b[0;34m'same'\u001b[0m\u001b[0;34m)\u001b[0m\u001b[0;34m\u001b[0m\u001b[0;34m\u001b[0m\u001b[0m\n",
      "\u001b[0;31mNameError\u001b[0m: name 'Conv2DTranspose' is not defined"
     ]
    }
   ],
   "source": [
    "# Conv2DTranspose를 활용한  AutoEncoder 모델\n",
    "# AutoEncoder 모델 구성 - Input 부분\n",
    "input_shape = x_train.shape[1:]\n",
    "input_img = Input(shape=input_shape)\n",
    "\n",
    "# AutoEncoder 모델 구성 - Encoder 부분\n",
    "encode_conv_layer_1 = Conv2D(16, (3, 3), activation='relu')\n",
    "encode_pool_layer_1 = MaxPooling2D((2, 2))\n",
    "encode_conv_layer_2 = Conv2D(8, (3, 3), activation='relu')\n",
    "encode_pool_layer_2 = MaxPooling2D((2, 2))\n",
    "encode_conv_layer_3 = Conv2D(4, (3, 3), activation='relu')\n",
    "\n",
    "encoded = encode_conv_layer_1(input_img)\n",
    "encoded = encode_pool_layer_1(encoded)\n",
    "encoded = encode_conv_layer_2(encoded)\n",
    "encoded = encode_pool_layer_2(encoded)\n",
    "encoded = encode_conv_layer_3(encoded)\n",
    "\n",
    "# AutoEncoder 모델 구성 - Decoder 부분  - \n",
    "decode_conv_layer_1 = Conv2DTranspose(4, (3, 3), activation='relu', padding='same')\n",
    "decode_upsample_layer_1 = UpSampling2D((2, 2))\n",
    "decode_conv_layer_2 = Conv2DTranspose(8, (3, 3), activation='relu', padding='same')\n",
    "decode_upsample_layer_2 = UpSampling2D((2, 2))\n",
    "decode_conv_layer_3 = Conv2DTranspose(16, (3, 3), activation='relu')\n",
    "decode_upsample_layer_3 = UpSampling2D((2, 2))\n",
    "decode_conv_layer_4 = Conv2DTranspose(1, (3, 3), activation='sigmoid', padding='same')\n",
    "\n",
    "decoded = decode_conv_layer_1(encoded)   # Decoder는 Encoder의 출력을 입력으로 받습니다.\n",
    "decoded = decode_upsample_layer_1(decoded)\n",
    "decoded = decode_conv_layer_2(decoded)\n",
    "decoded = decode_upsample_layer_2(decoded)\n",
    "decoded = decode_conv_layer_3(decoded)\n",
    "decoded = decode_upsample_layer_3(decoded)\n",
    "decoded = decode_conv_layer_4(decoded)\n",
    "\n",
    "# AutoEncoder 모델 정의\n",
    "autoencoder=Model(input_img, decoded)\n",
    "autoencoder.summary()"
   ]
  }
 ],
 "metadata": {
  "kernelspec": {
   "display_name": "Python 3",
   "language": "python",
   "name": "python3"
  },
  "language_info": {
   "codemirror_mode": {
    "name": "ipython",
    "version": 3
   },
   "file_extension": ".py",
   "mimetype": "text/x-python",
   "name": "python",
   "nbconvert_exporter": "python",
   "pygments_lexer": "ipython3",
   "version": "3.7.6"
  }
 },
 "nbformat": 4,
 "nbformat_minor": 4
}
