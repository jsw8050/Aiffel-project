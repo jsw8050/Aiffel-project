{
 "cells": [
  {
   "cell_type": "markdown",
   "metadata": {},
   "source": [
    "### 1. 미분"
   ]
  },
  {
   "cell_type": "code",
   "execution_count": 1,
   "metadata": {},
   "outputs": [
    {
     "name": "stdout",
     "output_type": "stream",
     "text": [
      "Requirement already satisfied: sympy in /home/aiffel0047/anaconda3/envs/aiffel/lib/python3.7/site-packages (1.6.1)\n",
      "Requirement already satisfied: mpmath>=0.19 in /home/aiffel0047/anaconda3/envs/aiffel/lib/python3.7/site-packages (from sympy) (1.1.0)\n",
      "Note: you may need to restart the kernel to use updated packages.\n"
     ]
    }
   ],
   "source": [
    "# pip install sympy \n",
    "# 일반적으로 파이썬에서 미분할 때 sympy 라이브러리가 필요하지만 aiffel에는 이미 설치되어 있음"
   ]
  },
  {
   "cell_type": "markdown",
   "metadata": {},
   "source": [
    "- 평균 변화율 공식을 통해 함수의 평균변화율을 구할 수 있다.\n",
    "- 두 점의 평균 변화율은 두 점을 지나는 직선의 기울기와 같다.\n",
    "\n",
    "$(f(b) - f(a)) / (b - a)$"
   ]
  },
  {
   "cell_type": "markdown",
   "metadata": {},
   "source": [
    "### 1.1 평균 변화율 구하는 함수"
   ]
  },
  {
   "cell_type": "code",
   "execution_count": 2,
   "metadata": {},
   "outputs": [
    {
     "name": "stdout",
     "output_type": "stream",
     "text": [
      "4\n"
     ]
    }
   ],
   "source": [
    "from sympy import symbols\n",
    "\n",
    "def average(a,b):\n",
    "    m = max(a,b)\n",
    "    n = min(a,b)\n",
    "    \n",
    "    x = symbols('x')   #기호 변수 선언\n",
    "    \n",
    "    fx = x**2 + 2*x + 4   #함수 정의\n",
    "    fb = fx.subs(x,m)   #함수에 m 대입\n",
    "    fa = fx.subs(x,n)   #함수에 n 대입\n",
    "    \n",
    "    result = (fb - fa) / (b - a)\n",
    "    return result\n",
    "\n",
    "print(average(0, 2))"
   ]
  },
  {
   "cell_type": "markdown",
   "metadata": {},
   "source": [
    "### 1.2 미분계수\n",
    "\n",
    "- 함수 f(x)의 한 점 a에서의 순간변화율은 a점 접선의 기울기이다.\n",
    "- f(x)를 미분하여 얻은 함수: 도함수\n",
    "- 도함수: f(x) 그래프 기울기의 순간적인 변화율 나타낸다.\n",
    "- 도함수를 구한 후 a를 대입하면 a점에서의 순간 변화율 구할 수 있다."
   ]
  },
  {
   "cell_type": "code",
   "execution_count": null,
   "metadata": {},
   "outputs": [],
   "source": [
    "from sympy import Derivative, symbols\n",
    "\n",
    "x = symbols('x')\n",
    "fx = 4*"
   ]
  }
 ],
 "metadata": {
  "kernelspec": {
   "display_name": "aiffel",
   "language": "python",
   "name": "aiffel"
  },
  "language_info": {
   "codemirror_mode": {
    "name": "ipython",
    "version": 3
   },
   "file_extension": ".py",
   "mimetype": "text/x-python",
   "name": "python",
   "nbconvert_exporter": "python",
   "pygments_lexer": "ipython3",
   "version": "3.7.6"
  }
 },
 "nbformat": 4,
 "nbformat_minor": 4
}
