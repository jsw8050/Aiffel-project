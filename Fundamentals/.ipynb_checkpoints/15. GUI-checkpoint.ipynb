{
 "cells": [
  {
   "cell_type": "code",
   "execution_count": 9,
   "metadata": {},
   "outputs": [
    {
     "name": "stdout",
     "output_type": "stream",
     "text": [
      "코드 실행 중..🛸\n",
      "완료!\n"
     ]
    }
   ],
   "source": [
    "from tkinter import *\n",
    "import tkinter.ttk as ttk\n",
    "from googletrans import Translator\n",
    "\n",
    "print('코드 실행 중..🛸')\n",
    "window = Tk()\n",
    "window.title(\"나의 구글 번역기\")\n",
    "\n",
    "window.geometry(\"1024x512\")\n",
    "\n",
    "label1 = Label(window, text='번역전')\n",
    "label2 = Label(window, text='번역후')\n",
    "label1.grid(row=0, column=0, padx=20, pady=10)\n",
    "label2.grid(row=0, column=2, padx=20, pady=10)\n",
    "\n",
    "combo = ttk.Combobox(window, width=10)\n",
    "combo['values'] = ('en', 'ko', 'ja')\n",
    "combo.current(0)\n",
    "combo.grid(row=0, column=1)\n",
    "\n",
    "text1 = Text(window, width=60, height=40)\n",
    "text2 = Text(window, width=60, height=40)\n",
    "text1.grid(row=1, column=0, padx=20, pady=10)\n",
    "text2.grid(row=1, column=2, padx=20, pady=10)\n",
    "\n",
    "def translate(input_str, lang='en'):\n",
    "    translator = Translator()\n",
    "    result = translator.translate(input_str, dest=lang)\n",
    "    return result.text\n",
    "\n",
    "def click():\n",
    "    intput_str = text1.get(\"1.0\",\"end\")\n",
    "    lang=combo.get()\n",
    "    output_str = translate(intput_str, lang=lang)\n",
    "    text2.delete(1.0, \"end\")\n",
    "    text2.insert(\"end\", output_str)\n",
    "    \n",
    "action = ttk.Button(window, text=\"번역\", command=click)   \n",
    "action.grid(row=1, column=1)\n",
    "\n",
    "window.mainloop()\n",
    "print('완료!')"
   ]
  }
 ],
 "metadata": {
  "kernelspec": {
   "display_name": "aiffel",
   "language": "python",
   "name": "aiffel"
  },
  "language_info": {
   "codemirror_mode": {
    "name": "ipython",
    "version": 3
   },
   "file_extension": ".py",
   "mimetype": "text/x-python",
   "name": "python",
   "nbconvert_exporter": "python",
   "pygments_lexer": "ipython3",
   "version": "3.7.6"
  }
 },
 "nbformat": 4,
 "nbformat_minor": 4
}
