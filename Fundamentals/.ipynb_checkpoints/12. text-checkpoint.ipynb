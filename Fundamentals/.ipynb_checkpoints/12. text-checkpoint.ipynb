{
 "cells": [
  {
   "cell_type": "markdown",
   "metadata": {},
   "source": [
    "### 1. 파이썬 문자열은 유니코드\n",
    "파이썬 3부터 유니코드 규약에 따른다."
   ]
  },
  {
   "cell_type": "markdown",
   "metadata": {},
   "source": [
    "#### 1-1. 파이썬 내장함수 \n",
    "- ord() : 해당 문자에 대응하는 유니코드 숫자를 반환합니다.\n",
    "- chr() : 해당 유니코드 숫자에 대응하는 문자를 반환합니다."
   ]
  },
  {
   "cell_type": "markdown",
   "metadata": {},
   "source": [
    "#### 1-2. 이스케이프 문자\n",
    "- $\\'$ : 홑따옴표 '\n",
    "- $\\\"$ : 겹따옴표 \"\n",
    "- \\t : 탭\n",
    "- \\n : 줄바꿈\n",
    "- \\\\ : 백슬래시 \\\n",
    "\n",
    "\n",
    "**원시 문자열**\n",
    "- 이스케이프 문자 무시하고 싶을 때: r'문자열'"
   ]
  },
  {
   "cell_type": "code",
   "execution_count": 1,
   "metadata": {},
   "outputs": [
    {
     "name": "stdout",
     "output_type": "stream",
     "text": [
      "Please don't touch it\n",
      "Please don\\'t touch it\n"
     ]
    }
   ],
   "source": [
    "#- 예제 코드2\n",
    "print('Please don\\'t touch it')\n",
    "print(r'Please don\\'t touch it')"
   ]
  },
  {
   "cell_type": "markdown",
   "metadata": {},
   "source": [
    "#### 1-3. startswith, endswith"
   ]
  },
  {
   "cell_type": "code",
   "execution_count": 2,
   "metadata": {},
   "outputs": [
    {
     "data": {
      "text/plain": [
       "['OB94382', 'OB32308', 'OB83461', 'OB74830', 'OB82345']"
      ]
     },
     "execution_count": 2,
     "metadata": {},
     "output_type": "execute_result"
    }
   ],
   "source": [
    "EmployeeID = ['OB94382', 'OW34723', 'OB32308', 'OB83461', \n",
    "                                  'OB74830', 'OW37402', 'OW11235', 'OB82345'] \n",
    "Production_Employee = [P for P in EmployeeID if P.startswith('OB')]   # 'OB'로 시작하는 직원 ID를 다 찾아봅니다\n",
    "Production_Employee"
   ]
  },
  {
   "cell_type": "code",
   "execution_count": 3,
   "metadata": {},
   "outputs": [
    {
     "name": "stdout",
     "output_type": "stream",
     "text": [
      "['스크린샷, 2020-07-31 16-06-51.png', '스크린샷, 2020-07-31 16-01-32.png', '스크린샷, 2020-07-31 15-55-33.png', '스크린샷, 2020-07-31 16-10-00.png', '스크린샷, 2020-07-31 16-15-42.png', '스크린샷, 2020-07-31 16-06-28.png', '스크린샷, 2020-07-31 16-07-06.png', '스크린샷, 2020-07-24 09-58-26.png', '스크린샷, 2020-07-31 16-07-00.png', '스크린샷, 2020-07-27 15-44-57.png', '스크린샷, 2020-07-29 17-37-25.png']\n"
     ]
    }
   ],
   "source": [
    "import os\n",
    "image_dir_path = os.getenv(\"HOME\") + \"/Pictures\"   \n",
    "#- 각자의 사진이 보관된 디렉토리를 골라 주세요.\n",
    "photo = os.listdir(image_dir_path )\n",
    "png = [png for png in photo if png.endswith('.png')]\n",
    "print(png)"
   ]
  },
  {
   "cell_type": "markdown",
   "metadata": {},
   "source": [
    "#### 1-4. 공백 문자 처리: trimming\n",
    "- $\\r$ : 커서를 맨 앞으로 이동시키는 것"
   ]
  },
  {
   "cell_type": "code",
   "execution_count": 4,
   "metadata": {},
   "outputs": [
    {
     "name": "stdout",
     "output_type": "stream",
     "text": [
      "사회적 거리두기\n",
      "--------------------------\n",
      "사회적\t거리두기\n",
      "--------------------------\n",
      "사회적\n",
      "거리두기\n",
      "--------------------------\n",
      "사회적\r",
      "거리두기\n"
     ]
    }
   ],
   "source": [
    "print(\"사회적 거리두기\")\n",
    "print('--------------------------')\n",
    "print(\"사회적\\t거리두기\")\n",
    "print('--------------------------')\n",
    "print(\"사회적\\n거리두기\")\n",
    "print('--------------------------')\n",
    "print(\"사회적\\r거리두기\")"
   ]
  },
  {
   "cell_type": "markdown",
   "metadata": {},
   "source": [
    "#### 1-5. 공백 문자 제거"
   ]
  },
  {
   "cell_type": "code",
   "execution_count": 5,
   "metadata": {
    "scrolled": true
   },
   "outputs": [
    {
     "name": "stdout",
     "output_type": "stream",
     "text": [
      "[      Strip white spaces.      ]\n",
      "--------------------------\n",
      "[Strip white spaces.]\n",
      "--------------------------\n",
      "[Strip white spaces.      ]\n",
      "--------------------------\n",
      "[      Strip white spaces.]\n"
     ]
    }
   ],
   "source": [
    "#txt = \"      공백 문자를 제거해 보아요.      \"\n",
    "txt = \"      Strip white spaces.      \"\n",
    "print('[{}]'.format(txt))\n",
    "print('--------------------------')\n",
    "\n",
    "#- 양쪽 공백 제거 : strip()\n",
    "print('[{}]'.format(txt.strip()))\n",
    "print('--------------------------')\n",
    "\n",
    "#- 왼쪽 공백 제거 : lstrip()\n",
    "print('[{}]'.format(txt.lstrip()))\n",
    "print('--------------------------')\n",
    "\n",
    "#- 오른쪽 공백 제거 : rstrip()\n",
    "print('[{}]'.format(txt.rstrip()))"
   ]
  },
  {
   "cell_type": "markdown",
   "metadata": {},
   "source": [
    "#### 1-6. 대소문자\n",
    "- upper() : 모든 문자를 대문자로 변환합니다.\n",
    "- lower() : 모든 문자를 소문자로 변환합니다.\n",
    "- capitalize() : 첫 글자만 대문자로 변환합니다."
   ]
  },
  {
   "cell_type": "markdown",
   "metadata": {},
   "source": [
    "#### 1-7. isX\n",
    "- isupper() : 문자열이 모두 대문자로만 되어 있으면 True, 그렇지 않으면 False를 반환\n",
    "- islower() : 문자열이 모두 소문자로만 되어 있으면 True, 그렇지 않으면 False를 반환\n",
    "- istitle(): 문자열의 첫 글자만 대문자로 되어 있으면 True, 그렇지 않으면 False를 반환\n",
    "- isalpha(): 문자열이 모두 알파벳 문자로만 되어 있으면 True, 그렇지 않으면 False를 반환\n",
    "- isalnum(): 문자열이 모두 알파벳 문자와 숫자로만 되어 있으면 True, 그렇지 않으면 False를 반환\n",
    "- isdecimal(): 문자열이 모두 숫자로만 되어 있으면 True, 그렇지 않으면 False를 반환"
   ]
  },
  {
   "cell_type": "markdown",
   "metadata": {},
   "source": [
    "#### 1-8. join() & split()\n",
    "- join()은 인자로 반복가능한 객체 받는 메소드. 각각의 원소를 모아 하나의 문자열로 합쳐준다."
   ]
  },
  {
   "cell_type": "code",
   "execution_count": 7,
   "metadata": {},
   "outputs": [
    {
     "data": {
      "text/plain": [
       "'fundamentals,exploration,goingdeeper'"
      ]
     },
     "execution_count": 7,
     "metadata": {},
     "output_type": "execute_result"
    }
   ],
   "source": [
    "#- join()\n",
    "stages = ['fundamentals', 'exploration', 'goingdeeper']\n",
    "\",\".join(stages)"
   ]
  },
  {
   "cell_type": "markdown",
   "metadata": {},
   "source": [
    "- split()은 하나의 문자열을 구분자를 기준으로 나눈다. split()은 리스트를 반환하고 joint()은 문자열 반환"
   ]
  },
  {
   "cell_type": "code",
   "execution_count": 9,
   "metadata": {},
   "outputs": [
    {
     "data": {
      "text/plain": [
       "['fundamentals', 'exploration', 'goingdeeper']"
      ]
     },
     "execution_count": 9,
     "metadata": {},
     "output_type": "execute_result"
    }
   ],
   "source": [
    "#- split()\n",
    "'fundamentals,exploration,goingdeeper'.split(',')"
   ]
  },
  {
   "cell_type": "markdown",
   "metadata": {},
   "source": [
    "### 2. 정규표현식\n",
    "- 텍스트 데이터를 문자열로 저장\n",
    "- 찾고자 하는 문자열 패턴을 정의하고 기존 문자열과 일치하는지를 비교"
   ]
  },
  {
   "cell_type": "code",
   "execution_count": 10,
   "metadata": {},
   "outputs": [
    {
     "data": {
      "text/plain": [
       "'You can do it!'"
      ]
     },
     "execution_count": 10,
     "metadata": {},
     "output_type": "execute_result"
    }
   ],
   "source": [
    "import re\n",
    "sent = 'I can do it!'\n",
    "pattern = re.sub(\"I\", \"You\", sent)\n",
    "pattern"
   ]
  },
  {
   "cell_type": "markdown",
   "metadata": {},
   "source": [
    "#### 2-1. Compile()\n",
    "정규 표현식:\n",
    "\n",
    "1) 찾고자 하는 문자열의 패턴을 정의 - 컴파일\n",
    "\n",
    "2) 정의된 패턴과 매칭되는 경우를 찾아 다양한 처리"
   ]
  },
  {
   "cell_type": "code",
   "execution_count": 11,
   "metadata": {},
   "outputs": [
    {
     "data": {
      "text/plain": [
       "['the', 'the', 'the']"
      ]
     },
     "execution_count": 11,
     "metadata": {},
     "output_type": "execute_result"
    }
   ],
   "source": [
    "#1단계 :  \"the\"라는 패턴을 컴파일한 후 패턴 객체를 리턴합니다.\n",
    "pattern = re.compile(\"the\")    \n",
    "\n",
    "# 2단계 : 컴파일된 패턴 객체를 활용하여 다른 텍스트에서 검색을 수행합니다.\n",
    "pattern.findall('of the people, for the people, by the people')"
   ]
  },
  {
   "cell_type": "markdown",
   "metadata": {},
   "source": [
    "#### 2-2. 메소드\n",
    "- search() : 일치하는 패턴 찾기 * 일치 패턴이 있으면 MatchObject를 반환합니다.\n",
    "- match() : search()와 비슷하지만, 패턴이 검색대상에 처음부터 일치해야 합니다.\n",
    "- findall() : 일치하는 모든 패턴 찾기 * 모든 일치 패턴을 리스트에 담아서 반환합니다.\n",
    "- split() : 패턴으로 나누기\n",
    "- sub() : 일치하는 패턴으로 대체하기\n",
    "- group() : 실제 결과에 해당하는 문자열을 반환합니다."
   ]
  },
  {
   "cell_type": "code",
   "execution_count": 15,
   "metadata": {},
   "outputs": [
    {
     "name": "stdout",
     "output_type": "stream",
     "text": [
      "My\n"
     ]
    }
   ],
   "source": [
    "src = \"My name is...\"\n",
    "regex = re.match(\"My\", src)\n",
    "if regex:\n",
    "    print(regex.group())\n",
    "else:\n",
    "    print(\"No!\")"
   ]
  },
  {
   "cell_type": "markdown",
   "metadata": {},
   "source": [
    "#### 2-3. 패턴\n",
    "\n",
    "- $[ ]$ : 문자\n",
    "- $-$ : 범위\n",
    "- . : 하나의 문자\n",
    "- ? : 0회 또는 1회 반복\n",
    "- * : 0회 이상 반복\n",
    "- + : 1회 이상 반복\n",
    "- {m, n} : m ~ n\n",
    "- \\d : 숫자\n",
    "- \\D : 비숫자\n",
    "- \\w : 알파벳 문자\n",
    "- \\W : 비알파벳 문자\n",
    "- \\s : 공백 문자\n",
    "- \\S : 비공백 문자\n",
    "- \\b : 단어 경계\n",
    "- \\B : 비 단어 경계"
   ]
  },
  {
   "cell_type": "markdown",
   "metadata": {},
   "source": [
    "### 3. 파일\n",
    "#### 3-1. write & read"
   ]
  },
  {
   "cell_type": "code",
   "execution_count": 17,
   "metadata": {},
   "outputs": [],
   "source": [
    "# write\n",
    "\n",
    "f = open(\"hello.txt\",\"w\") \n",
    "#- open(파일명, 파일모드)\n",
    "#- 파일을 열고 파일 객체를 반환합니다. \n",
    "for i in range(10):\n",
    "    f.write(\"안녕\")\n",
    "    #- write() 메소드로 '안녕'을 10번 씁니다.\n",
    "f.close()\n",
    "#- 작업이 끝나면 close() 메소드로 닫아줍니다. *필수!"
   ]
  },
  {
   "cell_type": "code",
   "execution_count": 19,
   "metadata": {},
   "outputs": [
    {
     "name": "stdout",
     "output_type": "stream",
     "text": [
      "안녕안녕안녕안녕안녕안녕안녕안녕안녕안녕\n"
     ]
    }
   ],
   "source": [
    "# read\n",
    "\n",
    "with open(\"hello.txt\", \"r\") as f:   # with를 통해 open된 객체는 with문이 종료될 때 자동으로 close\n",
    "  print(f.read())"
   ]
  },
  {
   "cell_type": "markdown",
   "metadata": {},
   "source": [
    "#### 3-2. 파일 관련 메소드\n",
    "f.read() : 파일을 읽는다.\n",
    "    \n",
    "f.readline() : 파일을 한 줄씩 읽는다.\n",
    "    \n",
    "f.readlines() : 파일 안의 모든 줄을 읽어 그 값을 리스트로 반환한다.\n",
    "    \n",
    "f.write(str) : 파일에 쓴다. 문자열 타입을 인자로 받는다.\n",
    "    \n",
    "f.writelines(str) : 파일에 인자를 한 줄씩 쓴다.\n",
    "    \n",
    "f.close() : 파일을 닫는다.\n",
    "    \n",
    "f.seek(offset) : 새 파일의 위치를 찾는다."
   ]
  },
  {
   "cell_type": "markdown",
   "metadata": {},
   "source": [
    "### 4. 모듈, 패키지"
   ]
  },
  {
   "cell_type": "code",
   "execution_count": 21,
   "metadata": {},
   "outputs": [
    {
     "data": {
      "text/plain": [
       "'/home/aiffel0047/anaconda3/envs/aiffel/bin/python'"
      ]
     },
     "execution_count": 21,
     "metadata": {},
     "output_type": "execute_result"
    }
   ],
   "source": [
    "#- 현재 실행되고 있는 파이썬 실행 파일의 디렉토리를 반환합니다.\n",
    "import sys\n",
    "sys.executable"
   ]
  },
  {
   "cell_type": "code",
   "execution_count": 22,
   "metadata": {},
   "outputs": [
    {
     "data": {
      "text/plain": [
       "['/home/aiffel0047/workplace/aiffel/Fundamentals',\n",
       " '/home/aiffel0047/anaconda3/envs/aiffel/lib/python37.zip',\n",
       " '/home/aiffel0047/anaconda3/envs/aiffel/lib/python3.7',\n",
       " '/home/aiffel0047/anaconda3/envs/aiffel/lib/python3.7/lib-dynload',\n",
       " '',\n",
       " '/home/aiffel0047/anaconda3/envs/aiffel/lib/python3.7/site-packages',\n",
       " '/home/aiffel0047/anaconda3/envs/aiffel/lib/python3.7/site-packages/IPython/extensions',\n",
       " '/home/aiffel0047/.ipython']"
      ]
     },
     "execution_count": 22,
     "metadata": {},
     "output_type": "execute_result"
    }
   ],
   "source": [
    "#- 임포트할 때 불러 오는 모듈들이 위치한 경로입니다.\n",
    "sys.path"
   ]
  },
  {
   "cell_type": "code",
   "execution_count": null,
   "metadata": {},
   "outputs": [],
   "source": []
  }
 ],
 "metadata": {
  "kernelspec": {
   "display_name": "aiffel",
   "language": "python",
   "name": "aiffel"
  },
  "language_info": {
   "codemirror_mode": {
    "name": "ipython",
    "version": 3
   },
   "file_extension": ".py",
   "mimetype": "text/x-python",
   "name": "python",
   "nbconvert_exporter": "python",
   "pygments_lexer": "ipython3",
   "version": "3.7.6"
  }
 },
 "nbformat": 4,
 "nbformat_minor": 4
}
