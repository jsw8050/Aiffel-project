{
 "cells": [
  {
   "cell_type": "markdown",
   "metadata": {},
   "source": [
    "### 1. 퍼포먼스 & 생산성\n",
    "\n",
    "1) 퍼포먼스(성능)\n",
    "- 실행을 시켰을 때 얼마나 빨리 처리가 되는가\n",
    "\n",
    "2) 생산성\n",
    "- 똑같은 기능을 하는 프로그램을 얼마나 빨리 작성할 수 있는가\n",
    "\n",
    "3) 언어 선택\n",
    "- 목적, 상황에 맞게\n",
    "- 회사에서 기존에 사용하고 있는 언어 먼저\n",
    "- 개발하고자 하는 프로젝트의 성능과 개발 기간 고려"
   ]
  },
  {
   "cell_type": "markdown",
   "metadata": {},
   "source": [
    "### 2. for문\n",
    "\n",
    "- 코드를 실행 시킬 때 얼마나 시간이 소요되는지 성능측정\n",
    "\n"
   ]
  },
  {
   "cell_type": "code",
   "execution_count": 5,
   "metadata": {},
   "outputs": [
    {
     "name": "stdout",
     "output_type": "stream",
     "text": [
      "time : 5.5789947509765625e-05\n"
     ]
    }
   ],
   "source": [
    "import time\n",
    "start = time.time()  # 시작 시간 저장\n",
    "\n",
    "a = 1\n",
    "for i in range(100):\n",
    "    a += 1\n",
    " \n",
    "# 작업 코드\n",
    "print(\"time :\", time.time() - start) # 결과는 '초' 단위 입니다."
   ]
  },
  {
   "cell_type": "markdown",
   "metadata": {},
   "source": [
    "#### 2-1. enumerate() 와 이중 for문"
   ]
  },
  {
   "cell_type": "code",
   "execution_count": 6,
   "metadata": {},
   "outputs": [
    {
     "name": "stdout",
     "output_type": "stream",
     "text": [
      "값 :  a\n",
      "값 :  b\n",
      "값 :  c\n",
      "값 :  d\n"
     ]
    }
   ],
   "source": [
    "my_list = ['a','b','c','d']\n",
    "\n",
    "for i in my_list:\n",
    "    print(\"값 : \", i)"
   ]
  },
  {
   "cell_type": "markdown",
   "metadata": {},
   "source": [
    "- enumerate() : 순서와 리스트의 값을 함께 반환"
   ]
  },
  {
   "cell_type": "code",
   "execution_count": 7,
   "metadata": {},
   "outputs": [
    {
     "name": "stdout",
     "output_type": "stream",
     "text": [
      "순번 :  0  , 값 :  a\n",
      "순번 :  1  , 값 :  b\n",
      "순번 :  2  , 값 :  c\n",
      "순번 :  3  , 값 :  d\n"
     ]
    }
   ],
   "source": [
    "my_list = ['a','b','c','d']\n",
    "\n",
    "for i, value in enumerate(my_list):\n",
    "    print(\"순번 : \", i, \" , 값 : \", value)"
   ]
  },
  {
   "cell_type": "markdown",
   "metadata": {},
   "source": [
    "- 이중 for문"
   ]
  },
  {
   "cell_type": "code",
   "execution_count": 8,
   "metadata": {},
   "outputs": [
    {
     "name": "stdout",
     "output_type": "stream",
     "text": [
      "[(0, 'a'), (0, 'b'), (0, 'c'), (0, 'd'), (1, 'a'), (1, 'b'), (1, 'c'), (1, 'd')]\n"
     ]
    }
   ],
   "source": [
    "my_list = ['a','b','c','d']\n",
    "result_list = []\n",
    "\n",
    "for i in range(2):\n",
    "    for j in my_list:\n",
    "        result_list.append((i, j))\n",
    "        \n",
    "print(result_list)"
   ]
  },
  {
   "cell_type": "markdown",
   "metadata": {},
   "source": [
    "#### 2-2. 리스트 컴프리헨션\n",
    "- 리스트, 셋, 딕셔너리 등 순회형 컨테이너 객체로부터 이를 가공한 새로운 리스트를 생성하는 아주 간결하고 편리한 방법"
   ]
  },
  {
   "cell_type": "code",
   "execution_count": 10,
   "metadata": {},
   "outputs": [
    {
     "name": "stdout",
     "output_type": "stream",
     "text": [
      "[(0, 'a'), (0, 'b'), (0, 'c'), (0, 'd'), (1, 'a'), (1, 'b'), (1, 'c'), (1, 'd')]\n"
     ]
    }
   ],
   "source": [
    "my_list = ['a','b','c','d']\n",
    "\n",
    "result_list = [(i, j) for i in range(2) for j in my_list]\n",
    "\n",
    "print(result_list)"
   ]
  },
  {
   "cell_type": "markdown",
   "metadata": {},
   "source": [
    "#### 2-3. 제너레이터\n",
    "- 제너레이터가 없다면 길이 1억짜리 리스트를 리턴받아 메모리에 전부 올려놓고 처리를 시작해야 한다. 그러나 제너레이터를 활용할 때는 1억개의 데이터를 전부 메모리에 올려놓을 필요가 없이 현재 처리해야 할 데이터를 1개씩 로드해서 사용할 수 있게 된다."
   ]
  },
  {
   "cell_type": "code",
   "execution_count": 11,
   "metadata": {},
   "outputs": [
    {
     "name": "stdout",
     "output_type": "stream",
     "text": [
      "0 a\n",
      ">>  1 data loaded..\n",
      "0 b\n",
      ">>  1 data loaded..\n",
      "0 c\n",
      ">>  1 data loaded..\n",
      "0 d\n",
      ">>  1 data loaded..\n",
      "1 a\n",
      ">>  1 data loaded..\n",
      "1 b\n",
      ">>  1 data loaded..\n",
      "1 c\n",
      ">>  1 data loaded..\n",
      "1 d\n",
      ">>  1 data loaded..\n"
     ]
    }
   ],
   "source": [
    "my_list = ['a','b','c','d']\n",
    "\n",
    "# 인자로 받은 리스트로부터 데이터를 하나씩 가져오는 제너레이터를 리턴하는 함수\n",
    "def get_dataset_generator(my_list):\n",
    "    result_list = []\n",
    "    for i in range(2):\n",
    "        for j in my_list:\n",
    "            yield (i, j)\n",
    "            print('>>  1 data loaded..')\n",
    "\n",
    "dataset_generator = get_dataset_generator(my_list)\n",
    "for X, y in dataset_generator:\n",
    "    print(X, y)"
   ]
  },
  {
   "cell_type": "markdown",
   "metadata": {},
   "source": [
    "### 3. Try - Except 예외 처리\n",
    "- exception: 코드를 실행하는 중에 발생한 에러\n",
    "- 예외를 무시하게 해주거나 적절한 처리를 해주게 하는 작업\n",
    "- 에러가 발생했을 경우 '에러가 바생하지 않을 값'으로 바꿔서 결과 출력"
   ]
  },
  {
   "cell_type": "code",
   "execution_count": 12,
   "metadata": {},
   "outputs": [
    {
     "name": "stdout",
     "output_type": "stream",
     "text": [
      "에러가 발생했습니다.\n"
     ]
    }
   ],
   "source": [
    "a = 10\n",
    "b = 0\n",
    "try:\n",
    "    #실행 코드\n",
    "    print(a/b)\n",
    "\n",
    "except:\n",
    "    #에러가 발생했을 때 처리하는 코드\n",
    "    print('에러가 발생했습니다.')"
   ]
  },
  {
   "cell_type": "code",
   "execution_count": 14,
   "metadata": {},
   "outputs": [
    {
     "name": "stdout",
     "output_type": "stream",
     "text": [
      "10.0\n"
     ]
    }
   ],
   "source": [
    "a = 10\n",
    "b = 1\n",
    "\n",
    "# 에러 발생 안하는 상황\n",
    "try:\n",
    "    #실행 코드\n",
    "    print(a/b)\n",
    "\n",
    "except:\n",
    "    #에러가 발생했을 때 처리하는 코드\n",
    "    print('에러가 발생했습니다.')"
   ]
  },
  {
   "cell_type": "code",
   "execution_count": 15,
   "metadata": {},
   "outputs": [
    {
     "name": "stdout",
     "output_type": "stream",
     "text": [
      "에러가 발생했습니다.\n",
      "값 수정 :  10.0\n"
     ]
    }
   ],
   "source": [
    "a = 10\n",
    "b = 0 \n",
    "\n",
    "try:\n",
    "    #실행 코드\n",
    "    print(a/b)\n",
    "\n",
    "except:\n",
    "    print('에러가 발생했습니다.')\n",
    "    #에러가 발생했을 때 처리하는 코드\n",
    "    b = b+1\n",
    "    print(\"값 수정 : \", a/b)"
   ]
  },
  {
   "cell_type": "markdown",
   "metadata": {},
   "source": [
    "### 4. 멀티프로세싱\n",
    "- 컴퓨터가 작업을 처리하는 속도를 높여주는 방법\n",
    "- 병렬 프로세싱"
   ]
  },
  {
   "cell_type": "code",
   "execution_count": 16,
   "metadata": {},
   "outputs": [
    {
     "name": "stdout",
     "output_type": "stream",
     "text": [
      "finish :  p1\n",
      "finish :  p2\n",
      "finish :  p3\n",
      "finish :  p4\n",
      "time : 5.707164764404297\n"
     ]
    }
   ],
   "source": [
    "# 순차 처리\n",
    "\n",
    "import time\n",
    "\n",
    "num_list = ['p1','p2', 'p3', 'p4']\n",
    "start = time.time()\n",
    "\n",
    "def count(name):\n",
    "    for i in range(0, 100000000):\n",
    "        a=1+2\n",
    "        \n",
    "    print(\"finish : \",name)\n",
    "\n",
    "for num in num_list:\n",
    "    count(num)\n",
    "\n",
    "print(\"time :\", time.time() - start)"
   ]
  },
  {
   "cell_type": "code",
   "execution_count": 17,
   "metadata": {},
   "outputs": [
    {
     "name": "stdout",
     "output_type": "stream",
     "text": [
      "finish :  p3\n",
      "finish :  p1\n",
      "finish :  p2\n",
      "finish :  p4\n",
      "time : 1.4167757034301758\n"
     ]
    }
   ],
   "source": [
    "# 병렬 처리\n",
    "\n",
    "import multiprocessing\n",
    "import time\n",
    "\n",
    "num_list = ['p1','p2', 'p3', 'p4']\n",
    "start = time.time()\n",
    "\n",
    "def count(name):\n",
    "    for i in range(0, 100000000):\n",
    "            a=1+2\n",
    "    print(\"finish : \",name)\n",
    "    \n",
    "\n",
    "if __name__ == '__main__':\n",
    "    pool = multiprocessing.Pool(processes = 4)\n",
    "    pool.map(count, num_list)\n",
    "    pool.close()\n",
    "    pool.join()\n",
    "\n",
    "print(\"time :\", time.time() - start)"
   ]
  },
  {
   "cell_type": "markdown",
   "metadata": {},
   "source": [
    "- 병렬 처리 시간 빠름\n",
    "- finish 순서 다름"
   ]
  },
  {
   "cell_type": "code",
   "execution_count": null,
   "metadata": {},
   "outputs": [],
   "source": [
    "# 병렬 처리 방법\n",
    "\n",
    "import multiprocessing   # 모듈 임포트\n",
    "\n",
    "def count(name):         # 병렬처리하고 싶은 함수 작성\n",
    "    for i in range(0, 100000000):\n",
    "            a=1+2\n",
    "    print(\"finish : \",name)"
   ]
  },
  {
   "cell_type": "code",
   "execution_count": 18,
   "metadata": {},
   "outputs": [
    {
     "name": "stdout",
     "output_type": "stream",
     "text": [
      "finish :  p2\n",
      "finish :  p4\n",
      "finish :  p1\n",
      "finish :  p3\n"
     ]
    }
   ],
   "source": [
    "num_list = ['p1','p2', 'p3', 'p4']\n",
    "\n",
    "if __name__ == '__main__':     # 코드 시작점을 여기로 하라는 명령어\n",
    "    pool = multiprocessing.Pool(processes = 4)  # 병렬 처리 시, 4개의 프로세스 사용하게 함\n",
    "    pool.map(count, num_list)   # 병렬화 시키는 함수, count 함수에 num_list의 원소를 하나씩 넣음, count('p1'), count('p2'), count('p3'), count('p4')\n",
    "    pool.close()     # 일반적으로 병렬화 부분이 끝나면 나옴. 더 이상 pool을 통해 새로운 작업을 추가하지 않을 때 사용\n",
    "    pool.join()      # 프로세스가 종료될 때까지 대기하도록 지시하는 구문. 병렬처리 작업이 끝날 때까지 대기"
   ]
  },
  {
   "cell_type": "markdown",
   "metadata": {},
   "source": [
    "### 5. 함수"
   ]
  },
  {
   "cell_type": "code",
   "execution_count": 23,
   "metadata": {},
   "outputs": [
    {
     "name": "stdout",
     "output_type": "stream",
     "text": [
      "최솟값, 최댓값은 :  [20, 40]\n",
      "최솟값은 :  20\n",
      "최댓값은 :  40\n"
     ]
    }
   ],
   "source": [
    "list_data = [30,20,30,40]\n",
    "\n",
    "def minmax_function(x_list):\n",
    "    def inner_min_function(x):\n",
    "        length = len(x)\n",
    "        min_result = x[0]\n",
    "        for i in range(length):\n",
    "            if min_result > x[i]:\n",
    "                min_result = x[i]\n",
    "        return min_result\n",
    "    \n",
    "    def inner_max_function(x):\n",
    "        length = len(x)\n",
    "        max_result = x[0]\n",
    "        for i in range(length):\n",
    "            if max_result < x[i]:\n",
    "                max_result = x[i]\n",
    "        return max_result\n",
    "    \n",
    "    x_min = inner_min_function(x_list)\n",
    "    x_max = inner_max_function(x_list)\n",
    "    \n",
    "    minmax_list = [x_min, x_max]\n",
    "\n",
    "    return minmax_list\n",
    "\n",
    "print(\"최솟값, 최댓값은 : \", minmax_function(list_data))\n",
    "print(\"최솟값은 : \", minmax_function(list_data)[0])\n",
    "print(\"최댓값은 : \", minmax_function(list_data)[1])"
   ]
  },
  {
   "cell_type": "markdown",
   "metadata": {},
   "source": [
    "### 6. 람다"
   ]
  },
  {
   "cell_type": "code",
   "execution_count": 25,
   "metadata": {},
   "outputs": [
    {
     "name": "stdout",
     "output_type": "stream",
     "text": [
      "30\n"
     ]
    }
   ],
   "source": [
    "def add(x, y):\n",
    "    return x + y\n",
    "print(add(10,20))"
   ]
  },
  {
   "cell_type": "code",
   "execution_count": 27,
   "metadata": {},
   "outputs": [
    {
     "name": "stdout",
     "output_type": "stream",
     "text": [
      "30\n"
     ]
    }
   ],
   "source": [
    "print( (lambda x,y: x + y)(10, 20) ) # x,y는 입력 : x+y는 리턴 (10, 20) (입력값)"
   ]
  },
  {
   "cell_type": "markdown",
   "metadata": {},
   "source": [
    "#### 6-1. map()\n",
    "- 입력받은 자료형의 각 요소가 함수에 의해 수행된 결과를 묶어서 map iterator 객체로 출력\n",
    "- map(함수, iterable 반복가능한 객체) ex: 리스트, 튜플 등\n",
    "- filter(), reduce() 와 자주 쓰임 https://wikidocs.net/64"
   ]
  },
  {
   "cell_type": "code",
   "execution_count": 28,
   "metadata": {},
   "outputs": [
    {
     "name": "stdout",
     "output_type": "stream",
     "text": [
      "[2, 4, 6]\n"
     ]
    }
   ],
   "source": [
    "def list_mul(x):\n",
    "     return x * 2\n",
    "\n",
    "result = list(map(list_mul, [1, 2, 3]))  # map() 결과는 map객체이기 때문에 보이지 않아서 list로 표현\n",
    "print(result)\n",
    "\n",
    "#map_res = map(list_mul, [1, 2, 3])\n",
    "#print(map_res)\n",
    "#list_map_res = list(map_res)\n",
    "#print(list_map_res)"
   ]
  },
  {
   "cell_type": "code",
   "execution_count": 30,
   "metadata": {},
   "outputs": [
    {
     "name": "stdout",
     "output_type": "stream",
     "text": [
      "[2, 4, 6]\n"
     ]
    }
   ],
   "source": [
    "# 맵 람다 결합\n",
    "\n",
    "result = list(map(lambda i : i*2, [1, 2, 3]))\n",
    "print(result)"
   ]
  },
  {
   "cell_type": "markdown",
   "metadata": {},
   "source": [
    "#### 6-2. reduce()\n",
    "- reduce(함수, 순서형 자료)\n",
    "- 순서형 자료의 원소들을 누적하여 함수에 적용"
   ]
  },
  {
   "cell_type": "code",
   "execution_count": 33,
   "metadata": {},
   "outputs": [
    {
     "data": {
      "text/plain": [
       "'edcba'"
      ]
     },
     "execution_count": 33,
     "metadata": {},
     "output_type": "execute_result"
    }
   ],
   "source": [
    "from functools import reduce\n",
    "reduce(lambda x, y: x+y, [0, 1, 2, 3, 4])\n",
    "reduce(lambda x, y: y+x, 'abcde')"
   ]
  },
  {
   "cell_type": "markdown",
   "metadata": {},
   "source": [
    "#### 6-3. filter()\n",
    "- filter(함수, 리스트)\n",
    "- 결과가 참인 값들로 새로운 리스트 생성"
   ]
  },
  {
   "cell_type": "code",
   "execution_count": 36,
   "metadata": {},
   "outputs": [
    {
     "data": {
      "text/plain": [
       "[1, 3, 5, 7, 9]"
      ]
     },
     "execution_count": 36,
     "metadata": {},
     "output_type": "execute_result"
    }
   ],
   "source": [
    "list(filter(lambda x: x % 2, range(10)))"
   ]
  },
  {
   "cell_type": "markdown",
   "metadata": {},
   "source": [
    "### 7. 프로그래밍 패러다임"
   ]
  },
  {
   "cell_type": "markdown",
   "metadata": {},
   "source": [
    "#### 7-1. 절차 지향 프로그래밍\n",
    "- 일이 진행되는 순서대로 프로그래밍\n",
    "    - 장점: 코드가 순차적으로 작성되어 있어 순서대로 읽기만 하면 이해 가능\n",
    "    - 단점: 위에서 하나가 잘못되면 아래도 연쇄적으로 문제가 생겨서 유지보수 어려움, 코드 길이가 길어서 코드 분석하기 어려움"
   ]
  },
  {
   "cell_type": "markdown",
   "metadata": {},
   "source": [
    "#### 7-2. 객체 지향 프로그래밍\n",
    "- 프로그램을 상호작용하는 객체들의 집합으로 만듦\n",
    "- 객체를 먼저 작성하고 함수를 작성\n",
    "    - 장점: 코드 재사용 용이, 코드 분석 및 아키텍쳐 변경 용이\n",
    "    - 단점: 객체 간의 상호작용 때문에 설계에서 많은 시간 소요. 설계 잘못하면 전체를 바꿔야 함\n",
    "        \n",
    "(참고: 파이썬 - OOP Part 1. 객체 지향 프로그래밍(OOP)은 무엇인가? 왜 사용하는가?)"
   ]
  },
  {
   "cell_type": "markdown",
   "metadata": {},
   "source": [
    "#### 7-4. 함수형 프로그래밍\n",
    "- 데이터 사이언티스트에게 적합\n",
    "- 함수로 문제 분해\n",
    "- 장점: 효율성, 버그 없는 코드, 병렬 프로그래밍\n",
    "- 제약: 하나의 데이터에 동시에 여러 함수가 접근하는 경우, 하나의 함수라도 기존 데이터를 수정하게 되면 기존 데이터로 출력 예상 불가"
   ]
  },
  {
   "cell_type": "markdown",
   "metadata": {},
   "source": [
    "#### 1) 순수성\n",
    "- 내부 상태 수정 x, 부작용 전혀 없는 함수, 모든 출력은 입력에만 의존\n",
    "- 함수 안에 함수 밖에서 바로 가져오는 함수나 밖에 있는 변수 변경시키는 코드 없음, 함수 input 만을 이용해서 결과 반환  "
   ]
  },
  {
   "cell_type": "code",
   "execution_count": 40,
   "metadata": {},
   "outputs": [
    {
     "name": "stdout",
     "output_type": "stream",
     "text": [
      "30\n"
     ]
    }
   ],
   "source": [
    "# 순수성 없는 코드\n",
    "A = 5\n",
    "\n",
    "def impure_mul(b):\n",
    "\n",
    "    return b * A\n",
    "\n",
    "print(impure_mul(6))"
   ]
  },
  {
   "cell_type": "code",
   "execution_count": 41,
   "metadata": {},
   "outputs": [
    {
     "name": "stdout",
     "output_type": "stream",
     "text": [
      "24\n"
     ]
    }
   ],
   "source": [
    "# 순수성 있는 코드\n",
    "def pure_mul(a, b):\n",
    "\n",
    "    return a * b\n",
    "\n",
    "print(pure_mul(4, 6))"
   ]
  },
  {
   "cell_type": "markdown",
   "metadata": {},
   "source": [
    "#### 2) 모듈성\n",
    "- 문제를 작은 조각으로 분해하도록 강제함\n",
    "- 작은 함수는 가독성 좋음"
   ]
  },
  {
   "cell_type": "markdown",
   "metadata": {},
   "source": [
    "#### 3) 디버깅과 테스트 용이성\n",
    "- 함수가 작고 명확하기 때문에 디버깅 용이\n",
    "- 각 함수의 입력과 출력을 확인하면서 예상되는 것과 다른 출력이 나오면 해당 부분이 문제이기 때문에 디버깅 쉬움\n",
    "- 함수는 잠재적으로 단위 테스트의 단위이므로 테스트 용이\n",
    "\n",
    "(참고: 함수형 프로그래밍 HOWTO)"
   ]
  },
  {
   "cell_type": "markdown",
   "metadata": {},
   "source": [
    "### 9. 파이써닉한 파이썬\n",
    "\n",
    "참고: https://python-guide-kr.readthedocs.io/ko/latest/writing/style.html"
   ]
  },
  {
   "cell_type": "markdown",
   "metadata": {},
   "source": [
    "#### 9-1. whitespace\n",
    "- 한 줄의 코드 길이가 79자 이하\n",
    "- 함수와 클래스는 다른 코드와 빈 줄 두개로 구분\n",
    "- 클래스에서 함수는 빈 줄 하나로 구분\n",
    "- 변수 할당 앞 뒤에 스페이스를 하나만 사용\n",
    "- 쉼표(,), 쌍점(:), 쌍반점(;) 앞에서는 스페이스 사용 안함"
   ]
  },
  {
   "cell_type": "markdown",
   "metadata": {},
   "source": [
    "#### 9-1. 주석\n",
    "- 코드의 내용과 일치하지 않는 주석 피하기\n",
    "- 불필요한 주석 피하기"
   ]
  },
  {
   "cell_type": "markdown",
   "metadata": {},
   "source": [
    "#### 9-2. 이름 규칙\n",
    "- 변수명 앞에 _ 붙으면 함수 등의 내부에서만 사용되는 변수"
   ]
  },
  {
   "cell_type": "code",
   "execution_count": null,
   "metadata": {},
   "outputs": [],
   "source": [
    "_my_list = []"
   ]
  },
  {
   "cell_type": "markdown",
   "metadata": {},
   "source": [
    "- 변수명 뒤에 _ 붙으면 기본 키워드와의 충돌 피하는 변수"
   ]
  },
  {
   "cell_type": "code",
   "execution_count": null,
   "metadata": {},
   "outputs": [],
   "source": [
    "import_ = \"not_import\""
   ]
  },
  {
   "cell_type": "markdown",
   "metadata": {},
   "source": [
    "- l, O, I 사용 자제\n",
    "- 모둘명은 짧은 소문자\n",
    "- 클래스 명은 파스칼 컨벤션으로 작성\n",
    "- 함수명은 소문자로 구성\n",
    "- 상수는 모듈 단위에서만 정의, 모두 대문자"
   ]
  },
  {
   "cell_type": "code",
   "execution_count": null,
   "metadata": {},
   "outputs": [],
   "source": []
  },
  {
   "cell_type": "code",
   "execution_count": null,
   "metadata": {},
   "outputs": [],
   "source": []
  },
  {
   "cell_type": "code",
   "execution_count": null,
   "metadata": {},
   "outputs": [],
   "source": []
  }
 ],
 "metadata": {
  "kernelspec": {
   "display_name": "aiffel",
   "language": "python",
   "name": "aiffel"
  },
  "language_info": {
   "codemirror_mode": {
    "name": "ipython",
    "version": 3
   },
   "file_extension": ".py",
   "mimetype": "text/x-python",
   "name": "python",
   "nbconvert_exporter": "python",
   "pygments_lexer": "ipython3",
   "version": "3.7.6"
  }
 },
 "nbformat": 4,
 "nbformat_minor": 4
}
