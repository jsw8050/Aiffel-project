{
 "cells": [
  {
   "cell_type": "markdown",
   "metadata": {},
   "source": [
    "### 1. '빅'데이터 처리의 기본패턴\n",
    "- Zeta Byte(10의 21제곱) 단위까지 증가한 데이터, 즉 빅데이터를 처리하기 위한 방법\n",
    "    - 병렬 컴퓨팅(Parallel Computing), 분산 컴퓨팅(Distributed Computing) \n",
    "    -  클러스터 컴퓨팅(Cluster Computing)"
   ]
  },
  {
   "cell_type": "markdown",
   "metadata": {},
   "source": [
    "#### 맵리듀스(Mapreduce)\n",
    "하둡, 스파크 등 빅데이터를 다루는 솔루션들의 가장 근간이 되는 프로그래밍 모델\n",
    "- 처리할 양이 많은 경우\n",
    "    - 1. 많은 것을 잘게 나누어서 (Split)\n",
    "    - 2. 각각을 처리한 후에 (Apply)\n",
    "    - 3. 처리된 것들을 모아서 통합 결과물을 낸다. (Combine)\n"
   ]
  },
  {
   "cell_type": "markdown",
   "metadata": {},
   "source": [
    "### 2.  Split-Apply-Combine Strategy\n",
    "- Split: Split the data into groups based on some criteria thereby creating a GroupBy object. (We can use the column or a combination of columns to split the data into groups)\n",
    "- Apply: Apply a function to each group independently. (Aggregate, Transform, or Filter the data in this step)\n",
    "- Combine: Combine the results into a data structure (Pandas Series, Pandas DataFrame)"
   ]
  },
  {
   "cell_type": "markdown",
   "metadata": {},
   "source": [
    "#### map() & reduce()\n",
    "Mapreduce는 크게 map() 함수와 reduce() 함수로 구성되어 있습니다. 그래서 합쳐서 Mapreduce 입니다.\n",
    "\n",
    "- map() 함수는 Split된 부분 데이터를 가져다가 어떤 특별한 조작을 가하는, Apply 역할을 하는 함수입니다. 일꾼 비유에서 본다면, 모래섞인 쌀을 가져다가 한알 한알 쌀과 모래로 분리하고 있는 친구가 이 map() 함수 역할을 하고 있습니다.\n",
    "- reduce() 함수는 map() 함수가 만들어낸 결과물을 어떤 기준에 따라 한군데로 다시 모아내는, Combine 역할을 하는 함수입니다. 일꾼 비유에서 본다면, 친구들이 분리해 놓은 쌀과 모래들을 가져다가 쌀만 한 가마니에 모아담는 일꾼이 reduce() 함수 역할을 하고 있습니다."
   ]
  },
  {
   "cell_type": "markdown",
   "metadata": {},
   "source": [
    "### 3. 맵리듀스의 원리\n",
    "- 맵리듀스는 하나의 컴퓨터에서 하던 작업을 여러 개의 컴퓨터에서 처리하도록 분산시키는 프로그래밍 모델\n",
    "- 처리하고자 하는 작업을 여러 컴퓨터에 자동으로 분할하고 지역 처리 및 클러스터 노드 간 통신을 하기 위해 사용"
   ]
  },
  {
   "cell_type": "markdown",
   "metadata": {},
   "source": [
    "map(in_key, in_value) -> list(out_key, intermediate_value)\n",
    "\n",
    "- in_key\n",
    "    - Split의 결과로 생긴 partitioning 키값 (일꾼 예제에서라면 0번~99번 친구의 키값)\n",
    "    -  최종 Output에는 반영되지 않습니다. 어떤 쌀알을 구분한 사람이 몇번 친구인지는 중요하지 않기 때문\n",
    "- map함수는 Split된 데이터를 가져다가 out_key와 intermediate_value의 리스트로 변환\n",
    "- out_key는 map함수가 결과물을 구분하는 기준 키값( 0:쌀, 1:모래) \n",
    "- map 친구들은 길이 2인 list에 각각 깨끗한 쌀과 모래를 담아서 리턴\n",
    "\n",
    "redue (out_key, list(intermediate_value)) -> list(out_value)\n",
    "- 여러 map함수의 intermediate_value들을 out_key별로 구분해서 리스트업한 것을 입력: 100명의 친구들이 모아 준 쌀 100덩어리와 모래 100덩어리가 입력\n",
    "- out_key 기준으로 sum\n",
    "- reduce 함수인 일꾼은 최종적으로 out_value의 list를 출력\n",
    "- 전체 쌀과 전체 모래를 모아놓은 길이 2의 list가 최종 출력"
   ]
  },
  {
   "cell_type": "markdown",
   "metadata": {},
   "source": [
    "### 4. 분산환경의 빅데이터 처리\n",
    "- 클러스터 위에 동작하는 알고리즘\n",
    "- 프로그래밍 모델\n",
    "- Map, Reduce , Shuffle\n",
    "- 함수형 프로그래밍(Functional Programming)"
   ]
  },
  {
   "cell_type": "markdown",
   "metadata": {},
   "source": [
    "#### 4-1. 병렬, 분산, 클러스터 컴퓨팅"
   ]
  },
  {
   "cell_type": "markdown",
   "metadata": {},
   "source": [
    "#### 병렬 컴퓨팅(Parallel Computing)\n",
    "한대의 컴퓨터 안에서 CPU 코어를 여러 개 사용해서 한대의 컴퓨터가 처리하는 데이터의 총량과 처리속도를 증가시키는 방법\n",
    "\n",
    "- 멀티 프로세스 (Multiprocessing)\n",
    "    - 프로세스는 컴퓨터에서 연속적으로 실행되고 있는 컴퓨터 프로그램을 의미합니다. 스케줄링의 대상이 되는 작업(task)이라는 용어로도 쓰입니다. 프로세스 관리는 OS에서 합니다.\n",
    "    - 멀티 프로세스는 2개 이상의 프로세스를 사용하는 것입니다.\n",
    "    \n",
    "- 멀티 쓰레드 (Multithreading)\n",
    "    - 쓰레드(thread)는 어떠한 프로그램 내에서, 특히 프로세스 내에서 실행되는 흐름의 단위입니다. 일반적으로 한 프로그램은 하나의 스레드를 가집니다.\n",
    "    - 멀티 쓰레드는 2개 이상의 쓰레드를 사용하는 것입니다."
   ]
  },
  {
   "cell_type": "markdown",
   "metadata": {},
   "source": [
    "#### 분산 컴퓨팅\n",
    "여러 대의 컴퓨터가 네트워크로 연결된 상황을 전제로 하는 것\n",
    "- P2P(Peer to Peer)\n",
    "- HTTP\n",
    "- Network"
   ]
  },
  {
   "cell_type": "markdown",
   "metadata": {},
   "source": [
    "#### 클러스터 컴퓨팅\n",
    "클러스터 컴퓨팅이 위의 병렬 컴퓨팅과 분산 컴퓨팅을 통합하는 개념처럼 제시되고 있습니다. 실제로 이 용어는 분산 컴퓨팅과 매우 혼용되고 있기도 합니다.\n",
    "- 여러 대의 컴퓨터들이 연결되어 하나의 시스템처럼 동작하는 컴퓨터들의 집합입니다.\n",
    "- 보통 노드와 관리자로 구성되어 있습니다.\n",
    "    - 클러스터 노드 : 프로세싱 자원을 제공하는 시스템입니다.\n",
    "    - 클러스터 관리자 : 노드를 서로 연결하여 단일 시스템처럼 보이게 만드는 로직을 제공합니다.\n",
    "- 대표적인 기술\n",
    "    - 병렬 컴퓨팅(Parellel Computing)\n",
    "    - 분산 컴퓨팅(Distributed Computing)\n",
    "    - 클라우드 컴퓨팅(Cloud Computing)"
   ]
  },
  {
   "cell_type": "markdown",
   "metadata": {},
   "source": [
    "#### 클러스터란 여러 대의 컴퓨터를 묶여서 하나의 시스템처럼 사용하는 것이다."
   ]
  },
  {
   "cell_type": "markdown",
   "metadata": {},
   "source": [
    "### 5. 하둡과 스파크\n",
    "#### 하둡\n",
    "하둡은 대용량 데이터를 분산 처리할 수 있는 자바 기반의 오픈소스 프레임워크 \n",
    "\n",
    " 하둡이 가지는 약점이 있었습니다. 이것은 문제는 Mapreduce의 문제이기도 합니다. map함수가 모두 종료해야 reduce함수가 실행된다는 가져오는 성능 손실이 컸기 때문입니다.\n",
    " \n",
    " 하둡으로 실시간 서비스를 제공하는 것을 불가능하게 했고, 하둡은 빅데이터 기반의 배치성 통계작업에만 주로 투입되고 있습니다.\n",
    " \n",
    " #### 스파크\n",
    " 종래의 Mapreduce 기능에서 Map함수가 전부 종료되지 않았더라도 Map의 결과를 스트리밍하는 방식으로, Map의 결과가 다 나와야만 Reduce를 수행한다는 전제를 깨버리게 됩니다."
   ]
  },
  {
   "cell_type": "markdown",
   "metadata": {},
   "source": [
    "MAPREDUE의 설계적 한계는 map 함수의 결과가 디스크에 저장되고, 그걸 reduce 함수가 다시 읽어와야 한다는 점입니다. 이것이 주는 성능상의 손실이 큽니다. 반면 스파크는 인메모리 데이터 엔진을 통해 초기 맵리듀스의 성능상 한계를 크게 극복하게 됩니다. 실제로 Spark의 성능은 Hadoop의 10배에 달하는 속도 우위를 보이나 절대 우위를 가지는 것은 아니다.\n",
    "\n",
    "하둡은 스파크가 제공하지 않는 HDFS같은 분산 파일 시스템을 제공하고 있습니다. 스파크 자체가 하둡 기반으로 구동하는 것을 목적으로 만들어졌기 때문에, 꼭 하둡이 필요한 것은 아니지만 하둡 기반으로 돌아가는 것을 추천합니다."
   ]
  },
  {
   "cell_type": "markdown",
   "metadata": {},
   "source": [
    "### 6. 함수, 파이썬의 1급시민\n",
    "이 특징은 함수형 프로그래밍 개념으로 파이썬에서 맵리듀스를 활용하는 것을 매우 강력하게 합니다.\n",
    "\n",
    "#### 1급 시민\n",
    "- 함수는 다른 함수의 인자로 전달될 수 있다. (= 인자(매개변수)로 전달이 가능)\n",
    "- 함수는 변수에 할당될 수 있다.\n",
    "- 함수는 다른 함수의 결과로서 반환될 수 있다. (=다른 함수의 반환값)"
   ]
  },
  {
   "cell_type": "code",
   "execution_count": 1,
   "metadata": {},
   "outputs": [
    {
     "name": "stdout",
     "output_type": "stream",
     "text": [
      "슝=3\n"
     ]
    }
   ],
   "source": [
    "#에러메세지를 출력하는 함수\n",
    "def errormessage(format_func, msg):\n",
    "    print(format_func(msg))\n",
    "\n",
    "#단어의 첫글자만 대문자로 만드는 함수\n",
    "def to_upper(msg):\n",
    "    t = msg.split(\" \")\n",
    "    T = []\n",
    "    for i in t:\n",
    "        i = i[0].upper() + i[1:]\n",
    "        T.append(i)\n",
    "    T = \" \".join(T)\n",
    "    return T\n",
    "\n",
    "print(\"슝=3\")"
   ]
  },
  {
   "cell_type": "markdown",
   "metadata": {},
   "source": [
    "#### errormessage() 함수의 인자로 character() 함수를 전달할 수 있다."
   ]
  },
  {
   "cell_type": "code",
   "execution_count": 2,
   "metadata": {},
   "outputs": [
    {
     "name": "stdout",
     "output_type": "stream",
     "text": [
      "You Have Limited Access\n"
     ]
    }
   ],
   "source": [
    "msg = \"you have limited access\"\n",
    "errormessage(to_upper, msg)"
   ]
  },
  {
   "cell_type": "markdown",
   "metadata": {},
   "source": [
    "#### 함수는 변수에 할당될 수 있다.\n",
    "매개변수로 전달될 수 있다는 의미는 변수로써 할당이 가능하다는 뜻입니다. 콜백함수 참고"
   ]
  },
  {
   "cell_type": "code",
   "execution_count": 3,
   "metadata": {},
   "outputs": [
    {
     "name": "stdout",
     "output_type": "stream",
     "text": [
      "슝=3\n"
     ]
    }
   ],
   "source": [
    "def france():\n",
    "    print('bonjour')\n",
    "\n",
    "def italy():\n",
    "    print('ciao')\n",
    "\n",
    "print(\"슝=3\")"
   ]
  },
  {
   "cell_type": "markdown",
   "metadata": {},
   "source": [
    "hello란 변수에 france() 함수를 할당"
   ]
  },
  {
   "cell_type": "code",
   "execution_count": 4,
   "metadata": {},
   "outputs": [
    {
     "name": "stdout",
     "output_type": "stream",
     "text": [
      "<function france at 0x7fa6f8418950>\n"
     ]
    }
   ],
   "source": [
    "hello = france\n",
    "print(hello)"
   ]
  },
  {
   "cell_type": "markdown",
   "metadata": {},
   "source": [
    "hello는 함수처럼 사용이 가능"
   ]
  },
  {
   "cell_type": "code",
   "execution_count": 6,
   "metadata": {},
   "outputs": [
    {
     "data": {
      "text/plain": [
       "function"
      ]
     },
     "execution_count": 6,
     "metadata": {},
     "output_type": "execute_result"
    }
   ],
   "source": [
    "type(hello)"
   ]
  },
  {
   "cell_type": "code",
   "execution_count": 5,
   "metadata": {},
   "outputs": [
    {
     "name": "stdout",
     "output_type": "stream",
     "text": [
      "bonjour\n"
     ]
    }
   ],
   "source": [
    "hello()"
   ]
  },
  {
   "cell_type": "markdown",
   "metadata": {},
   "source": [
    "#### 함수는 다른 함수의 결과로서 반환될 수 있다.\n",
    " 함수의 return값으로 함수를 사용할 수 있다는 특징"
   ]
  },
  {
   "cell_type": "code",
   "execution_count": 7,
   "metadata": {},
   "outputs": [
    {
     "name": "stdout",
     "output_type": "stream",
     "text": [
      "슝=3\n"
     ]
    }
   ],
   "source": [
    "def func1(x):\n",
    "    return x**2\n",
    "\n",
    "def func2():\n",
    "    return func1\n",
    "\n",
    "print(\"슝=3\")"
   ]
  },
  {
   "cell_type": "code",
   "execution_count": 8,
   "metadata": {},
   "outputs": [
    {
     "name": "stdout",
     "output_type": "stream",
     "text": [
      "9\n",
      "9\n"
     ]
    }
   ],
   "source": [
    "print(func1(3))\n",
    "print(func2()(3))"
   ]
  },
  {
   "cell_type": "markdown",
   "metadata": {},
   "source": [
    "파이썬에서 \"모든 것이 객체다\"라는 말 들어 보셨죠? 그 중에서도 으뜸은 함수입니다."
   ]
  },
  {
   "cell_type": "markdown",
   "metadata": {},
   "source": [
    "함수형 프로그래밍은 모든 것을 객체로 표현하게끔 하는 것입니다. 모순적인 말 같지만 함수 또한 객체기 때문에 함수를 값으로 할당하고 다른 함수의 결괏값으로 반환할 수 있지요."
   ]
  },
  {
   "cell_type": "markdown",
   "metadata": {},
   "source": [
    "- 함수가 일급 시민인 언어 : Javascript, Scala, Go 등\n",
    "- 함수가 일급 시민이 아닌 언어 : C, Java 등"
   ]
  },
  {
   "cell_type": "markdown",
   "metadata": {},
   "source": [
    "#### 함수형 프로그래밍 철학\n",
    "\n",
    "1. 변경 가능한 상태를 불변의 상태(Immutab)로 만들어 에러를 없애자.\n",
    "2. 모든 것은 객체이다.\n",
    "3. 코드를 간결하게 하고 가독성을 높여 구현할 로직에 집중한다.\n",
    "4. 보다 효율적인 동시성 작업"
   ]
  },
  {
   "cell_type": "markdown",
   "metadata": {},
   "source": [
    "### 7. 함수형 프로그래밍과 맵리듀스\n",
    "#### 데이터 컬렉션\n",
    "파이썬 자료 구조 중에 List, Tuple, Dictionary, Set와 같은 형태의 자료형을 컬렉션(Collection) 이라고 하기도 합니다. 다른 말로는 컨테이너(Container)라고 부르기도 해요."
   ]
  },
  {
   "cell_type": "code",
   "execution_count": 9,
   "metadata": {},
   "outputs": [
    {
     "name": "stdout",
     "output_type": "stream",
     "text": [
      "슝=3\n"
     ]
    }
   ],
   "source": [
    "import collections\n",
    "print(\"슝=3\")"
   ]
  },
  {
   "cell_type": "code",
   "execution_count": 10,
   "metadata": {},
   "outputs": [
    {
     "data": {
      "text/plain": [
       "defaultdict(int,\n",
       "            {'I': 7,\n",
       "             'have': 1,\n",
       "             'a': 2,\n",
       "             'depression,': 1,\n",
       "             'and': 2,\n",
       "             'then': 1,\n",
       "             'there': 1,\n",
       "             'was': 2,\n",
       "             'girl': 2,\n",
       "             'who': 1,\n",
       "             'came': 1,\n",
       "             'into': 1,\n",
       "             'my': 3,\n",
       "             'life.': 2,\n",
       "             'One': 1,\n",
       "             'day,': 1,\n",
       "             'life': 1,\n",
       "             'changed': 2,\n",
       "             'because': 2,\n",
       "             'that': 1,\n",
       "             'just': 1,\n",
       "             'She': 1,\n",
       "             'taught': 1,\n",
       "             'me': 1,\n",
       "             'how': 2,\n",
       "             'to': 3,\n",
       "             'love': 2,\n",
       "             'be': 1,\n",
       "             'an': 1,\n",
       "             'active': 1,\n",
       "             'person.': 1,\n",
       "             'And': 1,\n",
       "             'then,': 1,\n",
       "             'feel': 1,\n",
       "             'so': 2,\n",
       "             'happy': 1,\n",
       "             'when': 1,\n",
       "             'am': 2,\n",
       "             'always': 1,\n",
       "             'with': 2,\n",
       "             'her.': 1,\n",
       "             'her': 4,\n",
       "             'much.': 1,\n",
       "             \"don't\": 1,\n",
       "             'want': 1,\n",
       "             'let': 1,\n",
       "             'go.': 1,\n",
       "             'sad': 1,\n",
       "             'she': 1,\n",
       "             'is': 1,\n",
       "             'favorite': 1,\n",
       "             'friends.': 1,\n",
       "             'will': 1,\n",
       "             'do': 1,\n",
       "             'anything': 1,\n",
       "             'make': 1,\n",
       "             'proud': 1})"
      ]
     },
     "execution_count": 10,
     "metadata": {},
     "output_type": "execute_result"
    }
   ],
   "source": [
    "from collections import defaultdict\n",
    "\n",
    "text = \"\"\"I have a depression, and then there was a girl who came into \n",
    "my life. One day, my life was changed because that girl just changed my \n",
    "life. She taught me how to love and how to be an active person. \n",
    "And then, I feel so happy when I am always with her. \n",
    "I love her so much. I don't want let her go. I am sad because she \n",
    "is with her favorite friends. I will do anything to make her proud\"\"\"\n",
    "\n",
    "result = defaultdict(int)\n",
    "word = text.split()\n",
    "\n",
    "for i in word:\n",
    "    result[i] += 1\n",
    "\n",
    "result   "
   ]
  },
  {
   "cell_type": "markdown",
   "metadata": {},
   "source": [
    "#### 맵리듀스 기본 함수 알아보기\n",
    "- map: 여러 개의 컴퓨터에 연산을 나누고\n",
    "- filter\n",
    "- reduce: 여러 개 컴퓨터에 분산하여 연산한 결과를 합치면 원하는 결과를 빠르게 얻을 수 있겠지요"
   ]
  },
  {
   "cell_type": "markdown",
   "metadata": {},
   "source": [
    "#### map"
   ]
  },
  {
   "cell_type": "code",
   "execution_count": 11,
   "metadata": {},
   "outputs": [
    {
     "name": "stdout",
     "output_type": "stream",
     "text": [
      "[1, 2, 3, 4]\n",
      "[1, 4, 9, 16]\n"
     ]
    }
   ],
   "source": [
    "mynum = ['1','2','3','4']\n",
    "mynum_int = list(map(int, mynum))  # mynum의 각 원소에 int 함수를 적용\n",
    "print(mynum_int)\n",
    "\n",
    "mynum_square = list(map(lambda x : x*x, mynum_int))  # mynum_int의 각 원소 x에 lambda x : x*x 함수를 적용\n",
    "print(mynum_square)"
   ]
  },
  {
   "cell_type": "markdown",
   "metadata": {},
   "source": [
    "#### filter"
   ]
  },
  {
   "cell_type": "code",
   "execution_count": 12,
   "metadata": {},
   "outputs": [
    {
     "name": "stdout",
     "output_type": "stream",
     "text": [
      "[1, 2, 3, 4]\n"
     ]
    }
   ],
   "source": [
    "mynum = range(-5, 5)  \n",
    "mynum_plus = list(filter(lambda x: x > 0, mynum)) # mynum의 각 원소 x에 대해 lambda x: x > 0 인지 체크하는 필터를 적용\n",
    "print(mynum_plus)"
   ]
  },
  {
   "cell_type": "markdown",
   "metadata": {},
   "source": [
    "#### reduce(리듀싱)\n",
    "reduce(리듀싱)은 컬렉션을 축약(=리듀싱)합니다. 가장 일반적인 예로는 요소들을 합하는 시그마 연산이 있습니다."
   ]
  },
  {
   "cell_type": "code",
   "execution_count": 13,
   "metadata": {},
   "outputs": [
    {
     "name": "stdout",
     "output_type": "stream",
     "text": [
      "15\n"
     ]
    }
   ],
   "source": [
    "from functools import reduce\n",
    "mynum = [1, 2, 3, 4, 5]\n",
    "add = reduce((lambda x, y: x + y), mynum)  # reduce는 내부에 관리하는 x 변수에 mynum의 각 원소 y를 차례차례 더하여 x에 반영한다.\n",
    "\n",
    "print(add)"
   ]
  },
  {
   "cell_type": "markdown",
   "metadata": {},
   "source": [
    "### 8. 실습\n",
    "Split - Map - Shuffle - Reduce"
   ]
  },
  {
   "cell_type": "markdown",
   "metadata": {},
   "source": [
    "#### Mapper: 입력데이터를 나누고 매핑합니다."
   ]
  },
  {
   "cell_type": "code",
   "execution_count": 21,
   "metadata": {},
   "outputs": [
    {
     "data": {
      "text/plain": [
       "[('h', 1),\n",
       " ('e', 1),\n",
       " ('l', 1),\n",
       " ('l', 1),\n",
       " ('o', 1),\n",
       " (' ', 1),\n",
       " ('p', 1),\n",
       " ('y', 1),\n",
       " ('t', 1),\n",
       " ('h', 1),\n",
       " ('o', 1),\n",
       " ('n', 1)]"
      ]
     },
     "execution_count": 21,
     "metadata": {},
     "output_type": "execute_result"
    }
   ],
   "source": [
    "#input data\n",
    "text = 'hello python'\n",
    "\n",
    "def mapper(text):\n",
    "    split = []\n",
    "    for i in text:\n",
    "        split.append((i, 1))\n",
    "    return split\n",
    "\n",
    "mapper(text)"
   ]
  },
  {
   "cell_type": "markdown",
   "metadata": {},
   "source": [
    "#### Mapper: 입력데이터를 나누고 매핑합니다."
   ]
  },
  {
   "cell_type": "code",
   "execution_count": 22,
   "metadata": {},
   "outputs": [],
   "source": [
    "def reducer(split):\n",
    "    out = {}\n",
    "    for i in split:\n",
    "        if i[0] not in out.keys():\n",
    "            out[i[0]] = 1\n",
    "        else:\n",
    "            out[i[0]] += 1\n",
    "    return out\n",
    "\n"
   ]
  },
  {
   "cell_type": "markdown",
   "metadata": {},
   "source": [
    "#### MapReduce: 출력은 다음과 같습니다.\n"
   ]
  },
  {
   "cell_type": "code",
   "execution_count": 23,
   "metadata": {},
   "outputs": [
    {
     "data": {
      "text/plain": [
       "{'h': 2, 'e': 1, 'l': 2, 'o': 2, ' ': 1, 'p': 1, 'y': 1, 't': 1, 'n': 1}"
      ]
     },
     "execution_count": 23,
     "metadata": {},
     "output_type": "execute_result"
    }
   ],
   "source": [
    "reducer(mapper(text))"
   ]
  },
  {
   "cell_type": "code",
   "execution_count": null,
   "metadata": {},
   "outputs": [],
   "source": []
  },
  {
   "cell_type": "code",
   "execution_count": null,
   "metadata": {},
   "outputs": [],
   "source": []
  }
 ],
 "metadata": {
  "kernelspec": {
   "display_name": "aiffel",
   "language": "python",
   "name": "aiffel"
  },
  "language_info": {
   "codemirror_mode": {
    "name": "ipython",
    "version": 3
   },
   "file_extension": ".py",
   "mimetype": "text/x-python",
   "name": "python",
   "nbconvert_exporter": "python",
   "pygments_lexer": "ipython3",
   "version": "3.7.6"
  }
 },
 "nbformat": 4,
 "nbformat_minor": 4
}
