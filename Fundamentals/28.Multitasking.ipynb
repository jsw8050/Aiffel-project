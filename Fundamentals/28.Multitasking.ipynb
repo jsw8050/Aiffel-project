{
 "cells": [
  {
   "cell_type": "markdown",
   "metadata": {},
   "source": [
    "## 1. 멀티태스킹\n",
    "- 컴퓨팅 자원을 최적화하는 방법, 병렬 컴퓨팅, 분산 컴퓨팅\n",
    "- 여러 가직 작업을 동시에 하는 것"
   ]
  },
  {
   "cell_type": "markdown",
   "metadata": {},
   "source": [
    "### 1-1. 동시성, 병렬성\n",
    "#### 1. 동시성(Concurrency): \n",
    "2가지 작업을 할 때, 한 사람이 바쁘게 움직여 주기만 해도 여러 가지 일을 동시에 수행할 수 있다. 실제로 동시에 하는 건 아니지만, 여러 가지 일을 빠르게 번갈아가며 수행해 동시에 수행하는 것처럼 일하는 것\n",
    "#### 2.병렬성(Parallelism): \n",
    "업무를 분담해서 하는 경우, 실제로 동시에 2가지 일이 진행된다. 이 경우 일이 병렬적으로 처리된다."
   ]
  },
  {
   "cell_type": "markdown",
   "metadata": {},
   "source": [
    "### 1-2. 동기 vs 비동기 (Synchronous vs Asynchronous)\n",
    "- 동시성에서 주로 다루게 되는 개념으로, 어떤 일을 바로 하지 못하고 대기해야 하는 경우를 컴퓨터에서는 \"바운드(bound) 되었다\" 라는 표현을 쓴다. \n",
    "- 바운드되고 있으면 계속 기다려야 할지 아니면 종료되는 사이에 다른 걸 실행하는 것이 좋을지 고민하게 된다.\n",
    "- 작동하는 방식에 따라 앞 작업이 종료되기를 무조건 기다렸다가 다음 작업을 수행하는 것은 **동기** 방식이라 한다.\n",
    "- 기다리는 동안 다른 일을 처리하는 것은 **비동기** 방식이라 한다."
   ]
  },
  {
   "cell_type": "markdown",
   "metadata": {},
   "source": [
    "- **동기(Synchronous)** : 어떤 일이 순차적으로 실행됨, 요청과 요청에 대한 응답이 동시에 실행됨 (따라서 요청에 지연이 발생하더라도 계속 대기한다.)\n",
    "- **비동기(Asynchronous)** : 어떤 일이 비순차적으로 실행됨, 요청과 요청에 대한 응답이 동시에 실행되지 않음. 특정 코드의 연산이 끝날 때까지 코드의 실행을 멈추지 않고 다음 코드를 먼저 실행하며, 중간에 실행되는 코드는 주로 콜백함수로 연결하기도 한다."
   ]
  },
  {
   "cell_type": "markdown",
   "metadata": {},
   "source": [
    "### 1-3. I/O Bound vs CPU Bound\n",
    "컴퓨터가 일을 수행하면서 뭔가 기다릴 때, 즉 속도에 제한이 걸릴 때는 2가지 경우에 해당하는 경우가 대부분입니다.\n",
    "\n",
    "- I/O 바운드: 입력과 출력에서의 데이터(파일)처리에 시간이 소요될 때.\n",
    "- CPU 바운드: 복잡한 수식 계산이나 그래픽 작업과 같은 엄청난 계산이 필요할 때."
   ]
  },
  {
   "cell_type": "code",
   "execution_count": null,
   "metadata": {},
   "outputs": [],
   "source": []
  },
  {
   "cell_type": "code",
   "execution_count": null,
   "metadata": {},
   "outputs": [],
   "source": []
  }
 ],
 "metadata": {
  "kernelspec": {
   "display_name": "aiffel",
   "language": "python",
   "name": "aiffel"
  },
  "language_info": {
   "codemirror_mode": {
    "name": "ipython",
    "version": 3
   },
   "file_extension": ".py",
   "mimetype": "text/x-python",
   "name": "python",
   "nbconvert_exporter": "python",
   "pygments_lexer": "ipython3",
   "version": "3.7.6"
  }
 },
 "nbformat": 4,
 "nbformat_minor": 4
}
