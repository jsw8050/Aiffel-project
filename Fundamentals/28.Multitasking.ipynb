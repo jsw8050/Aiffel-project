{
 "cells": [
  {
   "cell_type": "markdown",
   "metadata": {},
   "source": [
    "## 1. 멀티태스킹\n",
    "- 컴퓨팅 자원을 최적화하는 방법, 병렬 컴퓨팅, 분산 컴퓨팅\n",
    "- 여러 가직 작업을 동시에 하는 것"
   ]
  },
  {
   "cell_type": "markdown",
   "metadata": {},
   "source": [
    "### 1-1. 동시성, 병렬성\n",
    "#### 1. 동시성(Concurrency): \n",
    "2가지 작업을 할 때, 한 사람이 바쁘게 움직여 주기만 해도 여러 가지 일을 동시에 수행할 수 있다. 실제로 동시에 하는 건 아니지만, 여러 가지 일을 빠르게 번갈아가며 수행해 동시에 수행하는 것처럼 일하는 것\n",
    "#### 2.병렬성(Parallelism): \n",
    "업무를 분담해서 하는 경우, 실제로 동시에 2가지 일이 진행된다. 이 경우 일이 병렬적으로 처리된다."
   ]
  },
  {
   "cell_type": "markdown",
   "metadata": {},
   "source": [
    "### 1-2. 동기 vs 비동기 (Synchronous vs Asynchronous)\n",
    "- 동시성에서 주로 다루게 되는 개념으로, 어떤 일을 바로 하지 못하고 대기해야 하는 경우를 컴퓨터에서는 \"바운드(bound) 되었다\" 라는 표현을 쓴다. \n",
    "- 바운드되고 있으면 계속 기다려야 할지 아니면 종료되는 사이에 다른 걸 실행하는 것이 좋을지 고민하게 된다.\n",
    "- 작동하는 방식에 따라 앞 작업이 종료되기를 무조건 기다렸다가 다음 작업을 수행하는 것은 **동기** 방식이라 한다.\n",
    "- 기다리는 동안 다른 일을 처리하는 것은 **비동기** 방식이라 한다."
   ]
  },
  {
   "cell_type": "markdown",
   "metadata": {},
   "source": [
    "- **동기(Synchronous)** : 어떤 일이 순차적으로 실행됨, 요청과 요청에 대한 응답이 동시에 실행됨 (따라서 요청에 지연이 발생하더라도 계속 대기한다.)\n",
    "- **비동기(Asynchronous)** : 어떤 일이 비순차적으로 실행됨, 요청과 요청에 대한 응답이 동시에 실행되지 않음. 특정 코드의 연산이 끝날 때까지 코드의 실행을 멈추지 않고 다음 코드를 먼저 실행하며, 중간에 실행되는 코드는 주로 콜백함수로 연결하기도 한다."
   ]
  },
  {
   "cell_type": "markdown",
   "metadata": {},
   "source": [
    "### 1-3. I/O Bound vs CPU Bound\n",
    "컴퓨터가 일을 수행하면서 뭔가 기다릴 때, 즉 속도에 제한이 걸릴 때는 2가지 경우에 해당하는 경우가 대부분입니다.\n",
    "\n",
    "- I/O 바운드: 입력과 출력에서의 데이터(파일)처리에 시간이 소요될 때.\n",
    "- CPU 바운드: 복잡한 수식 계산이나 그래픽 작업과 같은 엄청난 계산이 필요할 때."
   ]
  },
  {
   "cell_type": "markdown",
   "metadata": {},
   "source": [
    "## 2. 프로세스, 쓰레드, 프로파일링\n",
    "맥(Mac)의 활성 상태 보기(Activity Monitor)나 윈도우(Windows)의 작업 관리자(Task Manager)를 통해 현재 실행되고 있는 프로그램의 상태를 확인할 수 있다."
   ]
  },
  {
   "cell_type": "markdown",
   "metadata": {},
   "source": [
    "### 2-1. 프로세스\n",
    "- 하나의 프로그램을 실행할 때, 운영체제는 한 프로세스를 생성합니다. 프로세스는 운영체제의 커널(Kernel)에서 시스템 자원(CPU, 메모리, 디스크) 및 자료구조를 이용합니다.\n",
    "- 프로세스는 \"프로그램을 구동하여 프로그램 자체와 프로그램의 상태가 메모리 상에서 실행되는 작업 단위\"를 지칭한다.\n",
    "- 하나의 프로그램을 한 번 구동하면 하나의 프로세스가 메모리 상에서 실행되지만 여러 번 구동하면 여러 개의 프로세스가 실행됩니다."
   ]
  },
  {
   "cell_type": "code",
   "execution_count": 1,
   "metadata": {},
   "outputs": [
    {
     "name": "stdout",
     "output_type": "stream",
     "text": [
      "5682\n",
      "1000\n",
      "1000\n",
      "/home/aiffel0047/workplace/aiffel/Fundamentals\n"
     ]
    }
   ],
   "source": [
    "# os 모듈에서 프로세스 관련 정보 구할 수 있다.\n",
    "import os\n",
    "\n",
    "# process ID\n",
    "print(os.getpid())\n",
    "\n",
    "# user ID\n",
    "print(os.getuid())\n",
    "\n",
    "# group ID\n",
    "print(os.getgid())\n",
    "\n",
    "# 현재 작업중인 디렉토리\n",
    "print(os.getcwd())"
   ]
  },
  {
   "cell_type": "markdown",
   "metadata": {},
   "source": [
    "### 2-2. 스레드 (Thread)\n",
    "- 스레드(thread)는 어떠한 프로그램 내에서, 특히 프로세스 내에서 실행되는 흐름의 단위입니다.\n",
    "- 프로세스도 자신만의 전용 메모리공간(Heap)을 가집니다. 이때 해당 프로세스 내의 스레드들은 이 메모리공간을 공유합니다. 그러나 다른 프로세스와 공유하지는 않습니다.\n",
    "- 스레드의 사용은 프로그램마다 다르지만, 가벼운 프로그램은 하나의 스레드를 가지기도 합니다."
   ]
  },
  {
   "cell_type": "markdown",
   "metadata": {},
   "source": [
    "### 2-3. 프로파일링\n",
    "- 코드에서 시스템의 어느 부분이 느린지 혹은 어디서 RAM을 많이 사용하고 있는지를 확인하고 싶을 때 사용하는 기법. \n",
    "- 맥(mac)의 활성 상태 보기(activity monitor)나 윈도우(windows)의 작업 관리자(task manager)를 통해 현재 실행 중인 프로그램의 상태를 확인하는 작업을 코딩하는 것을 프로파일링이라고 한다."
   ]
  },
  {
   "cell_type": "code",
   "execution_count": 2,
   "metadata": {},
   "outputs": [
    {
     "data": {
      "text/plain": [
       "1599016560.70385"
      ]
     },
     "execution_count": 2,
     "metadata": {},
     "output_type": "execute_result"
    }
   ],
   "source": [
    "import time\n",
    "time.time()"
   ]
  },
  {
   "cell_type": "code",
   "execution_count": 3,
   "metadata": {},
   "outputs": [
    {
     "data": {
      "text/plain": [
       "<timeit.Timer at 0x7f2e1d26ced0>"
      ]
     },
     "execution_count": 3,
     "metadata": {},
     "output_type": "execute_result"
    }
   ],
   "source": [
    "import timeit\n",
    "timeit.Timer()"
   ]
  },
  {
   "cell_type": "code",
   "execution_count": 4,
   "metadata": {},
   "outputs": [
    {
     "name": "stdout",
     "output_type": "stream",
     "text": [
      "set               : 1.2176346489995922 [ms]\n",
      "list              : 0.6608258159994875 [ms]\n",
      "tuple             : 0.6107530859999315 [ms]\n",
      "string            : 0.37089361200014537 [ms]\n",
      "set_add           : 4.266755466000177 [ms]\n",
      "list_append       : 3.915115908000189 [ms]\n",
      "set_comprehension : 4.526148357000238 [ms]\n",
      "list_comprehension: 3.8498004580005727 [ms]\n"
     ]
    }
   ],
   "source": [
    "import timeit\n",
    "        \n",
    "def f1():\n",
    "    s = set(range(100))\n",
    "\n",
    "    \n",
    "def f2():\n",
    "    l = list(range(100))\n",
    "\n",
    "    \n",
    "def f3():\n",
    "    t = tuple(range(100))\n",
    "\n",
    "\n",
    "def f4():\n",
    "    s = str(range(100))\n",
    "\n",
    "    \n",
    "def f5():\n",
    "    s = set()\n",
    "    for i in range(100):\n",
    "        s.add(i)\n",
    "\n",
    "def f6():\n",
    "    l = []\n",
    "    for i in range(100):\n",
    "        l.append(i)\n",
    "    \n",
    "def f7():\n",
    "    s_comp = {i for i in range(100)}\n",
    "\n",
    "    \n",
    "def f8():\n",
    "    l_comp = [i for i in range(100)]\n",
    "    \n",
    "\n",
    "if __name__ == \"__main__\":\n",
    "    t1 = timeit.Timer(\"f1()\", \"from __main__ import f1\")\n",
    "    t2 = timeit.Timer(\"f2()\", \"from __main__ import f2\")\n",
    "    t3 = timeit.Timer(\"f3()\", \"from __main__ import f3\")\n",
    "    t4 = timeit.Timer(\"f4()\", \"from __main__ import f4\")\n",
    "    t5 = timeit.Timer(\"f5()\", \"from __main__ import f5\")\n",
    "    t6 = timeit.Timer(\"f6()\", \"from __main__ import f6\")\n",
    "    t7 = timeit.Timer(\"f7()\", \"from __main__ import f7\")\n",
    "    t8 = timeit.Timer(\"f8()\", \"from __main__ import f8\")\n",
    "    print(\"set               :\", t1.timeit(), '[ms]')\n",
    "    print(\"list              :\", t2.timeit(), '[ms]')\n",
    "    print(\"tuple             :\", t3.timeit(), '[ms]')\n",
    "    print(\"string            :\", t4.timeit(), '[ms]')\n",
    "    print(\"set_add           :\", t5.timeit(), '[ms]')\n",
    "    print(\"list_append       :\", t6.timeit(), '[ms]')\n",
    "    print(\"set_comprehension :\", t5.timeit(), '[ms]')\n",
    "    print(\"list_comprehension:\", t6.timeit(), '[ms]')"
   ]
  },
  {
   "cell_type": "markdown",
   "metadata": {},
   "source": [
    "프로파일링은 애플리케이션에서 가장 자원이 집중되는 지점을 정밀하게 찾아내는 기법입니다. 프로파일러는 애플리케이션을 실행시키고 각각의 함수 실행에 드는 시간을 찾아내는 프로그램이에요. 즉, 코드의 병목(bottleneck)을 찾아내고 성능을 측정해 주는 도구입니다."
   ]
  },
  {
   "cell_type": "markdown",
   "metadata": {},
   "source": [
    "## 3. Scale Up vs Scale Out\n",
    "- 컴퓨터 자원을 활용하기 위해 자원을 Up(업그레이드, 최적화) 시킬수도 있고 자원을 Out(확장)시킬 수도 있습니다. \n",
    "- Scale-Up은 한 대의 컴퓨터의 성능을 최적화 시키는 방법이고 Scale-Out은 여러 대의 컴퓨터를 한 대처럼 사용하는 것입니다.\n",
    "\n",
    "https://hyuntaeknote.tistory.com/m/4"
   ]
  },
  {
   "cell_type": "markdown",
   "metadata": {},
   "source": [
    "## 4. 파이썬에서 멀티스레드 사용하기\n",
    "### 4-1. 스레드 생성"
   ]
  },
  {
   "cell_type": "code",
   "execution_count": 5,
   "metadata": {},
   "outputs": [
    {
     "name": "stdout",
     "output_type": "stream",
     "text": [
      "delivery\n",
      "Retriving Dish\n"
     ]
    }
   ],
   "source": [
    "class Delivery:\n",
    "    def run(self):\n",
    "        print(\"delivery\")\n",
    "\n",
    "class RetriveDish:\n",
    "    def run(self):\n",
    "        print(\"Retriving Dish\")\n",
    "\n",
    "work1 = Delivery()\n",
    "work2 = RetriveDish()\n",
    "\n",
    "def main():\n",
    "    work1.run()\n",
    "    work2.run()\n",
    "\n",
    "if __name__ == '__main__':\n",
    "    main()"
   ]
  },
  {
   "cell_type": "markdown",
   "metadata": {},
   "source": [
    "#### 멀티스레드\n",
    "- threading 모듈을 import 하고\n",
    "- 클래스에 Thread를 상속받습니다."
   ]
  },
  {
   "cell_type": "code",
   "execution_count": 6,
   "metadata": {},
   "outputs": [
    {
     "name": "stdout",
     "output_type": "stream",
     "text": [
      "delivery\n",
      "Retriving Dish\n"
     ]
    }
   ],
   "source": [
    "from threading import *\n",
    "\n",
    "class Delivery(Thread):\n",
    "    def run(self):\n",
    "        print(\"delivery\")\n",
    "\n",
    "class RetriveDish(Thread):\n",
    "    def run(self):\n",
    "        print(\"Retriving Dish\")\n",
    "\n",
    "work1 = Delivery()\n",
    "work2 = RetriveDish()\n",
    "\n",
    "def main():\n",
    "    work1.run()\n",
    "    work2.run()\n",
    "\n",
    "if __name__ == '__main__':\n",
    "    main()"
   ]
  },
  {
   "cell_type": "markdown",
   "metadata": {},
   "source": [
    "#### 스레드 생성 확인\n",
    "- 함수 이름 출력하면 함수 객체 확인 가능"
   ]
  },
  {
   "cell_type": "code",
   "execution_count": 7,
   "metadata": {},
   "outputs": [
    {
     "name": "stdout",
     "output_type": "stream",
     "text": [
      "<bound method Delivery.run of <__main__.Delivery object at 0x7f2e1ca00b90>>\n",
      "<bound method Delivery.run of <Delivery(Thread-6, initial)>>\n"
     ]
    }
   ],
   "source": [
    "from threading import *\n",
    "\n",
    "class Delivery:\n",
    "    def run(self):\n",
    "        print(\"delivering\")\n",
    "\n",
    "work1 = Delivery()\n",
    "print(work1.run)\n",
    "\n",
    "class Delivery(Thread):\n",
    "    def run(self):\n",
    "        print(\"delivering\")\n",
    "\n",
    "work2 = Delivery()\n",
    "print(work2.run)"
   ]
  },
  {
   "cell_type": "markdown",
   "metadata": {},
   "source": [
    "### 4-2. 스레드 생성 및 사용\n",
    "#### 스레드 생성\n",
    "- 그대로 인스턴스화하여 스레드 생성 가능\n",
    "- Thread 클래스에 인자로 target 과 args 값 넣어주기\n",
    "- args에 넣어준 파라미터는 스레드 함수의 인자로 넘어간다.\n",
    "- t = Thread(target=함수이름, args=())"
   ]
  },
  {
   "cell_type": "code",
   "execution_count": 8,
   "metadata": {},
   "outputs": [
    {
     "name": "stdout",
     "output_type": "stream",
     "text": [
      "do  Overwork\n",
      "do  Overwork\n",
      "do  Overwork\n",
      "do  Overwork\n",
      "do  Overwork\n",
      "do  Overwork\n",
      "do  Overwork\n",
      "do  Overwork\n",
      "do  Overwork\n",
      "do  Overwork\n",
      "do  Overwork\n",
      "do  Overwork\n",
      "do  Overwork\n",
      "do  Overwork\n",
      "do  Overwork\n",
      "do  Overwork\n",
      "do  Overwork\n",
      "do  Overwork\n",
      "do  Overwork\n",
      "do  Overwork\n",
      "do  Overwork\n",
      "do  Overwork\n",
      "do  Overwork\n",
      "do  Overwork\n",
      "do  Overwork\n",
      "do  Overwork\n",
      "do  Overwork\n"
     ]
    }
   ],
   "source": [
    "from threading import *\n",
    "from time import sleep\n",
    "\n",
    "Stopped = False\n",
    "\n",
    "def worker(work, sleep_sec):    # 일꾼 스레드입니다.\n",
    "    while not Stopped:   # 그만 하라고 할때까지\n",
    "        print('do ', work)    # 시키는 일을 하고\n",
    "        sleep(sleep_sec)    # 잠깐 쉽니다.\n",
    "    print('retired..')           # 언젠가 이 굴레를 벗어나면, 은퇴할 때가 오겠지요?\n",
    "        \n",
    "t = Thread(target=worker, args=('Overwork', 3))    # 일꾼 스레드를 하나 생성합니다. 열심히 일하고 3초간 쉽니다.\n",
    "t.start()    # 일꾼, 이제 일을 해야지? 😈"
   ]
  },
  {
   "cell_type": "code",
   "execution_count": 9,
   "metadata": {},
   "outputs": [
    {
     "name": "stdout",
     "output_type": "stream",
     "text": [
      "retired..\n",
      "worker is gone.\n"
     ]
    }
   ],
   "source": [
    "# 이 코드 블럭을 실행하기 전까지는 일꾼 스레드는 종료하지 않습니다. \n",
    "Stopped = True    # 일꾼 일 그만하라고 세팅해 줍시다. \n",
    "t.join()                    # 일꾼 스레드가 종료할때까지 기다립니다. \n",
    "print('worker is gone.')"
   ]
  },
  {
   "cell_type": "markdown",
   "metadata": {},
   "source": [
    "**프로세스 생성**\n",
    "\n",
    "프로세스 또한 스레드와 유사한 방법으로 생성\n",
    "- Process 인스턴스를 만든 뒤, target 과 args 파라미터에 각각 함수 이름과 함수 인자를 전달합니다."
   ]
  },
  {
   "cell_type": "code",
   "execution_count": 10,
   "metadata": {},
   "outputs": [
    {
     "name": "stdout",
     "output_type": "stream",
     "text": [
      "delivering...\n"
     ]
    }
   ],
   "source": [
    "import multiprocessing as mp\n",
    "\n",
    "def delivery():\n",
    "    print('delivering...')\n",
    "\n",
    "p = mp.Process(target=delivery, args=())\n",
    "p.start()"
   ]
  },
  {
   "cell_type": "markdown",
   "metadata": {},
   "source": [
    "**프로세스 사용**"
   ]
  },
  {
   "cell_type": "code",
   "execution_count": null,
   "metadata": {},
   "outputs": [],
   "source": [
    "p = mp.Process(target=delivery, args=())\n",
    "p.start() # 프로세스 시작\n",
    "p.join() # 실제 종료까지 기다림 (필요시에만 사용)\n",
    "p.terminate() # 프로세스 종료"
   ]
  },
  {
   "cell_type": "markdown",
   "metadata": {},
   "source": [
    "### 4-3. 파이썬에서 스레드/프로세스 풀 사용하기\n",
    "- 멀티스레드/프로세스 작업을 할 때 가장 많은 연산이 필요한 작업은 바로 이런 스레드나 프로세스를 생성하고 종료하는 일이다.\n",
    "- 특히 스레드/프로세스를 사용한 뒤에는 제대로 종료해 주어야 컴퓨팅 리소스가 낭비되지 않습니다.\n",
    "- 하나씩 하나씩 실행한다고 전체적인 프로그램의 성능이 좋아지지는 않아요. 오히려 더 번거로울 수 있습니다. 그래서 실제로 사용할 때에는 스레드/프로세스 풀을 사용해서 생성합니다.\n"
   ]
  },
  {
   "cell_type": "markdown",
   "metadata": {},
   "source": [
    "**풀을 만드는 방법**\n",
    "1. Queue 자료구조 사용\n",
    "2. concurrent.futures 라이브러리의 ThreadPoolExecutor , ProcessPoolExecutor 클래스 이용"
   ]
  },
  {
   "cell_type": "markdown",
   "metadata": {},
   "source": [
    "#### 4-3-1. concurrent.future 모듈 소개\n",
    "- Executor 객체\n",
    "- ThreadPoolExecutor 객체\n",
    "- ProcessPoolExecutor 객체\n",
    "- Future 객체"
   ]
  },
  {
   "cell_type": "markdown",
   "metadata": {},
   "source": [
    "**ThreadPoolExecutor**\n",
    "\n",
    "Executor 객체를 이용하면 스레드 생성, 시작, 조인 같은 작업을 할 때, with 컨텍스트 관리자와 같은 방법으로 가독성 높은 코드를 구현할 수 있습니다.\n",
    "\n",
    "with ThreadPoolExecutor() as executor:\n",
    "\n",
    "    future = executor.submit(함수이름, 인자)"
   ]
  },
  {
   "cell_type": "code",
   "execution_count": 11,
   "metadata": {},
   "outputs": [
    {
     "name": "stdout",
     "output_type": "stream",
     "text": [
      "delivering\n"
     ]
    }
   ],
   "source": [
    "from concurrent.futures import ThreadPoolExecutor\n",
    "\n",
    "class Delivery:\n",
    "    def run(self):\n",
    "        print(\"delivering\")\n",
    "w = Delivery()\n",
    "\n",
    "with ThreadPoolExecutor() as executor:\n",
    "    future = executor.submit(w.run)"
   ]
  },
  {
   "cell_type": "markdown",
   "metadata": {},
   "source": [
    "**multiprocessing.Pool**\n",
    "\n",
    "multiprocessing.Pool.map을 통해 여러개의 프로세스에 특정 함수를 매핑해서 병렬처리하도록 구현하는 방법"
   ]
  },
  {
   "cell_type": "code",
   "execution_count": 12,
   "metadata": {},
   "outputs": [
    {
     "name": "stdout",
     "output_type": "stream",
     "text": [
      "I'm process I'm process I'm process I'm process I'm process     12670 12669126731267112672\n",
      "\n",
      "\n",
      "\n",
      "\n",
      "[2, 4, 6, 8, 10]\n"
     ]
    }
   ],
   "source": [
    "from multiprocessing import Pool\n",
    "from os import getpid\n",
    "\n",
    "def double(i):\n",
    "    print(\"I'm process \", getpid())    # pool 안에서 이 메소드가 실행될 때 pid를 확인해 봅시다.\n",
    "    return i * 2\n",
    "\n",
    "with Pool() as pool:\n",
    "      result = pool.map(double, [1, 2, 3, 4, 5])\n",
    "      print(result)"
   ]
  },
  {
   "cell_type": "markdown",
   "metadata": {},
   "source": [
    "## 5. 실습"
   ]
  },
  {
   "cell_type": "code",
   "execution_count": 13,
   "metadata": {},
   "outputs": [
    {
     "name": "stdout",
     "output_type": "stream",
     "text": [
      "112272535095293 is prime: True\n",
      "112582705942171 is prime: True\n",
      "112272535095293 is prime: True\n",
      "115280095190773 is prime: True\n",
      "115797848077099 is prime: True\n",
      "1099726899285419 is prime: False\n"
     ]
    }
   ],
   "source": [
    "# 소수 (prime) 판별 문제로 PRIMES 변수에 선언된 숫자들이 소수인지 아닌지 판별\n",
    "import math\n",
    "import concurrent\n",
    "\n",
    "PRIMES = [\n",
    "    112272535095293,\n",
    "    112582705942171,\n",
    "    112272535095293,\n",
    "    115280095190773,\n",
    "    115797848077099,\n",
    "    1099726899285419]\n",
    "\n",
    "# 소수판별 함수 is_prime()\n",
    "def is_prime(n):\n",
    "    if n < 2:\n",
    "        return False\n",
    "    if n == 2:\n",
    "        return True\n",
    "    if n % 2 == 0:\n",
    "        return False\n",
    "\n",
    "    sqrt_n = int(math.floor(math.sqrt(n))) # Math.floor() 함수는 주어진 숫자와 같거나 작은 정수 중에서 가장 큰 수를 반환\n",
    "    for i in range(3, sqrt_n + 1, 2):\n",
    "        if n % i == 0:\n",
    "            return False\n",
    "    return True\n",
    "\n",
    "# 소수 판별 함수 호출\n",
    "def main():\n",
    "    with concurrent.futures.ProcessPoolExecutor() as executor: # map() 함수를 ProcessPoolExecutor() 인스턴스에서 생성된 executor 에서 실행\n",
    "        for number, prime in zip(PRIMES, executor.map(is_prime, PRIMES)):\n",
    "            print('%d is prime: %s' % (number, prime))\n",
    "\n",
    "if __name__ == '__main__':\n",
    "    main()"
   ]
  },
  {
   "cell_type": "markdown",
   "metadata": {},
   "source": [
    "#### 병렬처리와 단일처리의 비교\n",
    "- 프로파일링을 위한 시간계산 코드를 추가\n",
    "- 단일처리로 수행했을 때의 코드를 추가, 단일처리 프로파일링을 위한 시간계산 코드를 추가."
   ]
  },
  {
   "cell_type": "code",
   "execution_count": 14,
   "metadata": {},
   "outputs": [
    {
     "name": "stdout",
     "output_type": "stream",
     "text": [
      " ❣\n",
      "🌲🦕.......\n"
     ]
    }
   ],
   "source": [
    "import time\n",
    "\n",
    "def main():\n",
    "    print(\"병렬처리 시작\")\n",
    "    start = time.time()\n",
    "    with concurrent.futures.ProcessPoolExecutor() as executor:\n",
    "        for number, prime in zip(PRIMES, executor.map(is_prime, PRIMES)):\n",
    "            print('%d is prime: %s' % (number, prime))\n",
    "    end = time.time()\n",
    "    print(\"병렬처리 수행 시각\", end-start, 's')\n",
    "\n",
    "    start = time.time()\n",
    "    for number, prime in zip(PRIMES, map(is_prime, PRIMES)):\n",
    "        print('%d is prime: %s' % (number, prime))\n",
    "    end = time.time()\n",
    "    print(\"단일처리 수행 시각\", end-start, 's')\n",
    "print(\" ❣\\n🌲🦕.......\")"
   ]
  },
  {
   "cell_type": "code",
   "execution_count": 15,
   "metadata": {},
   "outputs": [
    {
     "name": "stdout",
     "output_type": "stream",
     "text": [
      "병렬처리 시작\n",
      "112272535095293 is prime: True\n",
      "112582705942171 is prime: True\n",
      "112272535095293 is prime: True\n",
      "115280095190773 is prime: True\n",
      "115797848077099 is prime: True\n",
      "1099726899285419 is prime: False\n",
      "병렬처리 수행 시각 0.5657367706298828 s\n",
      "112272535095293 is prime: True\n",
      "112582705942171 is prime: True\n",
      "112272535095293 is prime: True\n",
      "115280095190773 is prime: True\n",
      "115797848077099 is prime: True\n",
      "1099726899285419 is prime: False\n",
      "단일처리 수행 시각 2.018218994140625 s\n"
     ]
    }
   ],
   "source": [
    "main()"
   ]
  },
  {
   "cell_type": "code",
   "execution_count": null,
   "metadata": {},
   "outputs": [],
   "source": []
  },
  {
   "cell_type": "code",
   "execution_count": null,
   "metadata": {},
   "outputs": [],
   "source": []
  },
  {
   "cell_type": "code",
   "execution_count": null,
   "metadata": {},
   "outputs": [],
   "source": []
  },
  {
   "cell_type": "code",
   "execution_count": null,
   "metadata": {},
   "outputs": [],
   "source": []
  }
 ],
 "metadata": {
  "kernelspec": {
   "display_name": "aiffel",
   "language": "python",
   "name": "aiffel"
  },
  "language_info": {
   "codemirror_mode": {
    "name": "ipython",
    "version": 3
   },
   "file_extension": ".py",
   "mimetype": "text/x-python",
   "name": "python",
   "nbconvert_exporter": "python",
   "pygments_lexer": "ipython3",
   "version": "3.7.6"
  }
 },
 "nbformat": 4,
 "nbformat_minor": 4
}
