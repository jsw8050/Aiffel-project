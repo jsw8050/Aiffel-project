{
 "cells": [
  {
   "cell_type": "markdown",
   "metadata": {},
   "source": [
    "### pandas\n",
    "- 축의 이름에 따라 데이터 정렬하는 자료 구조\n",
    "- 통합된 시계열 기능 과 시계열 데이터와 비시계열 데이터를 다룰 수 있는 통합 자료 구조\n",
    "- 누락된 데이터 처리 가능\n",
    "- 데이터베이스처럼 데이터를 합치고 관계연산 수행 기능"
   ]
  },
  {
   "cell_type": "markdown",
   "metadata": {},
   "source": [
    "### 1. Series\n",
    "- 일련의 객체를 담을 수 있는 1차원 배열과 비슷한 자료 구조\n",
    "- 리스트, 튜플, NumPy 자료형으로 만들 수 있음"
   ]
  },
  {
   "cell_type": "code",
   "execution_count": 1,
   "metadata": {},
   "outputs": [
    {
     "data": {
      "text/plain": [
       "0    a\n",
       "1    b\n",
       "2    c\n",
       "3    3\n",
       "dtype: object"
      ]
     },
     "execution_count": 1,
     "metadata": {},
     "output_type": "execute_result"
    }
   ],
   "source": [
    "import pandas as pd\n",
    "ser = pd.Series(['a','b','c',3])\n",
    "ser"
   ]
  },
  {
   "cell_type": "markdown",
   "metadata": {},
   "source": [
    "#### 1-2. 인덱스\n",
    "- Series에는 index와 value 존재\n",
    "- 인덱스는 순서 나타낸 숫자\n",
    "- 밸류는 실제 데이터 값"
   ]
  },
  {
   "cell_type": "code",
   "execution_count": 2,
   "metadata": {},
   "outputs": [
    {
     "data": {
      "text/plain": [
       "array(['a', 'b', 'c', 3], dtype=object)"
      ]
     },
     "execution_count": 2,
     "metadata": {},
     "output_type": "execute_result"
    }
   ],
   "source": [
    "ser.values # 밸류는 array 형태로 반환"
   ]
  },
  {
   "cell_type": "code",
   "execution_count": 3,
   "metadata": {},
   "outputs": [
    {
     "data": {
      "text/plain": [
       "RangeIndex(start=0, stop=4, step=1)"
      ]
     },
     "execution_count": 3,
     "metadata": {},
     "output_type": "execute_result"
    }
   ],
   "source": [
    "ser.index #RangeIndex 는 정수형 인덱스"
   ]
  },
  {
   "cell_type": "markdown",
   "metadata": {},
   "source": [
    "#### 1-3. 인덱스 설정\n",
    "- Series의 인자로 넣어주는 방법"
   ]
  },
  {
   "cell_type": "code",
   "execution_count": 4,
   "metadata": {},
   "outputs": [
    {
     "data": {
      "text/plain": [
       "i    a\n",
       "j    b\n",
       "k    c\n",
       "h    3\n",
       "dtype: object"
      ]
     },
     "execution_count": 4,
     "metadata": {},
     "output_type": "execute_result"
    }
   ],
   "source": [
    "ser2 = pd.Series(['a', 'b', 'c', 3], index=['i','j','k','h'])\n",
    "ser2"
   ]
  },
  {
   "cell_type": "markdown",
   "metadata": {},
   "source": [
    "- 할당 연산자"
   ]
  },
  {
   "cell_type": "code",
   "execution_count": 5,
   "metadata": {
    "scrolled": true
   },
   "outputs": [
    {
     "data": {
      "text/plain": [
       "Jhon     a\n",
       "Steve    b\n",
       "Jack     c\n",
       "Bob      3\n",
       "dtype: object"
      ]
     },
     "execution_count": 5,
     "metadata": {},
     "output_type": "execute_result"
    }
   ],
   "source": [
    "ser2.index = ['Jhon', 'Steve', 'Jack', 'Bob']\n",
    "ser2"
   ]
  },
  {
   "cell_type": "code",
   "execution_count": 6,
   "metadata": {},
   "outputs": [
    {
     "data": {
      "text/plain": [
       "Korea      82\n",
       "America     1\n",
       "Swiss      41\n",
       "Italy      39\n",
       "Japan      81\n",
       "China      86\n",
       "Rusia       7\n",
       "dtype: int64"
      ]
     },
     "execution_count": 6,
     "metadata": {},
     "output_type": "execute_result"
    }
   ],
   "source": [
    "# 딕셔너리 타입의 데이터를 시리즈 객체로 나타낼 수 있음\n",
    "\n",
    "Country_PhoneNumber = {'Korea': 82, 'America': 1, 'Swiss': 41, 'Italy': 39, 'Japan': 81, 'China': 86, 'Rusia': 7}\n",
    "ser3 = pd.Series(Country_PhoneNumber)\n",
    "ser3"
   ]
  },
  {
   "cell_type": "markdown",
   "metadata": {},
   "source": [
    "### 2. Series의 Name\n",
    "- Series객체의 name 속성을 이용해서 Series 객체의 이름을 설정\n",
    "- Series Index의 name 속성을 이용해서 인덱스 이름을 설정"
   ]
  },
  {
   "cell_type": "code",
   "execution_count": 7,
   "metadata": {},
   "outputs": [
    {
     "data": {
      "text/plain": [
       "Country_Name\n",
       "Korea      82\n",
       "America     1\n",
       "Swiss      41\n",
       "Italy      39\n",
       "Japan      81\n",
       "China      86\n",
       "Rusia       7\n",
       "Name: Country_PhoneNumber, dtype: int64"
      ]
     },
     "execution_count": 7,
     "metadata": {},
     "output_type": "execute_result"
    }
   ],
   "source": [
    "### 중요!! \n",
    "ser3.name = 'Country_PhoneNumber'\n",
    "ser3.index.name = 'Country_Name'\n",
    "ser3"
   ]
  }
 ],
 "metadata": {
  "kernelspec": {
   "display_name": "aiffel",
   "language": "python",
   "name": "aiffel"
  },
  "language_info": {
   "codemirror_mode": {
    "name": "ipython",
    "version": 3
   },
   "file_extension": ".py",
   "mimetype": "text/x-python",
   "name": "python",
   "nbconvert_exporter": "python",
   "pygments_lexer": "ipython3",
   "version": "3.7.6"
  }
 },
 "nbformat": 4,
 "nbformat_minor": 4
}
