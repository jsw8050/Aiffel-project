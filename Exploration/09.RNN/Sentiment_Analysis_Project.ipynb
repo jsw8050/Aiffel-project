{
 "cells": [
  {
   "cell_type": "markdown",
   "metadata": {},
   "source": [
    "### 1. 데이터 준비와 확인"
   ]
  },
  {
   "cell_type": "code",
   "execution_count": 1,
   "metadata": {},
   "outputs": [
    {
     "data": {
      "text/html": [
       "<div>\n",
       "<style scoped>\n",
       "    .dataframe tbody tr th:only-of-type {\n",
       "        vertical-align: middle;\n",
       "    }\n",
       "\n",
       "    .dataframe tbody tr th {\n",
       "        vertical-align: top;\n",
       "    }\n",
       "\n",
       "    .dataframe thead th {\n",
       "        text-align: right;\n",
       "    }\n",
       "</style>\n",
       "<table border=\"1\" class=\"dataframe\">\n",
       "  <thead>\n",
       "    <tr style=\"text-align: right;\">\n",
       "      <th></th>\n",
       "      <th>id</th>\n",
       "      <th>document</th>\n",
       "      <th>label</th>\n",
       "    </tr>\n",
       "  </thead>\n",
       "  <tbody>\n",
       "    <tr>\n",
       "      <th>0</th>\n",
       "      <td>9976970</td>\n",
       "      <td>아 더빙.. 진짜 짜증나네요 목소리</td>\n",
       "      <td>0</td>\n",
       "    </tr>\n",
       "    <tr>\n",
       "      <th>1</th>\n",
       "      <td>3819312</td>\n",
       "      <td>흠...포스터보고 초딩영화줄....오버연기조차 가볍지 않구나</td>\n",
       "      <td>1</td>\n",
       "    </tr>\n",
       "    <tr>\n",
       "      <th>2</th>\n",
       "      <td>10265843</td>\n",
       "      <td>너무재밓었다그래서보는것을추천한다</td>\n",
       "      <td>0</td>\n",
       "    </tr>\n",
       "    <tr>\n",
       "      <th>3</th>\n",
       "      <td>9045019</td>\n",
       "      <td>교도소 이야기구먼 ..솔직히 재미는 없다..평점 조정</td>\n",
       "      <td>0</td>\n",
       "    </tr>\n",
       "    <tr>\n",
       "      <th>4</th>\n",
       "      <td>6483659</td>\n",
       "      <td>사이몬페그의 익살스런 연기가 돋보였던 영화!스파이더맨에서 늙어보이기만 했던 커스틴 ...</td>\n",
       "      <td>1</td>\n",
       "    </tr>\n",
       "  </tbody>\n",
       "</table>\n",
       "</div>"
      ],
      "text/plain": [
       "         id                                           document  label\n",
       "0   9976970                                아 더빙.. 진짜 짜증나네요 목소리      0\n",
       "1   3819312                  흠...포스터보고 초딩영화줄....오버연기조차 가볍지 않구나      1\n",
       "2  10265843                                  너무재밓었다그래서보는것을추천한다      0\n",
       "3   9045019                      교도소 이야기구먼 ..솔직히 재미는 없다..평점 조정      0\n",
       "4   6483659  사이몬페그의 익살스런 연기가 돋보였던 영화!스파이더맨에서 늙어보이기만 했던 커스틴 ...      1"
      ]
     },
     "execution_count": 1,
     "metadata": {},
     "output_type": "execute_result"
    }
   ],
   "source": [
    "import pandas as pd\n",
    "import urllib.request\n",
    "%matplotlib inline\n",
    "import matplotlib.pyplot as plt\n",
    "import re\n",
    "from konlpy.tag import Okt\n",
    "from tensorflow import keras\n",
    "from tensorflow.keras.preprocessing.text import Tokenizer\n",
    "import numpy as np\n",
    "from tensorflow.keras.preprocessing.sequence import pad_sequences\n",
    "from collections import Counter\n",
    "\n",
    "# 데이터를 읽어봅시다. \n",
    "train_data = pd.read_table('~/workplace/aiffel/Exploration/09.RNN/ratings_train.txt')\n",
    "test_data = pd.read_table('~/workplace/aiffel/Exploration/09.RNN/ratings_test.txt')\n",
    "\n",
    "train_data.head()"
   ]
  },
  {
   "cell_type": "markdown",
   "metadata": {},
   "source": [
    "### 2. 데이터로더 구성\n",
    "- 데이터의 중복 제거\n",
    "- NaN 결측치 제거\n",
    "- 한국어 토크나이저로 토큰화\n",
    "- 불용어(Stopwords) 제거\n",
    "- 사전word_to_index 구성\n",
    "- 텍스트 스트링을 사전 인덱스 스트링으로 변환\n",
    "- X_train, y_train, X_test, y_test, word_to_index 리턴"
   ]
  },
  {
   "cell_type": "code",
   "execution_count": 2,
   "metadata": {},
   "outputs": [],
   "source": [
    "from konlpy.tag import Mecab\n",
    "tokenizer = Mecab()\n",
    "stopwords = ['의','가','이','은','들','는','좀','잘','걍','과','도','를','으로','자','에','와','한','하다']\n",
    "\n",
    "def load_data(train_data, test_data, num_words=10000):\n",
    "    train_data.drop_duplicates(subset=['document'], inplace=True)\n",
    "    train_data = train_data.dropna(how = 'any') \n",
    "    test_data.drop_duplicates(subset=['document'], inplace=True)\n",
    "    test_data = test_data.dropna(how = 'any') \n",
    "\n",
    "    X_train = []\n",
    "    for sentence in train_data['document']:\n",
    "        temp_X = tokenizer.morphs(sentence) # 토큰화\n",
    "        temp_X = [word for word in temp_X if not word in stopwords] # 불용어 제거\n",
    "        X_train.append(temp_X)\n",
    "\n",
    "    X_test = []\n",
    "    for sentence in test_data['document']:\n",
    "        temp_X = tokenizer.morphs(sentence) # 토큰화\n",
    "        temp_X = [word for word in temp_X if not word in stopwords] # 불용어 제거\n",
    "        X_test.append(temp_X)\n",
    "\n",
    "    words = np.concatenate(X_train).tolist()\n",
    "    counter = Counter(words)\n",
    "    counter = counter.most_common(10000-4)\n",
    "    vocab = ['<PAD>', '<BOS>', '<UNK>', '<UNUSED>'] + [key for key, _ in counter]\n",
    "    word_to_index = {word:index for index, word in enumerate(vocab)}\n",
    "\n",
    "    def wordlist_to_indexlist(wordlist):\n",
    "        return [word_to_index[word] if word in word_to_index else word_to_index['<UNK>'] for word in wordlist]\n",
    "\n",
    "    X_train = list(map(wordlist_to_indexlist, X_train))\n",
    "    X_test = list(map(wordlist_to_indexlist, X_test))\n",
    "\n",
    "    return X_train, np.array(list(train_data['label'])), X_test, np.array(list(test_data['label'])), word_to_index\n",
    "\n",
    "X_train, y_train, X_test, y_test, word_to_index = load_data(train_data, test_data) "
   ]
  },
  {
   "cell_type": "code",
   "execution_count": 3,
   "metadata": {},
   "outputs": [],
   "source": [
    "index_to_word = {index:word for word, index in word_to_index.items()}"
   ]
  },
  {
   "cell_type": "code",
   "execution_count": 4,
   "metadata": {},
   "outputs": [],
   "source": [
    "# 문장 1개를 활용할 딕셔너리와 함께 주면, 단어 인덱스 리스트 벡터로 변환해 주는 함수입니다. \n",
    "# 단, 모든 문장은 <BOS>로 시작하는 것으로 합니다. \n",
    "def get_encoded_sentence(sentence, word_to_index):\n",
    "    return [word_to_index['<BOS>']]+[word_to_index[word] if word in word_to_index else word_to_index['<UNK>'] for word in sentence.split()]\n",
    "\n",
    "# 여러 개의 문장 리스트를 한꺼번에 단어 인덱스 리스트 벡터로 encode해 주는 함수입니다. \n",
    "def get_encoded_sentences(sentences, word_to_index):\n",
    "    return [get_encoded_sentence(sentence, word_to_index) for sentence in sentences]\n",
    "\n",
    "# 숫자 벡터로 encode된 문장을 원래대로 decode하는 함수입니다. \n",
    "def get_decoded_sentence(encoded_sentence, index_to_word):\n",
    "    return ' '.join(index_to_word[index] if index in index_to_word else '<UNK>' for index in encoded_sentence[1:])  #[1:]를 통해 <BOS>를 제외\n",
    "\n",
    "# 여러개의 숫자 벡터로 encode된 문장을 한꺼번에 원래대로 decode하는 함수입니다. \n",
    "def get_decoded_sentences(encoded_sentences, index_to_word):\n",
    "    return [get_decoded_sentence(encoded_sentence, index_to_word) for encoded_sentence in encoded_sentences]"
   ]
  },
  {
   "cell_type": "markdown",
   "metadata": {},
   "source": [
    "### 3. 모델구성을 위한 데이터 분석 및 가공\n",
    "- 데이터셋 내 문장 길이 분포\n",
    "- 적절한 최대 문장 길이 지정\n",
    "- keras.preprocessing.sequence.pad_sequences 을 활용한 패딩 추가"
   ]
  },
  {
   "cell_type": "markdown",
   "metadata": {},
   "source": [
    "#### 3-1. 데이터셋 내 문장 길이 분포"
   ]
  },
  {
   "cell_type": "code",
   "execution_count": 5,
   "metadata": {},
   "outputs": [
    {
     "name": "stdout",
     "output_type": "stream",
     "text": [
      "[32, 74, 919, 4, 4, 39, 228, 20, 33, 748]\n",
      "라벨:  0\n",
      "1번째 리뷰 문장 길이:  10\n",
      "2번째 리뷰 문장 길이:  17\n"
     ]
    }
   ],
   "source": [
    "print(X_train[0])  # 1번째 리뷰데이터\n",
    "print('라벨: ', y_train[0])  # 1번째 리뷰데이터의 라벨\n",
    "print('1번째 리뷰 문장 길이: ', len(X_train[0]))\n",
    "print('2번째 리뷰 문장 길이: ', len(X_train[1]))"
   ]
  },
  {
   "cell_type": "code",
   "execution_count": 6,
   "metadata": {},
   "outputs": [
    {
     "name": "stdout",
     "output_type": "stream",
     "text": [
      "문장길이 평균 :  15.969376315021577\n",
      "문장길이 최대 :  116\n",
      "문장길이 표준편차 :  12.843535456326455\n"
     ]
    }
   ],
   "source": [
    "total_data_text = list(X_train) + list(X_test)\n",
    "# 텍스트데이터 문장길이의 리스트를 생성한 후\n",
    "num_tokens = [len(tokens) for tokens in total_data_text]\n",
    "num_tokens = np.array(num_tokens)\n",
    "# 문장길이의 평균값, 최대값, 표준편차를 계산해 본다. \n",
    "print('문장길이 평균 : ', np.mean(num_tokens))\n",
    "print('문장길이 최대 : ', np.max(num_tokens))\n",
    "print('문장길이 표준편차 : ', np.std(num_tokens))"
   ]
  },
  {
   "cell_type": "markdown",
   "metadata": {},
   "source": [
    "#### 3-2. 적절한 최대 문장 길이 지정"
   ]
  },
  {
   "cell_type": "code",
   "execution_count": 7,
   "metadata": {},
   "outputs": [
    {
     "name": "stdout",
     "output_type": "stream",
     "text": [
      "pad_sequences maxlen :  41\n",
      "전체 문장의 0.9342988343341575%가 maxlen 설정값 이내에 포함됩니다. \n"
     ]
    }
   ],
   "source": [
    "# 예를들어, 최대 길이를 (평균 + 2*표준편차)로 한다면,  \n",
    "max_tokens = np.mean(num_tokens) + 2 * np.std(num_tokens)\n",
    "maxlen = int(max_tokens)\n",
    "print('pad_sequences maxlen : ', maxlen)\n",
    "print('전체 문장의 {}%가 maxlen 설정값 이내에 포함됩니다. '.format(np.sum(num_tokens < max_tokens) / len(num_tokens)))"
   ]
  },
  {
   "cell_type": "markdown",
   "metadata": {},
   "source": [
    "#### 3-3. keras.preprocessing.sequence.pad_sequences 을 활용한 패딩 추가"
   ]
  },
  {
   "cell_type": "code",
   "execution_count": 8,
   "metadata": {},
   "outputs": [
    {
     "name": "stdout",
     "output_type": "stream",
     "text": [
      "(146182, 41)\n"
     ]
    }
   ],
   "source": [
    "X_train = keras.preprocessing.sequence.pad_sequences(X_train,\n",
    "                                                        value=word_to_index[\"<PAD>\"],\n",
    "                                                        padding='post', # 혹은 'pre'\n",
    "                                                        maxlen=maxlen)\n",
    "\n",
    "X_test = keras.preprocessing.sequence.pad_sequences(X_test,\n",
    "                                                       value=word_to_index[\"<PAD>\"],\n",
    "                                                       padding='post', # 혹은 'pre'\n",
    "                                                       maxlen=maxlen)\n",
    "\n",
    "print(X_train.shape)"
   ]
  },
  {
   "cell_type": "markdown",
   "metadata": {},
   "source": [
    "### 4. 모델구성 및 validation set 구성\n",
    "- 3가지 이상 이용"
   ]
  },
  {
   "cell_type": "markdown",
   "metadata": {},
   "source": [
    "#### 4-1. 1-D CNN"
   ]
  },
  {
   "cell_type": "code",
   "execution_count": 9,
   "metadata": {},
   "outputs": [
    {
     "name": "stdout",
     "output_type": "stream",
     "text": [
      "Model: \"sequential\"\n",
      "_________________________________________________________________\n",
      "Layer (type)                 Output Shape              Param #   \n",
      "=================================================================\n",
      "embedding (Embedding)        (None, None, 16)          160000    \n",
      "_________________________________________________________________\n",
      "conv1d (Conv1D)              (None, None, 16)          1808      \n",
      "_________________________________________________________________\n",
      "max_pooling1d (MaxPooling1D) (None, None, 16)          0         \n",
      "_________________________________________________________________\n",
      "conv1d_1 (Conv1D)            (None, None, 16)          1808      \n",
      "_________________________________________________________________\n",
      "global_max_pooling1d (Global (None, 16)                0         \n",
      "_________________________________________________________________\n",
      "dense (Dense)                (None, 8)                 136       \n",
      "_________________________________________________________________\n",
      "dense_1 (Dense)              (None, 1)                 9         \n",
      "=================================================================\n",
      "Total params: 163,761\n",
      "Trainable params: 163,761\n",
      "Non-trainable params: 0\n",
      "_________________________________________________________________\n"
     ]
    }
   ],
   "source": [
    "vocab_size = 10000  # 어휘 사전의 크기입니다(10개의 단어)\n",
    "word_vector_dim = 16  # 어휘 사전의 크기입니다(10개의 단어)\n",
    "\n",
    "model = keras.Sequential()\n",
    "model.add(keras.layers.Embedding(vocab_size, word_vector_dim, input_shape=(None,)))\n",
    "model.add(keras.layers.Conv1D(16, 7, activation='relu'))\n",
    "model.add(keras.layers.MaxPooling1D(5))\n",
    "model.add(keras.layers.Conv1D(16, 7, activation='relu'))\n",
    "model.add(keras.layers.GlobalMaxPooling1D())\n",
    "model.add(keras.layers.Dense(8, activation='relu'))\n",
    "model.add(keras.layers.Dense(1, activation='sigmoid'))  # 최종 출력은 긍정/부정을 나타내는 1dim 입니다.\n",
    "\n",
    "model.summary()"
   ]
  },
  {
   "cell_type": "markdown",
   "metadata": {},
   "source": [
    "#### 4-2. Word2Vec"
   ]
  },
  {
   "cell_type": "code",
   "execution_count": 10,
   "metadata": {
    "scrolled": true
   },
   "outputs": [
    {
     "data": {
      "text/plain": [
       "array([ 1.07421875e-01, -2.01171875e-01,  1.23046875e-01,  2.11914062e-01,\n",
       "       -9.13085938e-02,  2.16796875e-01, -1.31835938e-01,  8.30078125e-02,\n",
       "        2.02148438e-01,  4.78515625e-02,  3.66210938e-02, -2.45361328e-02,\n",
       "        2.39257812e-02, -1.60156250e-01, -2.61230469e-02,  9.71679688e-02,\n",
       "       -6.34765625e-02,  1.84570312e-01,  1.70898438e-01, -1.63085938e-01,\n",
       "       -1.09375000e-01,  1.49414062e-01, -4.65393066e-04,  9.61914062e-02,\n",
       "        1.68945312e-01,  2.60925293e-03,  8.93554688e-02,  6.49414062e-02,\n",
       "        3.56445312e-02, -6.93359375e-02, -1.46484375e-01, -1.21093750e-01,\n",
       "       -2.27539062e-01,  2.45361328e-02, -1.24511719e-01, -3.18359375e-01,\n",
       "       -2.20703125e-01,  1.30859375e-01,  3.66210938e-02, -3.63769531e-02,\n",
       "       -1.13281250e-01,  1.95312500e-01,  9.76562500e-02,  1.26953125e-01,\n",
       "        6.59179688e-02,  6.93359375e-02,  1.02539062e-02,  1.75781250e-01,\n",
       "       -1.68945312e-01,  1.21307373e-03, -2.98828125e-01, -1.15234375e-01,\n",
       "        5.66406250e-02, -1.77734375e-01, -2.08984375e-01,  1.76757812e-01,\n",
       "        2.38037109e-02, -2.57812500e-01, -4.46777344e-02,  1.88476562e-01,\n",
       "        5.51757812e-02,  5.02929688e-02, -1.06933594e-01,  1.89453125e-01,\n",
       "       -1.16210938e-01,  8.49609375e-02, -1.71875000e-01,  2.45117188e-01,\n",
       "       -1.73828125e-01, -8.30078125e-03,  4.56542969e-02, -1.61132812e-02,\n",
       "        1.86523438e-01, -6.05468750e-02, -4.17480469e-02,  1.82617188e-01,\n",
       "        2.20703125e-01, -1.22558594e-01, -2.55126953e-02, -3.08593750e-01,\n",
       "        9.13085938e-02,  1.60156250e-01,  1.70898438e-01,  1.19628906e-01,\n",
       "        7.08007812e-02, -2.64892578e-02, -3.08837891e-02,  4.06250000e-01,\n",
       "       -1.01562500e-01,  5.71289062e-02, -7.26318359e-03, -9.17968750e-02,\n",
       "       -1.50390625e-01, -2.55859375e-01,  2.16796875e-01, -3.63769531e-02,\n",
       "        2.24609375e-01,  8.00781250e-02,  1.56250000e-01,  5.27343750e-02,\n",
       "        1.50390625e-01, -1.14746094e-01, -8.64257812e-02,  1.19140625e-01,\n",
       "       -7.17773438e-02,  2.73437500e-01, -1.64062500e-01,  7.29370117e-03,\n",
       "        4.21875000e-01, -1.12792969e-01, -1.35742188e-01, -1.31835938e-01,\n",
       "       -1.37695312e-01, -7.66601562e-02,  6.25000000e-02,  4.98046875e-02,\n",
       "       -1.91406250e-01, -6.03027344e-02,  2.27539062e-01,  5.88378906e-02,\n",
       "       -3.24218750e-01,  5.41992188e-02, -1.35742188e-01,  8.17871094e-03,\n",
       "       -5.24902344e-02, -1.74713135e-03, -9.81445312e-02, -2.86865234e-02,\n",
       "        3.61328125e-02,  2.15820312e-01,  5.98144531e-02, -3.08593750e-01,\n",
       "       -2.27539062e-01,  2.61718750e-01,  9.86328125e-02, -5.07812500e-02,\n",
       "        1.78222656e-02,  1.31835938e-01, -5.35156250e-01, -1.81640625e-01,\n",
       "        1.38671875e-01, -3.10546875e-01, -9.71679688e-02,  1.31835938e-01,\n",
       "       -1.16210938e-01,  7.03125000e-02,  2.85156250e-01,  3.51562500e-02,\n",
       "       -1.01562500e-01, -3.75976562e-02,  1.41601562e-01,  1.42578125e-01,\n",
       "       -5.68847656e-02,  2.65625000e-01, -2.09960938e-01,  9.64355469e-03,\n",
       "       -6.68945312e-02, -4.83398438e-02, -6.10351562e-02,  2.45117188e-01,\n",
       "       -9.66796875e-02,  1.78222656e-02, -1.27929688e-01, -4.78515625e-02,\n",
       "       -7.26318359e-03,  1.79687500e-01,  2.78320312e-02, -2.10937500e-01,\n",
       "       -1.43554688e-01, -1.27929688e-01,  1.73339844e-02, -3.60107422e-03,\n",
       "       -2.04101562e-01,  3.63159180e-03, -1.19628906e-01, -6.15234375e-02,\n",
       "        5.93261719e-02, -3.23486328e-03, -1.70898438e-01, -3.14941406e-02,\n",
       "       -8.88671875e-02, -2.89062500e-01,  3.44238281e-02, -1.87500000e-01,\n",
       "        2.94921875e-01,  1.58203125e-01, -1.19628906e-01,  7.61718750e-02,\n",
       "        6.39648438e-02, -4.68750000e-02, -6.83593750e-02,  1.21459961e-02,\n",
       "       -1.44531250e-01,  4.54101562e-02,  3.68652344e-02,  3.88671875e-01,\n",
       "        1.45507812e-01, -2.55859375e-01, -4.46777344e-02, -1.33789062e-01,\n",
       "       -1.38671875e-01,  6.59179688e-02,  1.37695312e-01,  1.14746094e-01,\n",
       "        2.03125000e-01, -4.78515625e-02,  1.80664062e-02, -8.54492188e-02,\n",
       "       -2.48046875e-01, -3.39843750e-01, -2.83203125e-02,  1.05468750e-01,\n",
       "       -2.14843750e-01, -8.74023438e-02,  7.12890625e-02,  1.87500000e-01,\n",
       "       -1.12304688e-01,  2.73437500e-01, -3.26171875e-01, -1.77734375e-01,\n",
       "       -4.24804688e-02, -2.69531250e-01,  6.64062500e-02, -6.88476562e-02,\n",
       "       -1.99218750e-01, -7.03125000e-02, -2.43164062e-01, -3.66210938e-02,\n",
       "       -7.37304688e-02, -1.77734375e-01,  9.17968750e-02, -1.25000000e-01,\n",
       "       -1.65039062e-01, -3.57421875e-01, -2.85156250e-01, -1.66992188e-01,\n",
       "        1.97265625e-01, -1.53320312e-01,  2.31933594e-02,  2.06054688e-01,\n",
       "        1.80664062e-01, -2.74658203e-02, -1.92382812e-01, -9.61914062e-02,\n",
       "       -1.06811523e-02, -4.73632812e-02,  6.54296875e-02, -1.25732422e-02,\n",
       "        1.78222656e-02, -8.00781250e-02, -2.59765625e-01,  9.37500000e-02,\n",
       "       -7.81250000e-02,  4.68750000e-02, -2.22167969e-02,  1.86767578e-02,\n",
       "        3.11279297e-02,  1.04980469e-02, -1.69921875e-01,  2.58789062e-02,\n",
       "       -3.41796875e-02, -1.44042969e-02, -5.46875000e-02, -8.78906250e-02,\n",
       "        1.96838379e-03,  2.23632812e-01, -1.36718750e-01,  1.75781250e-01,\n",
       "       -1.63085938e-01,  1.87500000e-01,  3.44238281e-02, -5.63964844e-02,\n",
       "       -2.27689743e-05,  4.27246094e-02,  5.81054688e-02, -1.07910156e-01,\n",
       "       -3.88183594e-02, -2.69531250e-01,  3.34472656e-02,  9.81445312e-02,\n",
       "        5.63964844e-02,  2.23632812e-01, -5.49316406e-02,  1.46484375e-01,\n",
       "        5.93261719e-02, -2.19726562e-01,  6.39648438e-02,  1.66015625e-02,\n",
       "        4.56542969e-02,  3.26171875e-01, -3.80859375e-01,  1.70898438e-01,\n",
       "        5.66406250e-02, -1.04492188e-01,  1.38671875e-01, -1.57226562e-01,\n",
       "        3.23486328e-03, -4.80957031e-02, -2.48046875e-01, -6.20117188e-02],\n",
       "      dtype=float32)"
      ]
     },
     "execution_count": 10,
     "metadata": {},
     "output_type": "execute_result"
    }
   ],
   "source": [
    "import os\n",
    "from gensim.models import KeyedVectors\n",
    "word2vec_path = os.getenv('HOME')+'/workplace/aiffel/Exploration/09.RNN/GoogleNews-vectors-negative300.bin'\n",
    "word2vec = KeyedVectors.load_word2vec_format(word2vec_path, binary=True)\n",
    "vector = word2vec['computer']\n",
    "vector     # 무려 300dim의 워드 벡터입니다."
   ]
  },
  {
   "cell_type": "code",
   "execution_count": 11,
   "metadata": {},
   "outputs": [],
   "source": [
    "vocab_size = 10000    # 어휘 사전의 크기입니다(10,000개의 단어)\n",
    "word_vector_dim = 300  # 워드 벡터의 차원수 (변경가능한 하이퍼파라미터)\n",
    "\n",
    "embedding_matrix = np.random.rand(vocab_size, word_vector_dim)\n",
    "\n",
    "# embedding_matrix에 Word2Vec 워드벡터를 단어 하나씩마다 차례차례 카피한다.\n",
    "for i in range(4,vocab_size):\n",
    "    if index_to_word[i] in word2vec:\n",
    "        embedding_matrix[i] = word2vec[index_to_word[i]]"
   ]
  },
  {
   "cell_type": "code",
   "execution_count": 12,
   "metadata": {},
   "outputs": [
    {
     "name": "stdout",
     "output_type": "stream",
     "text": [
      "Model: \"sequential_1\"\n",
      "_________________________________________________________________\n",
      "Layer (type)                 Output Shape              Param #   \n",
      "=================================================================\n",
      "embedding_1 (Embedding)      (None, 41, 300)           3000000   \n",
      "_________________________________________________________________\n",
      "conv1d_2 (Conv1D)            (None, 35, 16)            33616     \n",
      "_________________________________________________________________\n",
      "max_pooling1d_1 (MaxPooling1 (None, 7, 16)             0         \n",
      "_________________________________________________________________\n",
      "conv1d_3 (Conv1D)            (None, 1, 16)             1808      \n",
      "_________________________________________________________________\n",
      "global_max_pooling1d_1 (Glob (None, 16)                0         \n",
      "_________________________________________________________________\n",
      "dense_2 (Dense)              (None, 8)                 136       \n",
      "_________________________________________________________________\n",
      "dense_3 (Dense)              (None, 1)                 9         \n",
      "=================================================================\n",
      "Total params: 3,035,569\n",
      "Trainable params: 3,035,569\n",
      "Non-trainable params: 0\n",
      "_________________________________________________________________\n"
     ]
    }
   ],
   "source": [
    "from tensorflow.keras.initializers import Constant\n",
    "\n",
    "vocab_size = 10000    # 어휘 사전의 크기입니다(10,000개의 단어)\n",
    "word_vector_dim = 300  # 워드 벡터의 차원수 (변경가능한 하이퍼파라미터)\n",
    "\n",
    "# 모델 구성\n",
    "embeded_model = keras.Sequential()\n",
    "embeded_model.add(keras.layers.Embedding(vocab_size, \n",
    "                                 word_vector_dim, \n",
    "                                 embeddings_initializer=Constant(embedding_matrix),  # 카피한 임베딩을 여기서 활용\n",
    "                                 input_length=maxlen, \n",
    "                                 trainable=True))   # trainable을 True로 주면 Fine-tuning\n",
    "embeded_model.add(keras.layers.Conv1D(16, 7, activation='relu'))\n",
    "embeded_model.add(keras.layers.MaxPooling1D(5))\n",
    "embeded_model.add(keras.layers.Conv1D(16, 7, activation='relu'))\n",
    "embeded_model.add(keras.layers.GlobalMaxPooling1D())\n",
    "embeded_model.add(keras.layers.Dense(8, activation='relu'))\n",
    "embeded_model.add(keras.layers.Dense(1, activation='sigmoid')) \n",
    "\n",
    "embeded_model.summary()"
   ]
  },
  {
   "cell_type": "markdown",
   "metadata": {},
   "source": [
    "#### 4-3. GlobalMaxPooling1D() 레이어 하나만 사용하는 방법"
   ]
  },
  {
   "cell_type": "code",
   "execution_count": 14,
   "metadata": {},
   "outputs": [
    {
     "name": "stdout",
     "output_type": "stream",
     "text": [
      "Model: \"sequential_3\"\n",
      "_________________________________________________________________\n",
      "Layer (type)                 Output Shape              Param #   \n",
      "=================================================================\n",
      "embedding_3 (Embedding)      (None, None, 300)         3000000   \n",
      "_________________________________________________________________\n",
      "global_max_pooling1d_3 (Glob (None, 300)               0         \n",
      "_________________________________________________________________\n",
      "dense_6 (Dense)              (None, 8)                 2408      \n",
      "_________________________________________________________________\n",
      "dense_7 (Dense)              (None, 1)                 9         \n",
      "=================================================================\n",
      "Total params: 3,002,417\n",
      "Trainable params: 3,002,417\n",
      "Non-trainable params: 0\n",
      "_________________________________________________________________\n"
     ]
    }
   ],
   "source": [
    "gmp_model = keras.Sequential()\n",
    "gmp_model.add(keras.layers.Embedding(vocab_size, word_vector_dim, input_shape=(None,)))\n",
    "gmp_model.add(keras.layers.GlobalMaxPooling1D())\n",
    "gmp_model.add(keras.layers.Dense(8, activation='relu'))\n",
    "gmp_model.add(keras.layers.Dense(1, activation='sigmoid'))  # 최종 출력은 긍정/부정을 나타내는 1dim 입니다.\n",
    "\n",
    "gmp_model.summary()"
   ]
  },
  {
   "cell_type": "markdown",
   "metadata": {},
   "source": [
    "#### 4-4. Validation data 분리"
   ]
  },
  {
   "cell_type": "code",
   "execution_count": 15,
   "metadata": {},
   "outputs": [],
   "source": [
    "# validation set 10000건 분리\n",
    "X_val = X_train[:10000]   \n",
    "y_val = y_train[:10000]\n",
    "\n",
    "# validation set을 제외한 나머지 \n",
    "partial_X_train = X_train[10000:]  \n",
    "partial_y_train = y_train[10000:]\n",
    "\n"
   ]
  },
  {
   "cell_type": "markdown",
   "metadata": {},
   "source": [
    "### 5. 모델 훈련 개시\n",
    "#### 5-1. 1D-CNN"
   ]
  },
  {
   "cell_type": "code",
   "execution_count": 16,
   "metadata": {},
   "outputs": [
    {
     "name": "stdout",
     "output_type": "stream",
     "text": [
      "Epoch 1/20\n",
      "266/266 - 20s - loss: 0.4633 - accuracy: 0.7785 - val_loss: 0.3481 - val_accuracy: 0.8492\n",
      "Epoch 2/20\n",
      "266/266 - 1s - loss: 0.3227 - accuracy: 0.8637 - val_loss: 0.3362 - val_accuracy: 0.8538\n",
      "Epoch 3/20\n",
      "266/266 - 1s - loss: 0.2929 - accuracy: 0.8789 - val_loss: 0.3396 - val_accuracy: 0.8501\n",
      "Epoch 4/20\n",
      "266/266 - 1s - loss: 0.2670 - accuracy: 0.8922 - val_loss: 0.3427 - val_accuracy: 0.8513\n",
      "Epoch 5/20\n",
      "266/266 - 1s - loss: 0.2376 - accuracy: 0.9075 - val_loss: 0.3538 - val_accuracy: 0.8503\n",
      "Epoch 6/20\n",
      "266/266 - 1s - loss: 0.2058 - accuracy: 0.9234 - val_loss: 0.3825 - val_accuracy: 0.8457\n",
      "Epoch 7/20\n",
      "266/266 - 1s - loss: 0.1731 - accuracy: 0.9376 - val_loss: 0.4075 - val_accuracy: 0.8448\n",
      "Epoch 8/20\n",
      "266/266 - 1s - loss: 0.1439 - accuracy: 0.9503 - val_loss: 0.4486 - val_accuracy: 0.8392\n",
      "Epoch 9/20\n",
      "266/266 - 1s - loss: 0.1222 - accuracy: 0.9586 - val_loss: 0.4792 - val_accuracy: 0.8379\n",
      "Epoch 10/20\n",
      "266/266 - 1s - loss: 0.1032 - accuracy: 0.9660 - val_loss: 0.5274 - val_accuracy: 0.8356\n",
      "Epoch 11/20\n",
      "266/266 - 1s - loss: 0.0889 - accuracy: 0.9713 - val_loss: 0.5658 - val_accuracy: 0.8359\n",
      "Epoch 12/20\n",
      "266/266 - 1s - loss: 0.0782 - accuracy: 0.9757 - val_loss: 0.6237 - val_accuracy: 0.8332\n",
      "Epoch 13/20\n",
      "266/266 - 1s - loss: 0.0699 - accuracy: 0.9785 - val_loss: 0.6396 - val_accuracy: 0.8273\n",
      "Epoch 14/20\n",
      "266/266 - 1s - loss: 0.0630 - accuracy: 0.9803 - val_loss: 0.7048 - val_accuracy: 0.8278\n",
      "Epoch 15/20\n",
      "266/266 - 1s - loss: 0.0581 - accuracy: 0.9818 - val_loss: 0.7389 - val_accuracy: 0.8283\n",
      "Epoch 16/20\n",
      "266/266 - 1s - loss: 0.0548 - accuracy: 0.9826 - val_loss: 0.7736 - val_accuracy: 0.8239\n",
      "Epoch 17/20\n",
      "266/266 - 1s - loss: 0.0519 - accuracy: 0.9834 - val_loss: 0.8215 - val_accuracy: 0.8229\n",
      "Epoch 18/20\n",
      "266/266 - 1s - loss: 0.0472 - accuracy: 0.9853 - val_loss: 0.8300 - val_accuracy: 0.8228\n",
      "Epoch 19/20\n",
      "266/266 - 1s - loss: 0.0441 - accuracy: 0.9860 - val_loss: 0.8888 - val_accuracy: 0.8184\n",
      "Epoch 20/20\n",
      "266/266 - 1s - loss: 0.0436 - accuracy: 0.9860 - val_loss: 0.9118 - val_accuracy: 0.8215\n"
     ]
    }
   ],
   "source": [
    "model.compile(optimizer='adam',\n",
    "              loss='binary_crossentropy',\n",
    "              metrics=['accuracy'])\n",
    "              \n",
    "epochs=20  # 몇 epoch를 훈련하면 좋을지 결과를 보면서 바꾸어 봅시다. \n",
    "\n",
    "history = model.fit(partial_X_train,\n",
    "                    partial_y_train,\n",
    "                    epochs=epochs,\n",
    "                    batch_size=512,\n",
    "                    validation_data=(X_val, y_val),\n",
    "                    verbose=2)"
   ]
  },
  {
   "cell_type": "code",
   "execution_count": 18,
   "metadata": {
    "scrolled": true
   },
   "outputs": [
    {
     "name": "stdout",
     "output_type": "stream",
     "text": [
      "1537/1537 - 1s - loss: 0.9373 - accuracy: 0.8156\n",
      "[0.937260627746582, 0.8155705332756042]\n"
     ]
    }
   ],
   "source": [
    "# 테스트셋 평가\n",
    "results = model.evaluate(X_test,  y_test, verbose=2)\n",
    "\n",
    "print(results)"
   ]
  },
  {
   "cell_type": "markdown",
   "metadata": {},
   "source": [
    "#### 5-2. Word2Vec¶"
   ]
  },
  {
   "cell_type": "code",
   "execution_count": 19,
   "metadata": {},
   "outputs": [
    {
     "name": "stdout",
     "output_type": "stream",
     "text": [
      "Epoch 1/20\n",
      "266/266 [==============================] - 16s 59ms/step - loss: 0.6149 - accuracy: 0.6320 - val_loss: 0.4274 - val_accuracy: 0.8030\n",
      "Epoch 2/20\n",
      "266/266 [==============================] - 7s 27ms/step - loss: 0.3875 - accuracy: 0.8282 - val_loss: 0.3592 - val_accuracy: 0.8394\n",
      "Epoch 3/20\n",
      "266/266 [==============================] - 7s 27ms/step - loss: 0.3337 - accuracy: 0.8569 - val_loss: 0.3754 - val_accuracy: 0.8319\n",
      "Epoch 4/20\n",
      "266/266 [==============================] - 7s 27ms/step - loss: 0.3077 - accuracy: 0.8713 - val_loss: 0.3531 - val_accuracy: 0.8452\n",
      "Epoch 5/20\n",
      "266/266 [==============================] - 7s 27ms/step - loss: 0.2896 - accuracy: 0.8797 - val_loss: 0.3536 - val_accuracy: 0.8451\n",
      "Epoch 6/20\n",
      "266/266 [==============================] - 7s 28ms/step - loss: 0.2710 - accuracy: 0.8894 - val_loss: 0.3604 - val_accuracy: 0.8467\n",
      "Epoch 7/20\n",
      "266/266 [==============================] - 8s 28ms/step - loss: 0.2526 - accuracy: 0.8979 - val_loss: 0.3673 - val_accuracy: 0.8454\n",
      "Epoch 8/20\n",
      "266/266 [==============================] - 7s 28ms/step - loss: 0.2330 - accuracy: 0.9085 - val_loss: 0.3888 - val_accuracy: 0.8381\n",
      "Epoch 9/20\n",
      "266/266 [==============================] - 7s 27ms/step - loss: 0.2175 - accuracy: 0.9157 - val_loss: 0.3860 - val_accuracy: 0.8428\n",
      "Epoch 10/20\n",
      "266/266 [==============================] - 7s 28ms/step - loss: 0.1982 - accuracy: 0.9254 - val_loss: 0.3996 - val_accuracy: 0.8385\n",
      "Epoch 11/20\n",
      "266/266 [==============================] - 7s 28ms/step - loss: 0.1847 - accuracy: 0.9313 - val_loss: 0.4184 - val_accuracy: 0.8323\n",
      "Epoch 12/20\n",
      "266/266 [==============================] - 7s 28ms/step - loss: 0.1640 - accuracy: 0.9407 - val_loss: 0.4477 - val_accuracy: 0.8312\n",
      "Epoch 13/20\n",
      "266/266 [==============================] - 7s 28ms/step - loss: 0.1482 - accuracy: 0.9476 - val_loss: 0.4677 - val_accuracy: 0.8328\n",
      "Epoch 14/20\n",
      "266/266 [==============================] - 7s 27ms/step - loss: 0.1363 - accuracy: 0.9526 - val_loss: 0.5335 - val_accuracy: 0.8215\n",
      "Epoch 15/20\n",
      "266/266 [==============================] - 7s 27ms/step - loss: 0.1241 - accuracy: 0.9577 - val_loss: 0.5508 - val_accuracy: 0.8221\n",
      "Epoch 16/20\n",
      "266/266 [==============================] - 7s 27ms/step - loss: 0.1105 - accuracy: 0.9630 - val_loss: 0.5558 - val_accuracy: 0.8254\n",
      "Epoch 17/20\n",
      "266/266 [==============================] - 7s 27ms/step - loss: 0.1005 - accuracy: 0.9672 - val_loss: 0.5812 - val_accuracy: 0.8260\n",
      "Epoch 18/20\n",
      "266/266 [==============================] - 8s 29ms/step - loss: 0.0931 - accuracy: 0.9697 - val_loss: 0.6575 - val_accuracy: 0.8189\n",
      "Epoch 19/20\n",
      "266/266 [==============================] - 7s 28ms/step - loss: 0.0868 - accuracy: 0.9717 - val_loss: 0.6613 - val_accuracy: 0.8198\n",
      "Epoch 20/20\n",
      "266/266 [==============================] - 7s 28ms/step - loss: 0.0798 - accuracy: 0.9745 - val_loss: 0.6831 - val_accuracy: 0.8188\n"
     ]
    }
   ],
   "source": [
    "embeded_model.compile(optimizer='adam',\n",
    "              loss='binary_crossentropy',\n",
    "              metrics=['accuracy'])\n",
    "              \n",
    "epochs=20  # 몇 epoch를 훈련하면 좋을지 결과를 보면서 바꾸어 봅시다. \n",
    "\n",
    "embeded_history = embeded_model.fit(partial_X_train,\n",
    "                    partial_y_train,\n",
    "                    epochs=epochs,\n",
    "                    batch_size=512,\n",
    "                    validation_data=(X_val, y_val),\n",
    "                    verbose=1)"
   ]
  },
  {
   "cell_type": "code",
   "execution_count": 20,
   "metadata": {},
   "outputs": [
    {
     "name": "stdout",
     "output_type": "stream",
     "text": [
      "1537/1537 - 5s - loss: 0.7155 - accuracy: 0.8130\n",
      "[0.715526282787323, 0.8130072951316833]\n"
     ]
    }
   ],
   "source": [
    "results = embeded_model.evaluate(X_test,  y_test, verbose=2)\n",
    "\n",
    "print(results)"
   ]
  },
  {
   "cell_type": "markdown",
   "metadata": {},
   "source": [
    "#### 5-3. GlobalMaxPooling1D¶"
   ]
  },
  {
   "cell_type": "code",
   "execution_count": 21,
   "metadata": {},
   "outputs": [
    {
     "name": "stdout",
     "output_type": "stream",
     "text": [
      "Epoch 1/20\n",
      "266/266 [==============================] - 8s 28ms/step - loss: 0.4487 - accuracy: 0.8150 - val_loss: 0.3349 - val_accuracy: 0.8505\n",
      "Epoch 2/20\n",
      "266/266 [==============================] - 8s 28ms/step - loss: 0.3058 - accuracy: 0.8708 - val_loss: 0.3284 - val_accuracy: 0.8575\n",
      "Epoch 3/20\n",
      "266/266 [==============================] - 8s 30ms/step - loss: 0.2594 - accuracy: 0.8948 - val_loss: 0.3321 - val_accuracy: 0.8571\n",
      "Epoch 4/20\n",
      "266/266 [==============================] - 8s 29ms/step - loss: 0.2169 - accuracy: 0.9163 - val_loss: 0.3472 - val_accuracy: 0.8571\n",
      "Epoch 5/20\n",
      "266/266 [==============================] - 8s 28ms/step - loss: 0.1711 - accuracy: 0.9380 - val_loss: 0.3752 - val_accuracy: 0.8524\n",
      "Epoch 6/20\n",
      "266/266 [==============================] - 8s 29ms/step - loss: 0.1251 - accuracy: 0.9591 - val_loss: 0.4165 - val_accuracy: 0.8496\n",
      "Epoch 7/20\n",
      "266/266 [==============================] - 8s 28ms/step - loss: 0.0843 - accuracy: 0.9754 - val_loss: 0.4619 - val_accuracy: 0.8472\n",
      "Epoch 8/20\n",
      "266/266 [==============================] - 8s 28ms/step - loss: 0.0544 - accuracy: 0.9859 - val_loss: 0.5072 - val_accuracy: 0.8451\n",
      "Epoch 9/20\n",
      "266/266 [==============================] - 8s 28ms/step - loss: 0.0358 - accuracy: 0.9909 - val_loss: 0.5567 - val_accuracy: 0.8424\n",
      "Epoch 10/20\n",
      "266/266 [==============================] - 8s 28ms/step - loss: 0.0242 - accuracy: 0.9941 - val_loss: 0.6021 - val_accuracy: 0.8431\n",
      "Epoch 11/20\n",
      "266/266 [==============================] - 8s 28ms/step - loss: 0.0177 - accuracy: 0.9952 - val_loss: 0.6413 - val_accuracy: 0.8437\n",
      "Epoch 12/20\n",
      "266/266 [==============================] - 8s 28ms/step - loss: 0.0139 - accuracy: 0.9960 - val_loss: 0.6763 - val_accuracy: 0.8394\n",
      "Epoch 13/20\n",
      "266/266 [==============================] - 8s 29ms/step - loss: 0.0116 - accuracy: 0.9963 - val_loss: 0.7040 - val_accuracy: 0.8406\n",
      "Epoch 14/20\n",
      "266/266 [==============================] - 8s 29ms/step - loss: 0.0100 - accuracy: 0.9966 - val_loss: 0.7240 - val_accuracy: 0.8429\n",
      "Epoch 15/20\n",
      "266/266 [==============================] - 8s 29ms/step - loss: 0.0091 - accuracy: 0.9967 - val_loss: 0.7483 - val_accuracy: 0.8418\n",
      "Epoch 16/20\n",
      "266/266 [==============================] - 8s 29ms/step - loss: 0.0084 - accuracy: 0.9967 - val_loss: 0.7711 - val_accuracy: 0.8415\n",
      "Epoch 17/20\n",
      "266/266 [==============================] - 8s 29ms/step - loss: 0.0078 - accuracy: 0.9968 - val_loss: 0.7939 - val_accuracy: 0.8417\n",
      "Epoch 18/20\n",
      "266/266 [==============================] - 8s 29ms/step - loss: 0.0072 - accuracy: 0.9968 - val_loss: 0.8052 - val_accuracy: 0.8419\n",
      "Epoch 19/20\n",
      "266/266 [==============================] - 8s 29ms/step - loss: 0.0071 - accuracy: 0.9969 - val_loss: 0.8250 - val_accuracy: 0.8424\n",
      "Epoch 20/20\n",
      "266/266 [==============================] - 8s 29ms/step - loss: 0.0067 - accuracy: 0.9969 - val_loss: 0.8500 - val_accuracy: 0.8401\n"
     ]
    }
   ],
   "source": [
    "gmp_model.compile(optimizer='adam',\n",
    "              loss='binary_crossentropy',\n",
    "              metrics=['accuracy'])\n",
    "              \n",
    "epochs=20  # 몇 epoch를 훈련하면 좋을지 결과를 보면서 바꾸어 봅시다. \n",
    "\n",
    "gmp_history = gmp_model.fit(partial_X_train,\n",
    "                    partial_y_train,\n",
    "                    epochs=epochs,\n",
    "                    batch_size=512,\n",
    "                    validation_data=(X_val, y_val),\n",
    "                    verbose=1)"
   ]
  },
  {
   "cell_type": "code",
   "execution_count": 22,
   "metadata": {},
   "outputs": [
    {
     "name": "stdout",
     "output_type": "stream",
     "text": [
      "1537/1537 - 2s - loss: 0.8461 - accuracy: 0.8400\n",
      "[0.846111536026001, 0.8399820923805237]\n"
     ]
    }
   ],
   "source": [
    "results = gmp_model.evaluate(X_test,  y_test, verbose=2)\n",
    "\n",
    "print(results)"
   ]
  },
  {
   "cell_type": "markdown",
   "metadata": {},
   "source": [
    "### 6. Loss, Accuracy 그래프 시각화"
   ]
  },
  {
   "cell_type": "markdown",
   "metadata": {},
   "source": [
    "#### 6-1. 1D CNN"
   ]
  },
  {
   "cell_type": "code",
   "execution_count": 23,
   "metadata": {},
   "outputs": [
    {
     "name": "stdout",
     "output_type": "stream",
     "text": [
      "dict_keys(['loss', 'accuracy', 'val_loss', 'val_accuracy'])\n"
     ]
    }
   ],
   "source": [
    "# epoch history\n",
    "history_dict = history.history\n",
    "print(history_dict.keys()) # epoch에 따른 그래프를 그려볼 수 있는 항목들"
   ]
  },
  {
   "cell_type": "code",
   "execution_count": 25,
   "metadata": {},
   "outputs": [
    {
     "data": {
      "image/png": "[encoded data removed]",
      "text/plain": [
       "<Figure size 432x288 with 1 Axes>"
      ]
     },
     "metadata": {
      "needs_background": "light"
     },
     "output_type": "display_data"
    }
   ],
   "source": [
    "import matplotlib.pyplot as plt\n",
    "\n",
    "acc = history_dict['accuracy']\n",
    "val_acc = history_dict['val_accuracy']\n",
    "loss = history_dict['loss']\n",
    "val_loss = history_dict['val_loss']\n",
    "\n",
    "epochs = range(1, len(acc) + 1)\n",
    "\n",
    "# \"bo\"는 \"파란색 점\"입니다\n",
    "plt.plot(epochs, loss, 'bo', label='Training loss')\n",
    "# b는 \"파란 실선\"입니다\n",
    "plt.plot(epochs, val_loss, 'b', label='Validation loss')\n",
    "plt.title('Training and validation loss')\n",
    "plt.xlabel('Epochs')\n",
    "plt.ylabel('Loss')\n",
    "plt.legend()\n",
    "\n",
    "plt.show()"
   ]
  },
  {
   "cell_type": "code",
   "execution_count": 26,
   "metadata": {},
   "outputs": [
    {
     "data": {
      "image/png": "[encoded data removed]",
      "text/plain": [
       "<Figure size 432x288 with 1 Axes>"
      ]
     },
     "metadata": {
      "needs_background": "light"
     },
     "output_type": "display_data"
    }
   ],
   "source": [
    "plt.clf()   # 그림을 초기화합니다\n",
    "\n",
    "plt.plot(epochs, acc, 'bo', label='Training acc')\n",
    "plt.plot(epochs, val_acc, 'b', label='Validation acc')\n",
    "plt.title('Training and validation accuracy')\n",
    "plt.xlabel('Epochs')\n",
    "plt.ylabel('Accuracy')\n",
    "plt.legend()\n",
    "\n",
    "plt.show()"
   ]
  },
  {
   "cell_type": "markdown",
   "metadata": {},
   "source": [
    "#### 6-2. vec2 시각화"
   ]
  },
  {
   "cell_type": "code",
   "execution_count": 27,
   "metadata": {},
   "outputs": [
    {
     "name": "stdout",
     "output_type": "stream",
     "text": [
      "dict_keys(['loss', 'accuracy', 'val_loss', 'val_accuracy'])\n"
     ]
    }
   ],
   "source": [
    "embeded_history_dict = embeded_history.history\n",
    "print(embeded_history_dict.keys())"
   ]
  },
  {
   "cell_type": "code",
   "execution_count": 28,
   "metadata": {
    "scrolled": true
   },
   "outputs": [
    {
     "data": {
      "image/png": "[encoded data removed]",
      "text/plain": [
       "<Figure size 432x288 with 1 Axes>"
      ]
     },
     "metadata": {
      "needs_background": "light"
     },
     "output_type": "display_data"
    }
   ],
   "source": [
    "acc = embeded_history_dict['accuracy']\n",
    "val_acc = embeded_history_dict['val_accuracy']\n",
    "loss = embeded_history_dict['loss']\n",
    "val_loss = embeded_history_dict['val_loss']\n",
    "\n",
    "epochs = range(1, len(acc) + 1)\n",
    "\n",
    "# \"bo\"는 \"파란색 점\"입니다\n",
    "plt.plot(epochs, loss, 'bo', label='Training loss')\n",
    "# b는 \"파란 실선\"입니다\n",
    "plt.plot(epochs, val_loss, 'b', label='Validation loss')\n",
    "plt.title('Training and validation loss')\n",
    "plt.xlabel('Epochs')\n",
    "plt.ylabel('Loss')\n",
    "plt.legend()\n",
    "\n",
    "plt.show()"
   ]
  },
  {
   "cell_type": "code",
   "execution_count": 29,
   "metadata": {
    "scrolled": true
   },
   "outputs": [
    {
     "data": {
      "image/png": "[encoded data removed]",
      "text/plain": [
       "<Figure size 432x288 with 1 Axes>"
      ]
     },
     "metadata": {
      "needs_background": "light"
     },
     "output_type": "display_data"
    }
   ],
   "source": [
    "plt.clf()   # 그림을 초기화합니다\n",
    "\n",
    "plt.plot(epochs, acc, 'bo', label='Training acc')\n",
    "plt.plot(epochs, val_acc, 'b', label='Validation acc')\n",
    "plt.title('Training and validation accuracy')\n",
    "plt.xlabel('Epochs')\n",
    "plt.ylabel('Accuracy')\n",
    "plt.legend()\n",
    "\n",
    "plt.show()"
   ]
  },
  {
   "cell_type": "markdown",
   "metadata": {},
   "source": [
    "#### 6-3. GlobalMaxPooling1D 시각화"
   ]
  },
  {
   "cell_type": "code",
   "execution_count": 30,
   "metadata": {},
   "outputs": [],
   "source": [
    "gmp_history_dict = gmp_history.history"
   ]
  },
  {
   "cell_type": "code",
   "execution_count": 31,
   "metadata": {},
   "outputs": [
    {
     "data": {
      "image/png": "[encoded data removed]",
      "text/plain": [
       "<Figure size 432x288 with 1 Axes>"
      ]
     },
     "metadata": {
      "needs_background": "light"
     },
     "output_type": "display_data"
    }
   ],
   "source": [
    "acc = gmp_history_dict['accuracy']\n",
    "val_acc = gmp_history_dict['val_accuracy']\n",
    "loss = gmp_history_dict['loss']\n",
    "val_loss = gmp_history_dict['val_loss']\n",
    "\n",
    "epochs = range(1, len(acc) + 1)\n",
    "\n",
    "# \"bo\"는 \"빨간색\"입니다\n",
    "plt.plot(epochs, loss, 'ro', label='Training loss')\n",
    "# b는 \"빨간 실선\"입니다\n",
    "plt.plot(epochs, val_loss, 'r', label='Validation loss')\n",
    "plt.title('Training and validation loss')\n",
    "plt.xlabel('Epochs')\n",
    "plt.ylabel('Loss')\n",
    "plt.legend()\n",
    "\n",
    "plt.show()"
   ]
  },
  {
   "cell_type": "code",
   "execution_count": 32,
   "metadata": {},
   "outputs": [
    {
     "data": {
      "image/png": "[encoded data removed]",
      "text/plain": [
       "<Figure size 432x288 with 1 Axes>"
      ]
     },
     "metadata": {
      "needs_background": "light"
     },
     "output_type": "display_data"
    }
   ],
   "source": [
    "plt.clf()   # 그림을 초기화합니다\n",
    "\n",
    "plt.plot(epochs, acc, 'ro', label='Training acc')\n",
    "plt.plot(epochs, val_acc, 'r', label='Validation acc')\n",
    "plt.title('Training and validation accuracy')\n",
    "plt.xlabel('Epochs')\n",
    "plt.ylabel('Accuracy')\n",
    "plt.legend()\n",
    "\n",
    "plt.show()"
   ]
  },
  {
   "cell_type": "markdown",
   "metadata": {},
   "source": [
    "### 7. 학습된 Embedding 레이어 분석"
   ]
  },
  {
   "cell_type": "markdown",
   "metadata": {},
   "source": [
    "#### 7-1. 1D-CNN"
   ]
  },
  {
   "cell_type": "code",
   "execution_count": 23,
   "metadata": {},
   "outputs": [
    {
     "name": "stdout",
     "output_type": "stream",
     "text": [
      "(10000, 16)\n"
     ]
    }
   ],
   "source": [
    "embedding_layer = model.layers[0]\n",
    "weights = embedding_layer.get_weights()[0]\n",
    "print(weights.shape)    # shape: (vocab_size, embedding_dim)"
   ]
  },
  {
   "cell_type": "code",
   "execution_count": 24,
   "metadata": {},
   "outputs": [],
   "source": [
    "import os\n",
    "word_vector_dim = 16\n",
    "# 학습한 Embedding 파라미터를 파일에 써서 저장합니다. \n",
    "word2vec_file_path = os.getenv('HOME')+'/workplace/aiffel/Exploration/09.RNN/word2vec.txt'\n",
    "f = open(word2vec_file_path, 'w')\n",
    "f.write('{} {}\\n'.format(vocab_size-4, word_vector_dim))  # 몇개의 벡터를 얼마 사이즈로 기재할지 타이틀을 씁니다.\n",
    "\n",
    "# 단어 개수(에서 특수문자 4개는 제외하고)만큼의 워드 벡터를 파일에 기록합니다. \n",
    "vectors = model.get_weights()[0]\n",
    "for i in range(4,vocab_size):\n",
    "    f.write('{} {}\\n'.format(index_to_word[i], ' '.join(map(str, list(vectors[i, :])))))\n",
    "f.close()"
   ]
  },
  {
   "cell_type": "markdown",
   "metadata": {},
   "source": [
    "#### 7-2. word2vec"
   ]
  },
  {
   "cell_type": "code",
   "execution_count": 25,
   "metadata": {},
   "outputs": [
    {
     "name": "stdout",
     "output_type": "stream",
     "text": [
      "(10000, 300)\n"
     ]
    }
   ],
   "source": [
    "embedding_layer = embeded_model.layers[0]\n",
    "weights = embedding_layer.get_weights()[0]\n",
    "print(weights.shape)    # shape: (vocab_size, embedding_dim)"
   ]
  },
  {
   "cell_type": "code",
   "execution_count": 26,
   "metadata": {},
   "outputs": [],
   "source": [
    "import os\n",
    "word_vector_dim = 300\n",
    "# 학습한 Embedding 파라미터를 파일에 써서 저장합니다. \n",
    "embeded_word2vec_file_path = os.getenv('HOME')+'/workplace/aiffel/Exploration/09.RNN/embeded_word2vec.txt'\n",
    "f = open(word2vec_file_path, 'w')\n",
    "f.write('{} {}\\n'.format(vocab_size-4, word_vector_dim))  # 몇개의 벡터를 얼마 사이즈로 기재할지 타이틀을 씁니다.\n",
    "\n",
    "# 단어 개수(에서 특수문자 4개는 제외하고)만큼의 워드 벡터를 파일에 기록합니다. \n",
    "vectors = embeded_model.get_weights()[0]\n",
    "for i in range(4,vocab_size):\n",
    "    f.write('{} {}\\n'.format(index_to_word[i], ' '.join(map(str, list(vectors[i, :])))))\n",
    "f.close()"
   ]
  },
  {
   "cell_type": "markdown",
   "metadata": {},
   "source": [
    "#### 7-3. GlobalMaxPooling1D"
   ]
  },
  {
   "cell_type": "code",
   "execution_count": 27,
   "metadata": {},
   "outputs": [
    {
     "name": "stdout",
     "output_type": "stream",
     "text": [
      "(10000, 300)\n"
     ]
    }
   ],
   "source": [
    "embedding_layer = gmp_model.layers[0]\n",
    "weights = embedding_layer.get_weights()[0]\n",
    "print(weights.shape)    # shape: (vocab_size, embedding_dim)"
   ]
  },
  {
   "cell_type": "code",
   "execution_count": 28,
   "metadata": {},
   "outputs": [],
   "source": [
    "import os\n",
    "gmp_word_vector_dim = 300\n",
    "# 학습한 Embedding 파라미터를 파일에 써서 저장합니다. \n",
    "gmp_word2vec_file_path = os.getenv('HOME')+'/workplace/aiffel/Exploration/09.RNN/gmp_word2vec.txt'\n",
    "f = open(word2vec_file_path, 'w')\n",
    "f.write('{} {}\\n'.format(vocab_size-4, word_vector_dim))  # 몇개의 벡터를 얼마 사이즈로 기재할지 타이틀을 씁니다.\n",
    "\n",
    "# 단어 개수(에서 특수문자 4개는 제외하고)만큼의 워드 벡터를 파일에 기록합니다. \n",
    "vectors = gmp_model.get_weights()[0]\n",
    "for i in range(4,vocab_size):\n",
    "    f.write('{} {}\\n'.format(index_to_word[i], ' '.join(map(str, list(vectors[i, :])))))\n",
    "f.close()"
   ]
  },
  {
   "cell_type": "code",
   "execution_count": 29,
   "metadata": {},
   "outputs": [
    {
     "data": {
      "text/plain": [
       "array([ 2.42419774e-03, -6.19815625e-02, -4.24698479e-02,  5.99643700e-02,\n",
       "        7.68785737e-03,  1.21980369e-01, -1.22791128e-02,  5.24906628e-03,\n",
       "        9.90284886e-03,  6.13907948e-02,  1.68179702e-02, -6.75243733e-04,\n",
       "        1.39869705e-01, -6.28938153e-02, -4.12264653e-02,  6.45028725e-02,\n",
       "        1.20679952e-01, -1.94853749e-02, -1.74204204e-02, -1.20254857e-02,\n",
       "        1.16702162e-01, -6.71107844e-02, -4.98980395e-02, -5.12903705e-02,\n",
       "        1.11393690e-01, -7.75011117e-03,  8.78404174e-03, -3.21959355e-03,\n",
       "       -1.29972876e-03,  8.97761714e-03,  1.21095546e-01,  1.31974131e-01,\n",
       "        9.89000574e-02,  1.34122133e-01,  1.42476305e-01, -4.77256961e-02,\n",
       "       -2.24618204e-02,  3.58137563e-02, -1.26038725e-02, -6.00507334e-02,\n",
       "       -4.24570478e-02, -4.02099863e-02,  1.57102440e-02,  5.65591045e-02,\n",
       "        7.12803006e-02,  6.79732263e-02,  3.11740283e-02, -6.57114834e-02,\n",
       "        2.10966449e-02,  2.91992426e-02, -3.74295227e-02, -1.00040995e-02,\n",
       "        1.92062221e-02, -2.38294341e-02,  9.44637582e-02, -1.91289131e-02,\n",
       "       -4.93076630e-02, -7.33363926e-02,  4.98801656e-02, -1.29221985e-02,\n",
       "        6.48934618e-02,  3.39620560e-02, -1.52711393e-02, -4.94135991e-02,\n",
       "        1.17022529e-01,  7.53617659e-02, -2.53147520e-02, -6.11221269e-02,\n",
       "       -3.93477194e-02, -4.78579290e-02,  1.05464742e-01, -2.33605038e-02,\n",
       "        5.63364252e-02, -1.45765534e-02,  1.57021970e-01, -1.92633476e-02,\n",
       "        2.57901084e-02, -2.98920833e-02, -3.56411450e-02,  7.85890594e-03,\n",
       "        3.44123542e-02,  2.90191155e-02, -5.99395558e-02,  8.61317143e-02,\n",
       "        7.88915008e-02,  1.14625379e-01, -5.19991368e-02, -4.87436205e-02,\n",
       "       -6.47892430e-02, -3.14318128e-02,  5.50956801e-02,  7.36736059e-02,\n",
       "       -4.66324687e-02, -3.29453237e-02,  1.39137566e-01, -6.58420799e-03,\n",
       "        6.71611226e-04,  2.07145344e-02, -3.83243524e-03, -1.94864031e-02,\n",
       "        7.31933787e-02,  5.48520423e-02, -1.60471536e-02, -2.89796246e-03,\n",
       "        4.70853075e-02, -3.90361138e-02, -3.30420397e-02,  7.72226676e-02,\n",
       "        1.22952215e-01,  6.41087070e-02,  6.53945608e-03, -1.44577650e-02,\n",
       "       -1.50929121e-02, -1.33887297e-02,  1.98615976e-02,  4.16422151e-02,\n",
       "        8.09829012e-02,  8.41850862e-02, -3.09109911e-02, -1.54595671e-03,\n",
       "       -4.58526649e-02,  8.18026662e-02, -3.83901633e-02, -5.34532852e-02,\n",
       "        1.32174313e-01,  3.89513522e-02,  1.18567176e-01,  1.94457043e-02,\n",
       "       -3.69399376e-02, -9.05022025e-05,  3.96050736e-02, -9.05727688e-03,\n",
       "       -7.40267336e-03, -2.74936035e-02,  7.99796209e-02,  1.09006695e-01,\n",
       "       -6.72867447e-02, -3.46249267e-02, -3.67631540e-02, -3.26363519e-02,\n",
       "       -1.91422924e-02,  4.84546758e-02, -3.27214412e-03, -6.78603649e-02,\n",
       "        1.24538995e-01,  4.53289226e-02, -1.10722333e-02,  1.81005686e-03,\n",
       "       -3.22649343e-04,  1.27610594e-01,  2.83428077e-02,  3.77251476e-04,\n",
       "       -2.13680305e-02,  1.38939440e-01, -4.67403531e-02,  1.38314790e-03,\n",
       "       -8.72026943e-03, -4.16251235e-02,  3.87877449e-02, -5.97690605e-02,\n",
       "       -4.12124619e-02, -7.37869786e-03, -3.78812924e-02, -2.53320560e-02,\n",
       "       -8.30599200e-03,  3.51704173e-02, -1.71634997e-03,  1.17309190e-01,\n",
       "        1.76928908e-01, -2.48350669e-02, -2.38594841e-02, -2.58380529e-02,\n",
       "       -8.86700395e-03, -6.43762201e-02,  1.10943943e-01, -2.48121750e-02,\n",
       "       -5.11642620e-02, -3.38288839e-03, -3.59147564e-02,  6.01777658e-02,\n",
       "       -1.97262205e-02,  5.96161932e-02,  1.08802244e-01, -6.21746145e-02,\n",
       "        2.74887979e-02,  2.01838538e-02,  1.31494045e-01,  5.14978766e-02,\n",
       "        9.89165604e-02, -4.39697579e-02,  7.63443336e-02,  1.02614656e-01,\n",
       "       -7.32774520e-03,  1.00908451e-01,  6.35061488e-02, -3.92260104e-02,\n",
       "       -2.51255068e-03,  1.36570871e-01,  8.11041072e-02,  1.36831179e-01,\n",
       "        1.20664649e-01, -2.42690090e-03,  1.47939965e-01, -1.75755918e-02,\n",
       "        8.97870138e-02,  9.85990167e-02, -3.36720198e-02,  1.17640384e-01,\n",
       "       -4.68161702e-02, -4.66457941e-02, -5.74531406e-02,  9.18856114e-02,\n",
       "       -1.76296216e-02, -3.88425067e-02,  1.31481364e-01,  1.40589774e-01,\n",
       "       -1.60153285e-02,  5.13823666e-02, -6.30173907e-02, -2.05792543e-02,\n",
       "        4.03226208e-04,  8.85435417e-02, -6.15990779e-04, -3.49862990e-03,\n",
       "        7.74705932e-02, -2.38593947e-02,  2.87276637e-02, -4.89246733e-02,\n",
       "        6.12986982e-02, -1.65653005e-02, -2.06918269e-02,  8.10293406e-02,\n",
       "        6.55873790e-02, -4.26897258e-02,  4.73052338e-02,  1.19423106e-01,\n",
       "       -6.60441862e-03,  4.34231618e-03, -5.65938652e-02,  1.12959845e-02,\n",
       "       -3.04481946e-02,  8.59634057e-02,  2.43535023e-02,  1.80725362e-02,\n",
       "        8.57113600e-02, -4.81478609e-02, -3.95986624e-02,  5.76191060e-02,\n",
       "       -1.73535421e-02,  3.66547704e-02, -3.78384045e-03,  1.17090307e-01,\n",
       "       -3.24653126e-02, -4.20404337e-02, -4.75000450e-03,  1.34282202e-01,\n",
       "       -5.53863496e-02, -2.71615889e-02,  1.12968966e-01, -1.90979838e-02,\n",
       "       -2.94012688e-02,  7.63530210e-02,  1.98255889e-02, -6.20056689e-02,\n",
       "       -4.57167551e-02, -5.02485149e-02,  4.66590971e-02, -2.96686068e-02,\n",
       "       -5.61787933e-03, -1.49785192e-03, -1.28113506e-02, -4.88336198e-02,\n",
       "       -1.53574375e-02, -2.19462123e-02, -3.87851261e-02, -3.27132344e-02,\n",
       "       -6.61070943e-02, -1.65700484e-02, -1.39732370e-02, -6.58649579e-03,\n",
       "       -4.78591546e-02,  9.57403856e-04, -6.94625601e-02,  6.04182482e-02,\n",
       "        8.00229460e-02, -2.37679575e-03, -3.19069885e-02,  6.19713813e-02,\n",
       "       -5.20492382e-02,  8.86157155e-02,  1.70915239e-02,  5.53638227e-02,\n",
       "       -1.12046767e-02, -5.28756082e-02, -6.91632228e-03, -8.33857525e-03,\n",
       "       -5.82060404e-02,  6.48513064e-02,  1.49856538e-01,  7.32499883e-02],\n",
       "      dtype=float32)"
      ]
     },
     "execution_count": 29,
     "metadata": {},
     "output_type": "execute_result"
    }
   ],
   "source": [
    "from gensim.models.keyedvectors import Word2VecKeyedVectors\n",
    "\n",
    "word_vectors = Word2VecKeyedVectors.load_word2vec_format(word2vec_file_path, binary=False)\n",
    "vector = word_vectors['love']\n",
    "vector"
   ]
  },
  {
   "cell_type": "code",
   "execution_count": 30,
   "metadata": {},
   "outputs": [
    {
     "data": {
      "text/plain": [
       "[('따스', 0.6024826765060425),\n",
       " ('great', 0.6021842360496521),\n",
       " ('슬퍼요', 0.6019835472106934),\n",
       " ('아름다워요', 0.5805748701095581),\n",
       " ('잼따', 0.5718656778335571),\n",
       " ('조음', 0.5693366527557373),\n",
       " ('！', 0.5584565997123718),\n",
       " ('웰메이드', 0.5544450879096985),\n",
       " ('.♥', 0.55443274974823),\n",
       " ('홧팅', 0.5527105331420898)]"
      ]
     },
     "execution_count": 30,
     "metadata": {},
     "output_type": "execute_result"
    }
   ],
   "source": [
    "word_vectors.similar_by_word(\"love\")"
   ]
  },
  {
   "cell_type": "markdown",
   "metadata": {},
   "source": [
    "### 8. 한국어 Word2Vec 임베딩 활용하여 성능개선"
   ]
  },
  {
   "cell_type": "code",
   "execution_count": 31,
   "metadata": {},
   "outputs": [
    {
     "name": "stderr",
     "output_type": "stream",
     "text": [
      "/home/aiffel0047/anaconda3/envs/aiffel/lib/python3.7/site-packages/ipykernel_launcher.py:6: DeprecationWarning: Call to deprecated `__getitem__` (Method will be removed in 4.0.0, use self.wv.__getitem__() instead).\n",
      "  \n"
     ]
    },
    {
     "data": {
      "text/plain": [
       "array([-1.3740246 , -1.7353463 ,  3.3915305 , -2.569253  , -1.4016607 ,\n",
       "        1.4556127 ,  0.9414557 ,  1.9207907 ,  0.16471806,  0.4838317 ,\n",
       "       -0.8547181 ,  2.0879807 ,  0.86741775,  0.87539405, -0.09962013,\n",
       "        0.22928311, -1.1858722 ,  0.00858838,  1.4999928 , -0.16196461,\n",
       "       -0.35184434, -0.92390764,  1.0849575 ,  0.3025011 ,  2.7021565 ,\n",
       "       -1.0263684 ,  0.32864776, -0.76589465, -2.510981  , -0.66225356,\n",
       "        2.8434615 ,  0.50130975, -1.021874  , -1.4366034 ,  1.1110784 ,\n",
       "        0.5812605 , -0.5830406 , -0.5785423 ,  1.3634988 ,  2.3074338 ,\n",
       "       -1.4314893 ,  0.45745876,  1.1073523 , -3.2135262 , -0.2898375 ,\n",
       "       -1.1622221 ,  1.2369208 , -0.7622987 , -0.37757635,  1.1376442 ,\n",
       "        0.01065568, -0.69105595,  1.5159112 ,  1.1534518 , -1.0119992 ,\n",
       "       -0.5757404 ,  1.1349088 , -1.1289831 ,  0.13004152,  2.0451715 ,\n",
       "       -0.23940353,  1.3604902 ,  0.72700524,  0.32545742,  1.0612459 ,\n",
       "        0.42252553,  1.1442151 ,  2.8774905 ,  2.4377263 , -1.340305  ,\n",
       "        0.12629706, -0.07772489, -0.59053177, -0.19007324,  0.1396541 ,\n",
       "       -1.8655105 ,  0.9401054 ,  0.5150856 ,  0.7795373 , -0.86505556,\n",
       "        0.11842118, -1.8303713 ,  1.337177  , -1.0102932 , -0.37180334,\n",
       "        0.00893255, -0.49141577, -1.05802   , -2.5987291 ,  0.9731856 ,\n",
       "        0.34080654, -2.5973568 ,  1.0046519 , -1.3914212 , -0.6504351 ,\n",
       "       -0.9010805 , -1.1341541 ,  0.75565654,  1.2941337 ,  0.0880572 ,\n",
       "       -1.0341461 , -0.1750075 , -0.01880708, -1.0835075 , -2.0333962 ,\n",
       "        1.1372623 ,  1.0626172 , -1.8369784 , -2.2662086 , -3.382057  ,\n",
       "        1.6751666 , -0.2988223 , -0.25563756, -1.5594274 ,  0.6313433 ,\n",
       "       -1.2667153 , -1.6857744 , -1.0949599 ,  0.7742313 , -0.6095523 ,\n",
       "        3.19503   ,  0.13200459,  1.7937473 , -2.8782516 ,  1.3821276 ,\n",
       "        2.2895143 ,  0.0741943 , -0.41046414,  1.438796  ,  0.19373988,\n",
       "        1.4294034 ,  1.5025262 ,  1.4849502 ,  1.5754777 ,  2.7793512 ,\n",
       "       -0.6885003 , -0.30154693, -1.708323  ,  1.1030879 , -2.2597387 ,\n",
       "        1.1909146 ,  2.4399316 ,  0.3990314 ,  0.904154  ,  0.5454401 ,\n",
       "       -1.3235748 , -0.64812386,  0.22390233,  0.9657619 , -0.47360668,\n",
       "       -0.10278235, -1.0679734 , -0.91414386,  0.92069   ,  0.3549338 ,\n",
       "        0.32858834,  0.84870636,  3.596926  , -1.6651102 ,  0.23658653,\n",
       "        1.0515738 ,  0.40531915, -0.773514  , -0.93460965, -0.3946274 ,\n",
       "       -1.5657727 ,  1.183652  ,  2.5277    ,  0.57700926,  1.7051374 ,\n",
       "       -1.8249958 , -2.0328498 ,  0.6617798 ,  0.85747904,  0.31782728,\n",
       "       -1.1660796 ,  0.32923874,  2.2055087 , -0.12782003,  2.0455444 ,\n",
       "       -0.1724252 ,  0.46001154,  1.559042  , -1.6152996 , -0.84242785,\n",
       "        0.7553168 ,  0.39734274,  0.07714175,  0.05610155,  0.32837135,\n",
       "        1.0220716 ,  1.3816743 ,  0.8049544 ,  0.28728685, -0.97610044,\n",
       "        0.8861181 , -0.01250968, -1.4845604 , -1.5236791 , -1.5451258 ],\n",
       "      dtype=float32)"
      ]
     },
     "execution_count": 31,
     "metadata": {},
     "output_type": "execute_result"
    }
   ],
   "source": [
    "# 한국어 word2vec 다운받기 먼저\n",
    "import gensim\n",
    "from gensim.models import KeyedVectors\n",
    "word2vec_path = os.getenv('HOME')+'/workplace/aiffel/Exploration/09.RNN/ko.bin'\n",
    "word2vec = gensim.models.Word2Vec.load(word2vec_path)\n",
    "vector = word2vec['사랑']\n",
    "vector     "
   ]
  },
  {
   "cell_type": "code",
   "execution_count": 32,
   "metadata": {},
   "outputs": [
    {
     "name": "stderr",
     "output_type": "stream",
     "text": [
      "/home/aiffel0047/anaconda3/envs/aiffel/lib/python3.7/site-packages/ipykernel_launcher.py:1: DeprecationWarning: Call to deprecated `similar_by_word` (Method will be removed in 4.0.0, use self.wv.similar_by_word() instead).\n",
      "  \"\"\"Entry point for launching an IPython kernel.\n"
     ]
    },
    {
     "data": {
      "text/plain": [
       "[('사탄', 0.7450909614562988),\n",
       " ('천사', 0.7058097124099731),\n",
       " ('괴물', 0.6949796080589294),\n",
       " ('악령', 0.6667666435241699),\n",
       " ('요괴', 0.651904821395874),\n",
       " ('어둠', 0.646560788154602),\n",
       " ('방랑자', 0.6407898664474487),\n",
       " ('마녀', 0.6338205933570862),\n",
       " ('요정', 0.6273939609527588),\n",
       " ('마법사', 0.6268988847732544)]"
      ]
     },
     "execution_count": 32,
     "metadata": {},
     "output_type": "execute_result"
    }
   ],
   "source": [
    "word2vec.similar_by_word(\"악마\")"
   ]
  },
  {
   "cell_type": "code",
   "execution_count": 33,
   "metadata": {},
   "outputs": [
    {
     "name": "stderr",
     "output_type": "stream",
     "text": [
      "/home/aiffel0047/anaconda3/envs/aiffel/lib/python3.7/site-packages/ipykernel_launcher.py:8: DeprecationWarning: Call to deprecated `__contains__` (Method will be removed in 4.0.0, use self.wv.__contains__() instead).\n",
      "  \n",
      "/home/aiffel0047/anaconda3/envs/aiffel/lib/python3.7/site-packages/ipykernel_launcher.py:9: DeprecationWarning: Call to deprecated `__getitem__` (Method will be removed in 4.0.0, use self.wv.__getitem__() instead).\n",
      "  if __name__ == '__main__':\n"
     ]
    }
   ],
   "source": [
    "vocab_size = 10000    # 어휘 사전의 크기입니다(10,000개의 단어)\n",
    "word_vector_dim = 200  # 워드 벡터의 차원수 (변경가능한 하이퍼파라미터)\n",
    "\n",
    "embedding_matrix = np.random.rand(vocab_size, word_vector_dim)\n",
    "\n",
    "# embedding_matrix에 Word2Vec 워드벡터를 단어 하나씩마다 차례차례 카피한다.\n",
    "for i in range(4,vocab_size):\n",
    "    if index_to_word[i] in word2vec:\n",
    "        embedding_matrix[i] = word2vec[index_to_word[i]]"
   ]
  },
  {
   "cell_type": "code",
   "execution_count": 34,
   "metadata": {},
   "outputs": [
    {
     "name": "stdout",
     "output_type": "stream",
     "text": [
      "Model: \"sequential_4\"\n",
      "_________________________________________________________________\n",
      "Layer (type)                 Output Shape              Param #   \n",
      "=================================================================\n",
      "embedding_4 (Embedding)      (None, 41, 200)           2000000   \n",
      "_________________________________________________________________\n",
      "conv1d_4 (Conv1D)            (None, 35, 16)            22416     \n",
      "_________________________________________________________________\n",
      "max_pooling1d_2 (MaxPooling1 (None, 7, 16)             0         \n",
      "_________________________________________________________________\n",
      "conv1d_5 (Conv1D)            (None, 1, 16)             1808      \n",
      "_________________________________________________________________\n",
      "global_max_pooling1d_4 (Glob (None, 16)                0         \n",
      "_________________________________________________________________\n",
      "dense_8 (Dense)              (None, 8)                 136       \n",
      "_________________________________________________________________\n",
      "dense_9 (Dense)              (None, 1)                 9         \n",
      "=================================================================\n",
      "Total params: 2,024,369\n",
      "Trainable params: 2,024,369\n",
      "Non-trainable params: 0\n",
      "_________________________________________________________________\n"
     ]
    }
   ],
   "source": [
    "\n",
    "from keras.initializers import Constant\n",
    "\n",
    "vocab_size = 10000    # 어휘 사전의 크기입니다(10,000개의 단어)\n",
    "word_vector_dim = 200  # 워드 벡터의 차원수 (변경가능한 하이퍼파라미터)\n",
    "\n",
    "# 모델 구성\n",
    "model = keras.Sequential()\n",
    "model.add(keras.layers.Embedding(vocab_size, \n",
    "                                 word_vector_dim, \n",
    "                                 embeddings_initializer=Constant(embedding_matrix),  # 카피한 임베딩을 여기서 활용\n",
    "                                 input_length=maxlen, \n",
    "                                 trainable=True))   # trainable을 True로 주면 Fine-tuning\n",
    "model.add(keras.layers.Conv1D(16, 7, activation='relu'))\n",
    "model.add(keras.layers.MaxPooling1D(5))\n",
    "model.add(keras.layers.Conv1D(16, 7, activation='relu'))\n",
    "model.add(keras.layers.GlobalMaxPooling1D())\n",
    "model.add(keras.layers.Dense(8, activation='relu'))\n",
    "model.add(keras.layers.Dense(1, activation='sigmoid')) \n",
    "\n",
    "model.summary()"
   ]
  },
  {
   "cell_type": "code",
   "execution_count": 36,
   "metadata": {},
   "outputs": [
    {
     "name": "stdout",
     "output_type": "stream",
     "text": [
      "Epoch 1/20\n",
      "266/266 [==============================] - 16s 59ms/step - loss: 0.5325 - accuracy: 0.7236 - val_loss: 0.4212 - val_accuracy: 0.8103\n",
      "Epoch 2/20\n",
      "266/266 [==============================] - 5s 20ms/step - loss: 0.3825 - accuracy: 0.8310 - val_loss: 0.3661 - val_accuracy: 0.8374\n",
      "Epoch 3/20\n",
      "266/266 [==============================] - 5s 20ms/step - loss: 0.3275 - accuracy: 0.8600 - val_loss: 0.3440 - val_accuracy: 0.8482\n",
      "Epoch 4/20\n",
      "266/266 [==============================] - 5s 20ms/step - loss: 0.2957 - accuracy: 0.8769 - val_loss: 0.3476 - val_accuracy: 0.8488\n",
      "Epoch 5/20\n",
      "266/266 [==============================] - 5s 20ms/step - loss: 0.2722 - accuracy: 0.8878 - val_loss: 0.3554 - val_accuracy: 0.8493\n",
      "Epoch 6/20\n",
      "266/266 [==============================] - 5s 20ms/step - loss: 0.2514 - accuracy: 0.8983 - val_loss: 0.3543 - val_accuracy: 0.8503\n",
      "Epoch 7/20\n",
      "266/266 [==============================] - 5s 20ms/step - loss: 0.2331 - accuracy: 0.9074 - val_loss: 0.3648 - val_accuracy: 0.8501\n",
      "Epoch 8/20\n",
      "266/266 [==============================] - 5s 20ms/step - loss: 0.2135 - accuracy: 0.9160 - val_loss: 0.3848 - val_accuracy: 0.8473\n",
      "Epoch 9/20\n",
      "266/266 [==============================] - 5s 20ms/step - loss: 0.1934 - accuracy: 0.9261 - val_loss: 0.3952 - val_accuracy: 0.8440\n",
      "Epoch 10/20\n",
      "266/266 [==============================] - 5s 20ms/step - loss: 0.1754 - accuracy: 0.9355 - val_loss: 0.4184 - val_accuracy: 0.8456\n",
      "Epoch 11/20\n",
      "266/266 [==============================] - 5s 20ms/step - loss: 0.1570 - accuracy: 0.9429 - val_loss: 0.4498 - val_accuracy: 0.8415\n",
      "Epoch 12/20\n",
      "266/266 [==============================] - 5s 20ms/step - loss: 0.1408 - accuracy: 0.9503 - val_loss: 0.4786 - val_accuracy: 0.8367\n",
      "Epoch 13/20\n",
      "266/266 [==============================] - 5s 20ms/step - loss: 0.1249 - accuracy: 0.9572 - val_loss: 0.5199 - val_accuracy: 0.8388\n",
      "Epoch 14/20\n",
      "266/266 [==============================] - 5s 20ms/step - loss: 0.1099 - accuracy: 0.9634 - val_loss: 0.5229 - val_accuracy: 0.8364\n",
      "Epoch 15/20\n",
      "266/266 [==============================] - 5s 20ms/step - loss: 0.0991 - accuracy: 0.9674 - val_loss: 0.5938 - val_accuracy: 0.8319\n",
      "Epoch 16/20\n",
      "266/266 [==============================] - 5s 20ms/step - loss: 0.0886 - accuracy: 0.9713 - val_loss: 0.6054 - val_accuracy: 0.8341\n",
      "Epoch 17/20\n",
      "266/266 [==============================] - 5s 20ms/step - loss: 0.0810 - accuracy: 0.9740 - val_loss: 0.6480 - val_accuracy: 0.8311\n",
      "Epoch 18/20\n",
      "266/266 [==============================] - 5s 20ms/step - loss: 0.0747 - accuracy: 0.9762 - val_loss: 0.6730 - val_accuracy: 0.8310\n",
      "Epoch 19/20\n",
      "266/266 [==============================] - 5s 20ms/step - loss: 0.0664 - accuracy: 0.9788 - val_loss: 0.7431 - val_accuracy: 0.8260\n",
      "Epoch 20/20\n",
      "266/266 [==============================] - 5s 20ms/step - loss: 0.0645 - accuracy: 0.9789 - val_loss: 0.7437 - val_accuracy: 0.8321\n"
     ]
    }
   ],
   "source": [
    "# 학습의 진행\n",
    "model.compile(optimizer='adam',\n",
    "              loss='binary_crossentropy',\n",
    "              metrics=['accuracy'])\n",
    "              \n",
    "epochs=20  # 몇 epoch를 훈련하면 좋을지 결과를 보면서 바꾸어 봅시다. \n",
    "\n",
    "history = model.fit(partial_X_train,\n",
    "                    partial_y_train,\n",
    "                    epochs=epochs,\n",
    "                    batch_size=512,\n",
    "                    validation_data=(X_val, y_val),\n",
    "                    verbose=1)"
   ]
  },
  {
   "cell_type": "code",
   "execution_count": 38,
   "metadata": {},
   "outputs": [
    {
     "name": "stdout",
     "output_type": "stream",
     "text": [
      "1537/1537 - 5s - loss: 0.7775 - accuracy: 0.8303\n",
      "[0.7774637937545776, 0.8302988409996033]\n"
     ]
    }
   ],
   "source": [
    "# 테스트셋을 통한 모델 평가\n",
    "results = model.evaluate(X_test,  y_test, verbose=2)\n",
    "\n",
    "print(results)"
   ]
  },
  {
   "cell_type": "markdown",
   "metadata": {},
   "source": [
    "### 평가\n",
    "변수명 대소문자 이슈 때문에 문제를 찾아가는데 시간이 많이 걸렸다. 컴퓨팅 사고가 익숙하지 않아서 생긴 문제이다. 데이터 크기 때문에 커널이 죽는 문제가 잦았다. "
   ]
  }
 ],
 "metadata": {
  "kernelspec": {
   "display_name": "aiffel",
   "language": "python",
   "name": "aiffel"
  },
  "language_info": {
   "codemirror_mode": {
    "name": "ipython",
    "version": 3
   },
   "file_extension": ".py",
   "mimetype": "text/x-python",
   "name": "python",
   "nbconvert_exporter": "python",
   "pygments_lexer": "ipython3",
   "version": "3.7.6"
  }
 },
 "nbformat": 4,
 "nbformat_minor": 4
}
