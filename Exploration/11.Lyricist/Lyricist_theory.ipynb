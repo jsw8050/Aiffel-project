{
 "cells": [
  {
   "cell_type": "markdown",
   "metadata": {},
   "source": [
    "## 1. 시퀀스\n",
    "- 문장: 생각이나 감정을 말과 글로 표현할 때 완결된 내용을 나타내는 최소의 단위\n",
    "- 작문하는 딥러닝 모델 GPT-3: 논리적 일관성 유지, 자연스러움"
   ]
  },
  {
   "cell_type": "markdown",
   "metadata": {},
   "source": [
    "### 1-1 시퀀스(Sequence)\n",
    "- 문장, 주가, 날짜, 드라마 등 다양한 유형이 시퀀스 데이터에 포함된다.\n",
    "- 시퀀스는 데이터에 순서(번호)를 붙여 나열한 것이다. 즉, 순서가 있는 데이터 구조라고 할 수 있다. 그러나 데이터의 순서란 나열 순서일 뿐, 정렬과는 다르다.\n",
    "- 시퀀스 데이터가 곧 각 요소들의 연관성을 의미하는 것은 아니지만, 우리(인공지능)가 예측을 하려면 어느 정도는 연관성이 있어줘야 한다. 문법이 중요하다.\n",
    "- 통계에 기반"
   ]
  },
  {
   "cell_type": "markdown",
   "metadata": {},
   "source": [
    "### 1-2. I 다음 am을 쓰면 반 이상은 맞더라\n",
    "알바생이 커피를 [ ] 라면 아마도 만든다가 정답이겠죠. 알바생이 커피를 마실 수도 있지만, 통계적으론 만드다.\n",
    "\n",
    "인공지능이 글을 이해하게 하는 방식도 위와 같습니다. 어떤 문법적인 원리를 통해서가 아니고, 수많은 글을 읽게 함으로써 나는 , 밥을, 그 다음이 먹는다 라는 사실을 알게 하는 거죠. 그런 이유에서 많은 데이터가 곧 좋은 결과를 만들어냅니다.\n",
    "\n",
    "이 방식을 가장 잘 처리하는 인공지능 중 하나가 **순환신경망(RNN)** 이다."
   ]
  },
  {
   "cell_type": "markdown",
   "metadata": {},
   "source": [
    "#### RNN\n",
    "<start> 입력 -> '나는' 출력 => '나는' 입력 -> '밥을' 출력 => '밥을' 입력 -> '먹었다' 출력 => '먹었다' 입력 -> <end> 출력\n",
    "    \n",
    "- 생성한 단어를 다시 입력으로 사용하는 순환적인 특성을 살려 순환신경망이라 한다.\n",
    "- <end> 와 <start>는 문장 데이터만 있으면 만들어낼 수 있다."
   ]
  },
  {
   "cell_type": "code",
   "execution_count": 11,
   "metadata": {},
   "outputs": [
    {
     "name": "stdout",
     "output_type": "stream",
     "text": [
      "Source 문장: <start> 나는 밥을 먹었다 \n",
      "Target 문장:  나는 밥을 먹었다 <end>\n"
     ]
    }
   ],
   "source": [
    "sentence = \" 나는 밥을 먹었다 \"\n",
    "\n",
    "source_sentence = \"<start>\" + sentence\n",
    "target_sentence = sentence + \"<end>\"\n",
    "\n",
    "print(\"Source 문장:\", source_sentence)\n",
    "print(\"Target 문장:\", target_sentence)"
   ]
  },
  {
   "cell_type": "markdown",
   "metadata": {},
   "source": [
    "#### 언어모델 (Language Model)\n",
    "어떤 문구 뒤에 다음 단어가 나올 확률이 높다는 것은 그 다음 단어가 나오는 것이 보다 자연스럽다는 뜻이 됩니다. 그렇다면 '나는' 뒤에 '밥을'이 나오는 것이 자연스럽지 않다는 뜻일까요? 그것은 아닙니다. '나는' 뒤에 올 수 있는 자연스러운 단어의 경우의 수가 워낙 많다 보니 불확실성이 높을 뿐입니다.\n",
    "\n",
    "n-1 개의 단어 시퀀스 w1, ,,, wn-1가 주어졌을 때, n번째 단어 wn으로 무엇이 올지 예측과는 확률 모델을 언어 모델이라고 부른다.\n",
    "\n",
    "$P(w_n | w_1, …, w_{n-1};\\theta )$\n",
    "\n",
    "- w1, ,,, wn-1이 주어졌을 때, n번째 단어, wn으로 무엇이 올지 예측하는 구조\n",
    "- 어떤 텍스트도 언어 모델의 학습 데이터가 될 수 있습니다. n-1번째까지의 단어 시퀀스가 x_train이 되고 n번째 단어가 y_train이 되는 데이터셋\n",
    "- 이렇게 학습된 언어 모델을 학습 모드가 아닌 테스트 모드로 가동하면, 이 모델은 일정한 단어 시퀀스가 주어진다면 다음 단어, 그 다음 단어를 계속해서 예측해 낼 것"
   ]
  },
  {
   "cell_type": "markdown",
   "metadata": {},
   "source": [
    "## 2. 데이터 전처리"
   ]
  },
  {
   "cell_type": "code",
   "execution_count": 1,
   "metadata": {},
   "outputs": [
    {
     "name": "stdout",
     "output_type": "stream",
     "text": [
      "['First Citizen:', 'Before we proceed any further, hear me speak.', '', 'All:', 'Speak, speak.', '', 'First Citizen:', 'You are all resolved rather to die than to famish?', '']\n"
     ]
    }
   ],
   "source": [
    "import re                  # 정규표현식을 위한 Regex 지원 모듈 (문장 데이터를 정돈하기 위해) \n",
    "import numpy as np         # 변환된 문장 데이터(행렬)을 편하게 처리하기 위해\n",
    "import tensorflow as tf    # 대망의 텐서플로우!\n",
    "import os\n",
    "\n",
    "# 파일을 읽기모드로 열어 봅니다.\n",
    "file_path = os.getenv('HOME') + '/workplace/aiffel/Exploration/11.Lyricist/data/shakespeare.txt'\n",
    "with open(file_path, \"r\") as f:\n",
    "    raw_corpus = f.read().splitlines()   # 텍스트를 라인 단위로 끊어서 list 형태로 읽어옵니다.\n",
    "\n",
    "print(raw_corpus[:9])    # 앞에서부터 10라인만 화면에 출력해 볼까요?"
   ]
  },
  {
   "cell_type": "code",
   "execution_count": 2,
   "metadata": {},
   "outputs": [
    {
     "name": "stdout",
     "output_type": "stream",
     "text": [
      "Before we proceed any further, hear me speak.\n",
      "Speak, speak.\n",
      "You are all resolved rather to die than to famish?\n"
     ]
    }
   ],
   "source": [
    "for idx, sentence in enumerate(raw_corpus):\n",
    "    if len(sentence) == 0: continue   # 길이가 0인 문장은 건너뜁니다.\n",
    "    if sentence[-1] == \":\": continue  # 문장의 끝이 : 인 문장은 건너뜁니다.\n",
    "\n",
    "    if idx > 9: break   # 일단 문장 10개만 확인해 볼 겁니다.\n",
    "        \n",
    "    print(sentence)"
   ]
  },
  {
   "cell_type": "markdown",
   "metadata": {},
   "source": [
    "#### 토큰화\n",
    "- 텍스트 분류 모델에서 많이 본 것처럼 텍스트 생성 모델에도 단어 사전을 만들게 된다.이때 문장을 일정한 기준으로 쪼개는 과정을 토큰화 과정이라 한다.\n",
    "- 띄어쓰기 기준으로 나누는 방법\n",
    "- 문제 케이스\n",
    "    - Hi, my name is John. *(\"Hi,\" \"my\", …, \"john.\" 으로 분리됨) - 문장부호\n",
    "    - First, open the first chapter. *(First와 first를 다른 단어로 인식) - 대소문자\n",
    "    - He is a ten-year-old boy. *(ten-year-old를 한 단어로 인식) - 특수문자\n",
    "- 해결방안\n",
    "    - \"1.\" 을 막기 위해 문장 부호 양쪽에 공백을 추가 \n",
    "    - \"2.\" 를 막기 위해 모든 문자들을 소문자로 변환\n",
    "    - \"3.\" 을 막기 위해 특수문자들은 모두 제거"
   ]
  },
  {
   "cell_type": "markdown",
   "metadata": {},
   "source": [
    "#### 전처리: 정규표현식(Regex)"
   ]
  },
  {
   "cell_type": "code",
   "execution_count": 3,
   "metadata": {},
   "outputs": [
    {
     "name": "stdout",
     "output_type": "stream",
     "text": [
      "<start> this is sample sentence . <end>\n"
     ]
    }
   ],
   "source": [
    "def preprocess_sentence(sentence):\n",
    "    sentence = sentence.lower().strip()       # 소문자로 바꾸고 양쪽 공백을 삭제\n",
    "  \n",
    "    # 아래 3단계를 거쳐 sentence는 스페이스 1개를 delimeter로 하는 소문자 단어 시퀀스로 바뀝니다.\n",
    "    sentence = re.sub(r\"([?.!,¿])\", r\" \\1 \", sentence)        # 패턴의 특수문자를 만나면 특수문자 양쪽에 공백을 추가\n",
    "    sentence = re.sub(r'[\" \"]+', \" \", sentence)                  # 공백 패턴을 만나면 스페이스 1개로 치환\n",
    "    sentence = re.sub(r\"[^a-zA-Z?.!,¿]+\", \" \", sentence)  # a-zA-Z?.!,¿ 패턴을 제외한 모든 문자(공백문자까지도)를 스페이스 1개로 치환\n",
    "\n",
    "    sentence = sentence.strip()\n",
    "\n",
    "    sentence = '<start> ' + sentence + ' <end>'      # 이전 스텝에서 본 것처럼 문장 앞뒤로 <start>와 <end>를 단어처럼 붙여 줍니다\n",
    "    \n",
    "    return sentence\n",
    "\n",
    "print(preprocess_sentence(\"This @_is ;;;sample        sentence.\"))   # 이 문장이 어떻게 필터링되는지 확인해 보세요."
   ]
  },
  {
   "cell_type": "markdown",
   "metadata": {},
   "source": [
    "#### 자연어처리 분야 모델의 입력과 출력\n",
    "- 모델의 입력이 되는 문장을 소스 문장(Source Sentence)\n",
    "- 정답 역할을 하게 될 모델의 출력 문장을 타겟 문장(Target Sentence)라고 관례적으로 부른다. \n",
    "- 각각 X_train, y_train 에 해당한다\n",
    "-  위에서 만든 정제 함수를 통해 만든 데이터셋에서 토큰화를 진행한 후 끝 단어 를 없애면 소스 문장, 첫 단어 를 없애면 타겟 문장이 된다."
   ]
  },
  {
   "cell_type": "code",
   "execution_count": 4,
   "metadata": {},
   "outputs": [
    {
     "data": {
      "text/plain": [
       "['<start> before we proceed any further , hear me speak . <end>',\n",
       " '<start> speak , speak . <end>',\n",
       " '<start> you are all resolved rather to die than to famish ? <end>',\n",
       " '<start> resolved . resolved . <end>',\n",
       " '<start> first , you know caius marcius is chief enemy to the people . <end>',\n",
       " '<start> we know t , we know t . <end>',\n",
       " '<start> let us kill him , and we ll have corn at our own price . <end>',\n",
       " '<start> is t a verdict ? <end>',\n",
       " '<start> no more talking on t let it be done away , away ! <end>',\n",
       " '<start> one word , good citizens . <end>']"
      ]
     },
     "execution_count": 4,
     "metadata": {},
     "output_type": "execute_result"
    }
   ],
   "source": [
    "# 정제 데이터 구축\n",
    "corpus = []\n",
    "\n",
    "for sentence in raw_corpus:\n",
    "    if len(sentence) == 0: continue\n",
    "    if sentence[-1] == \":\": continue\n",
    "        \n",
    "    corpus.append(preprocess_sentence(sentence))\n",
    "        \n",
    "corpus[:10]"
   ]
  },
  {
   "cell_type": "markdown",
   "metadata": {},
   "source": [
    "#### tf.keras.preprocessing.text.Tokenizer 패키지\n",
    "정제된 데이터를 토큰화하고, 단어 사전(vocabulary 또는 dictionary라고 칭함)을 만들어주며, 데이터를 숫자로 변환까지 한 방에 해줍니다. 이 과정을 벡터화(vectorize) 라 하며, 숫자로 변환된 데이터를 텐서(tensor) 라고 칭합니다. 우리가 사용하는 텐서플로우로 만든 모델의 입출력 데이터는 실제로는 모두 이런 텐서로 변환되어 처리되는 것입니다."
   ]
  },
  {
   "cell_type": "markdown",
   "metadata": {},
   "source": [
    "#### Tensor\n",
    "1. Tensor는 배열의 집합이다.\n",
    "2. 차원의 수는 Rank와 같은말이다.\n",
    "3. 배열의 차원에따라 불리는 이름이 달라진다.\n",
    "\n",
    "rank | type    | example\n",
    "\n",
    "0    | scalar  | [1]\n",
    "\n",
    "1    | vector  | [1,1]\n",
    "\n",
    "2    | matrix  | [[1,1],[1,1]]\n",
    "\n",
    "3    | 3-tensor| [[[1,1],[1,1]],[[1,1], [1,1,]], [1.2], [2,1]]]\n",
    "\n",
    "n    | n-tensor| "
   ]
  },
  {
   "cell_type": "code",
   "execution_count": 5,
   "metadata": {},
   "outputs": [
    {
     "name": "stdout",
     "output_type": "stream",
     "text": [
      "[[   2  143   40 ...    0    0    0]\n",
      " [   2  110    4 ...    0    0    0]\n",
      " [   2   11   50 ...    0    0    0]\n",
      " ...\n",
      " [   2  149 4553 ...    0    0    0]\n",
      " [   2   34   71 ...    0    0    0]\n",
      " [   2  945   34 ...    0    0    0]] <keras_preprocessing.text.Tokenizer object at 0x7f0034902210>\n"
     ]
    }
   ],
   "source": [
    "def tokenize(corpus):\n",
    "    # 텐서플로우에서 제공하는 Tokenizer 패키지를 생성\n",
    "    tokenizer = tf.keras.preprocessing.text.Tokenizer(\n",
    "        num_words=7000,  # 전체 단어의 개수 \n",
    "        filters=' ',    # 별도로 전처리 로직을 추가할 수 있습니다. 이번에는 사용하지 않겠습니다.\n",
    "        oov_token=\"<unk>\"  # out-of-vocabulary, 사전에 없었던 단어는 어떤 토큰으로 대체할지\n",
    "    )\n",
    "    tokenizer.fit_on_texts(corpus)   # 우리가 구축한 corpus로부터 Tokenizer가 사전을 자동구축하게 됩니다.\n",
    "\n",
    "    # 이후 tokenizer를 활용하여 모델에 입력할 데이터셋을 구축하게 됩니다.\n",
    "    tensor = tokenizer.texts_to_sequences(corpus)   # tokenizer는 구축한 사전으로부터 corpus를 해석해 Tensor로 변환합니다.\n",
    "\n",
    "    # 입력 데이터의 시퀀스 길이를 일정하게 맞추기 위한 padding  메소드를 제공합니다.\n",
    "    # maxlen의 디폴트값은 None입니다. 이 경우 corpus의 가장 긴 문장을 기준으로 시퀀스 길이가 맞춰집니다.\n",
    "    tensor = tf.keras.preprocessing.sequence.pad_sequences(tensor, padding='post')  \n",
    "\n",
    "    print(tensor,tokenizer)\n",
    "    return tensor, tokenizer\n",
    "\n",
    "tensor, tokenizer = tokenize(corpus)"
   ]
  },
  {
   "cell_type": "code",
   "execution_count": 6,
   "metadata": {},
   "outputs": [
    {
     "name": "stdout",
     "output_type": "stream",
     "text": [
      "[[   2  143   40  933  140  591    4  124   24  110]\n",
      " [   2  110    4  110    5    3    0    0    0    0]\n",
      " [   2   11   50   43 1201  316    9  201   74    9]]\n"
     ]
    }
   ],
   "source": [
    "# 생성된 텐서 데이터를 3번째 행, 10번째 열까지만 출력\n",
    "print(tensor[:3, :10])"
   ]
  },
  {
   "cell_type": "code",
   "execution_count": 7,
   "metadata": {},
   "outputs": [
    {
     "name": "stdout",
     "output_type": "stream",
     "text": [
      "1 : <unk>\n",
      "2 : <start>\n",
      "3 : <end>\n",
      "4 : ,\n",
      "5 : .\n",
      "6 : the\n",
      "7 : and\n",
      "8 : i\n",
      "9 : to\n",
      "10 : of\n"
     ]
    }
   ],
   "source": [
    "# 텐서 데이터는 모두 정수로 이루어져 있습니다. 이 숫자는 다름 아니라, tokenizer에 구축된 단어 사전의 인덱스\n",
    "for idx in tokenizer.index_word:\n",
    "    print(idx, \":\", tokenizer.index_word[idx])\n",
    "\n",
    "    if idx >= 10: break"
   ]
  },
  {
   "cell_type": "code",
   "execution_count": 8,
   "metadata": {},
   "outputs": [
    {
     "name": "stdout",
     "output_type": "stream",
     "text": [
      "[  2 143  40 933 140 591   4 124  24 110   5   3   0   0   0   0   0   0\n",
      "   0   0]\n",
      "[143  40 933 140 591   4 124  24 110   5   3   0   0   0   0   0   0   0\n",
      "   0   0]\n"
     ]
    }
   ],
   "source": [
    "# 생성된 텐서를 소스와 타겟으로 분리하여 모델이 학습할 수 있게 한다\n",
    "src_input = tensor[:, :-1]  # tensor에서 마지막 토큰을 잘라내서 소스 문장을 생성합니다. 마지막 토큰은 <END>가 아니라 <pad>일 가능성이 높습니다.\n",
    "tgt_input = tensor[:, 1:]    # tensor에서 <START>를 잘라내서 타겟 문장을 생성합니다.\n",
    "\n",
    "print(src_input[0])\n",
    "print(tgt_input[0])"
   ]
  },
  {
   "cell_type": "markdown",
   "metadata": {},
   "source": [
    "텐서 출력부에서 행 뒤쪽에 0이 많이 나온 부분은 정해진 입력 시퀀스 길이보다 문장이 짧을 경우 0으로 패딩(padding)을 채워넣은 것입니다. 사전에는 없지만 0은 바로 패딩 문자 가 될 것입니다."
   ]
  },
  {
   "cell_type": "markdown",
   "metadata": {},
   "source": [
    "- 소스는 2()에서 시작해서 3()으로 끝난 후 0()로 채워져 있다.\n",
    "- 타겟은 2로 시작하지 않고 소스를 왼쪽으로 한칸 시프트한 형태"
   ]
  },
  {
   "cell_type": "markdown",
   "metadata": {},
   "source": [
    "#### 데이터셋 객체 생성\n",
    "텐서플로우를 활용할 경우 텐서로 생성된 데이터를 이용해 tf.data.Dataset 객체 생성\n",
    "- tf.data.Dataset객체는 텐서플로우에서 사용할 경우 데이터 입력 파이프라인을 통한 속도 개선 및 각종 편의기능을 제공\n",
    "- tf.data.Dataset.from_tensor_slices() 메소드를 이용해 tf.data.Dataset객체를 생성"
   ]
  },
  {
   "cell_type": "code",
   "execution_count": 9,
   "metadata": {},
   "outputs": [
    {
     "data": {
      "text/plain": [
       "<BatchDataset shapes: ((256, 20), (256, 20)), types: (tf.int32, tf.int32)>"
      ]
     },
     "execution_count": 9,
     "metadata": {},
     "output_type": "execute_result"
    }
   ],
   "source": [
    "BUFFER_SIZE = len(src_input)\n",
    "BATCH_SIZE = 256\n",
    "steps_per_epoch = len(src_input) // BATCH_SIZE\n",
    "\n",
    "VOCAB_SIZE = tokenizer.num_words + 1    # tokenizer가 구축한 단어사전 내 7000개와, 여기 포함되지 않은 0:<pad>를 포함하여 7001개\n",
    "\n",
    "dataset = tf.data.Dataset.from_tensor_slices((src_input, tgt_input)).shuffle(BUFFER_SIZE)\n",
    "dataset = dataset.batch(BATCH_SIZE, drop_remainder=True)\n",
    "dataset"
   ]
  },
  {
   "cell_type": "markdown",
   "metadata": {},
   "source": [
    "#### 데이터셋 생성 과정 정리\n",
    "- 정규표현식을 이용한 corpus 생성\n",
    "- tf.keras.preprocessing.text.Tokenizer를 이용해 corpus를 텐서로 변환\n",
    "- tf.data.Dataset.from_tensor_slices()를 이용해 corpus 텐서를 tf.data.Dataset객체로 변환"
   ]
  },
  {
   "cell_type": "markdown",
   "metadata": {},
   "source": [
    "## 인공지능 학습\n",
    "인공지능 = 인공신경망 = 딥러닝 네트워크 = 모델\n",
    "\n",
    "Embedding (단어를 추상적으로 변환하는 역할) -> \n",
    "\n",
    "RNN1 (LSTM) : 문장을 순차적으로 읽으며 단어 간의 연관성 분석 ->\n",
    "\n",
    "RNN2 (LSTM) : 문장을 순차적으로 읽으며 단어 간의 연관성 분석 -> \n",
    "\n",
    "Linear (Dense) : RNN에서 만들어낸 결과를 바탕으로 생성할 단어 결정"
   ]
  },
  {
   "cell_type": "markdown",
   "metadata": {},
   "source": [
    "####  tf.keras.Model을 Subclassing하는 방식\n",
    "1개의 Embedding 레이어, 2개의 LSTM 레이어, 1개의 Dense 레이어로 구성"
   ]
  },
  {
   "cell_type": "code",
   "execution_count": 10,
   "metadata": {
    "scrolled": true
   },
   "outputs": [],
   "source": [
    "class TextGenerator(tf.keras.Model):\n",
    "    def __init__(self, vocab_size, embedding_size, hidden_size):\n",
    "        super(TextGenerator, self).__init__()\n",
    "        \n",
    "        self.embedding = tf.keras.layers.Embedding(vocab_size, embedding_size)\n",
    "        self.rnn_1 = tf.keras.layers.LSTM(hidden_size, return_sequences=True)\n",
    "        self.rnn_2 = tf.keras.layers.LSTM(hidden_size, return_sequences=True)\n",
    "        self.linear = tf.keras.layers.Dense(vocab_size)\n",
    "        \n",
    "    def call(self, x):\n",
    "        out = self.embedding(x)\n",
    "        out = self.rnn_1(out)\n",
    "        out = self.rnn_2(out)\n",
    "        out = self.linear(out)\n",
    "        \n",
    "        return out\n",
    "    \n",
    "embedding_size = 256\n",
    "hidden_size = 1024\n",
    "model = TextGenerator(tokenizer.num_words + 1, embedding_size , hidden_size)"
   ]
  },
  {
   "cell_type": "markdown",
   "metadata": {},
   "source": [
    " 입력 텐서에는 단어 사전의 인덱스가 들어 있습니다. Embedding 레이어는 이 인덱스 값을 해당 인덱스 번째의 워드 벡터로 바꿔 줍니다. 이 워드 벡터는 의미 벡터 공간에서 단어의 추상적 표현(representation)으로 사용"
   ]
  },
  {
   "cell_type": "markdown",
   "metadata": {},
   "source": [
    "#### embedding_size \n",
    "워드 벡터의 차원수, 즉 단어가 추상적으로 표현되는 크기\n",
    "- 차갑다: [0.0, 1.0]\n",
    "- 뜨겁다: [1.0, 0.0]\n",
    "- 미지근하다: [0.5, 0.5]\n",
    "값이 커질수록 단어의 추상적인 특징들을 더 잡아낼 수 있지만, 그만큼 충분한 데이터가 주어지지 않으면 오히려 혼란만을 야기한다."
   ]
  },
  {
   "cell_type": "markdown",
   "metadata": {},
   "source": [
    "#### hidden_size\n",
    "LSTM 레이어의 hidden state 의 차원수인 hidden_size 도 같은 맥락입니다. hidden_size 는 모델에 얼마나 많은 일꾼을 둘 것인가? 로 이해해도 크게 엇나가지 않습니다. 그 일꾼들은 모두 같은 데이터를 보고 각자의 생각을 가지는데, 역시 충분한 데이터가 주어지면 올바른 결정을 내리겠지만 그렇지 않으면 배가 산으로 갈 뿐 입니다. 이번 실습에는 1024가 적당해보이는군요."
   ]
  },
  {
   "cell_type": "code",
   "execution_count": 11,
   "metadata": {},
   "outputs": [
    {
     "data": {
      "text/plain": [
       "<tf.Tensor: shape=(256, 20, 7001), dtype=float32, numpy=\n",
       "array([[[ 6.70970112e-05, -1.86108082e-04, -3.02427768e-04, ...,\n",
       "         -2.06798926e-04, -6.12117365e-05, -5.85916969e-05],\n",
       "        [ 6.38362311e-04, -4.20911456e-05, -3.05910129e-04, ...,\n",
       "         -3.83489329e-04, -4.51039596e-05, -2.37608227e-04],\n",
       "        [ 1.01366173e-03,  1.36112561e-04, -3.36070487e-04, ...,\n",
       "         -5.08250203e-04,  2.73713114e-04, -8.97613703e-04],\n",
       "        ...,\n",
       "        [-7.00458558e-03, -1.97080686e-03,  3.24633002e-04, ...,\n",
       "         -1.74147819e-04,  2.95041199e-03, -8.25500931e-04],\n",
       "        [-7.43304892e-03, -2.14238628e-03,  3.10141826e-04, ...,\n",
       "         -1.82372998e-04,  3.13094701e-03, -8.09352205e-04],\n",
       "        [-7.79099530e-03, -2.28742301e-03,  2.86704104e-04, ...,\n",
       "         -2.05668461e-04,  3.28538963e-03, -7.93119892e-04]],\n",
       "\n",
       "       [[ 6.70970112e-05, -1.86108082e-04, -3.02427768e-04, ...,\n",
       "         -2.06798926e-04, -6.12117365e-05, -5.85916969e-05],\n",
       "        [ 2.43116869e-04, -2.81393644e-04,  1.37257768e-04, ...,\n",
       "         -4.76175308e-04, -9.68962486e-05,  2.29599478e-04],\n",
       "        [ 5.62378496e-04, -6.12002157e-04,  4.23521968e-04, ...,\n",
       "         -7.73922715e-04, -1.42034711e-04,  1.77264810e-04],\n",
       "        ...,\n",
       "        [-6.61896775e-03, -1.46498752e-03,  1.72475266e-04, ...,\n",
       "          5.69701024e-06,  3.01603414e-03, -1.62062104e-04],\n",
       "        [-7.16454675e-03, -1.65668584e-03,  2.20991540e-04, ...,\n",
       "         -5.11837316e-05,  3.23546538e-03, -2.43142174e-04],\n",
       "        [-7.61749735e-03, -1.82920904e-03,  2.47987977e-04, ...,\n",
       "         -1.16705371e-04,  3.41701065e-03, -3.12153628e-04]],\n",
       "\n",
       "       [[ 6.70970112e-05, -1.86108082e-04, -3.02427768e-04, ...,\n",
       "         -2.06798926e-04, -6.12117365e-05, -5.85916969e-05],\n",
       "        [-8.09564372e-05, -2.82131077e-04, -3.41739273e-04, ...,\n",
       "         -6.73709379e-04, -6.56546545e-05, -9.97507159e-05],\n",
       "        [-2.68178323e-04, -3.42640822e-04, -2.16586108e-04, ...,\n",
       "         -9.14752251e-04, -3.52014354e-06, -5.38110791e-04],\n",
       "        ...,\n",
       "        [-2.34756991e-03, -1.29744993e-03, -7.64059427e-04, ...,\n",
       "         -6.76402822e-04,  9.51462483e-04,  5.64159011e-04],\n",
       "        [-3.30316182e-03, -1.40111789e-03, -5.55718259e-04, ...,\n",
       "         -5.64741844e-04,  1.34045724e-03,  4.65009856e-04],\n",
       "        [-4.20654006e-03, -1.50662160e-03, -3.72731738e-04, ...,\n",
       "         -4.79568786e-04,  1.71882007e-03,  3.37743026e-04]],\n",
       "\n",
       "       ...,\n",
       "\n",
       "       [[ 6.70970112e-05, -1.86108082e-04, -3.02427768e-04, ...,\n",
       "         -2.06798926e-04, -6.12117365e-05, -5.85916969e-05],\n",
       "        [ 1.06332336e-04,  9.02670490e-06,  1.73362569e-05, ...,\n",
       "         -7.98548514e-04, -1.68774888e-04, -4.46783852e-05],\n",
       "        [-1.85492274e-04,  3.44252883e-04,  1.26099942e-04, ...,\n",
       "         -9.80133889e-04, -5.31149999e-05, -3.45461187e-04],\n",
       "        ...,\n",
       "        [-5.03665069e-03, -1.37731573e-03,  4.17714298e-04, ...,\n",
       "         -1.78924834e-04,  2.65353499e-03, -1.41553057e-04],\n",
       "        [-5.74285118e-03, -1.59410480e-03,  4.62205178e-04, ...,\n",
       "         -1.75904061e-04,  2.87474762e-03, -1.58873328e-04],\n",
       "        [-6.35387935e-03, -1.78229564e-03,  4.88245627e-04, ...,\n",
       "         -1.96837747e-04,  3.06960661e-03, -1.90221734e-04]],\n",
       "\n",
       "       [[ 6.70970112e-05, -1.86108082e-04, -3.02427768e-04, ...,\n",
       "         -2.06798926e-04, -6.12117365e-05, -5.85916969e-05],\n",
       "        [-2.03889776e-05, -4.78303904e-04, -6.12634933e-04, ...,\n",
       "         -1.71747306e-04, -5.57965905e-05,  3.45795052e-05],\n",
       "        [ 4.35052134e-05, -4.31800523e-04, -6.58337085e-04, ...,\n",
       "         -6.47706969e-04, -1.97908957e-04, -3.80426995e-04],\n",
       "        ...,\n",
       "        [-3.31926416e-03, -9.50552232e-04, -2.38990455e-04, ...,\n",
       "         -2.09657272e-04,  1.41953968e-03,  2.22223505e-04],\n",
       "        [-4.20489628e-03, -1.17012498e-03, -8.85370973e-05, ...,\n",
       "         -1.91234518e-04,  1.80165900e-03,  1.21254248e-04],\n",
       "        [-5.00717992e-03, -1.37293548e-03,  3.74459960e-05, ...,\n",
       "         -1.90058287e-04,  2.15425552e-03,  1.21360672e-05]],\n",
       "\n",
       "       [[ 6.70970112e-05, -1.86108082e-04, -3.02427768e-04, ...,\n",
       "         -2.06798926e-04, -6.12117365e-05, -5.85916969e-05],\n",
       "        [-1.07577194e-04, -2.99597363e-04, -4.34608402e-04, ...,\n",
       "         -8.39660861e-05, -7.21270262e-05,  2.75928323e-04],\n",
       "        [-1.36418939e-05, -3.14551202e-04, -5.06408629e-04, ...,\n",
       "         -2.14934407e-04, -5.65723785e-05, -9.13335680e-05],\n",
       "        ...,\n",
       "        [-6.30920334e-03, -1.25894498e-03, -5.17635708e-05, ...,\n",
       "         -2.46310257e-04,  2.59667053e-03, -2.04670112e-04],\n",
       "        [-6.83411257e-03, -1.47184462e-03,  7.01198805e-05, ...,\n",
       "         -2.46918120e-04,  2.86749285e-03, -2.20448681e-04],\n",
       "        [-7.28517491e-03, -1.66417775e-03,  1.56550610e-04, ...,\n",
       "         -2.63097085e-04,  3.10157868e-03, -2.43725081e-04]]],\n",
       "      dtype=float32)>"
      ]
     },
     "execution_count": 11,
     "metadata": {},
     "output_type": "execute_result"
    }
   ],
   "source": [
    "# model build\n",
    "for src_sample, tgt_sample in dataset.take(1): break\n",
    "model(src_sample)"
   ]
  },
  {
   "cell_type": "markdown",
   "metadata": {},
   "source": [
    "- shape=(256, 20, 7001)\n",
    "- 7001: Dense 레이어의 출력 차원수\n",
    "    - 7001개의 단어 중 어느 단어의 확률이 가장 높을지를 모델링해야 하기 때문\n",
    "- 256은 이전 스텝에서 지정한 배치 사이즈\n",
    "    - take(1)를 통해서 1개의 배치, 즉 256개의 문장 데이터를 가져온 것\n",
    "- 20: tf.keras.layers.LSTM(hidden_size, return_sequences=True)로 호출한 LSTM 레이어에서 return_sequences=True이라고 지정한 부분에 있습니다. 즉, LSTM은 자신에게 입력된 시퀀스의 길이만큼 동일한 길이의 시퀀스를 출력한다는 의미입니다. 만약 return_sequences=False였다면 LSTM 레이어는 1개의 벡터만 출력했을 것입니다. 그런데 문제는, 우리의 모델은 입력 데이터의 시퀀스 길이가 얼마인지 모른다는 점입니다. 모델을 만들면서 알려준 적도 없습니다. 그럼 20은 언제 알게된 것일까요? 네, 그렇습니다. 데이터를 입력받으면서 비로소 알게 된 것입니다. 우리 데이터셋의 max_len이 20으로 맞춰져 있었던 것입니다."
   ]
  },
  {
   "cell_type": "code",
   "execution_count": 12,
   "metadata": {},
   "outputs": [
    {
     "name": "stdout",
     "output_type": "stream",
     "text": [
      "Model: \"text_generator\"\n",
      "_________________________________________________________________\n",
      "Layer (type)                 Output Shape              Param #   \n",
      "=================================================================\n",
      "embedding (Embedding)        multiple                  1792256   \n",
      "_________________________________________________________________\n",
      "lstm (LSTM)                  multiple                  5246976   \n",
      "_________________________________________________________________\n",
      "lstm_1 (LSTM)                multiple                  8392704   \n",
      "_________________________________________________________________\n",
      "dense (Dense)                multiple                  7176025   \n",
      "=================================================================\n",
      "Total params: 22,607,961\n",
      "Trainable params: 22,607,961\n",
      "Non-trainable params: 0\n",
      "_________________________________________________________________\n"
     ]
    }
   ],
   "source": [
    "model.summary()"
   ]
  },
  {
   "cell_type": "markdown",
   "metadata": {},
   "source": [
    "입력 시퀀스의 길이를 모르기 때문에 output shape 를 알려주지 않는다. 그러나 모델의 파라미터 사이즈는 측정된다. 약 22million이다. "
   ]
  },
  {
   "cell_type": "markdown",
   "metadata": {},
   "source": [
    "#### 모델 학습"
   ]
  },
  {
   "cell_type": "code",
   "execution_count": 13,
   "metadata": {},
   "outputs": [
    {
     "name": "stdout",
     "output_type": "stream",
     "text": [
      "Epoch 1/30\n",
      "93/93 [==============================] - 13s 141ms/step - loss: 3.5233\n",
      "Epoch 2/30\n",
      "93/93 [==============================] - 13s 135ms/step - loss: 2.8132\n",
      "Epoch 3/30\n",
      "93/93 [==============================] - 13s 136ms/step - loss: 2.7256\n",
      "Epoch 4/30\n",
      "93/93 [==============================] - 13s 138ms/step - loss: 2.6309\n",
      "Epoch 5/30\n",
      "93/93 [==============================] - 12s 130ms/step - loss: 2.5601\n",
      "Epoch 6/30\n",
      "93/93 [==============================] - 12s 134ms/step - loss: 2.5113\n",
      "Epoch 7/30\n",
      "93/93 [==============================] - 14s 147ms/step - loss: 2.4657\n",
      "Epoch 8/30\n",
      "93/93 [==============================] - 13s 139ms/step - loss: 2.4143\n",
      "Epoch 9/30\n",
      "93/93 [==============================] - 13s 136ms/step - loss: 2.3663\n",
      "Epoch 10/30\n",
      "93/93 [==============================] - 13s 135ms/step - loss: 2.3209\n",
      "Epoch 11/30\n",
      "93/93 [==============================] - 12s 133ms/step - loss: 2.2744\n",
      "Epoch 12/30\n",
      "93/93 [==============================] - 13s 138ms/step - loss: 2.2302\n",
      "Epoch 13/30\n",
      "93/93 [==============================] - 12s 131ms/step - loss: 2.1900\n",
      "Epoch 14/30\n",
      "93/93 [==============================] - 12s 134ms/step - loss: 2.1476\n",
      "Epoch 15/30\n",
      "93/93 [==============================] - 12s 134ms/step - loss: 2.1067\n",
      "Epoch 16/30\n",
      "93/93 [==============================] - 12s 132ms/step - loss: 2.0667\n",
      "Epoch 17/30\n",
      "93/93 [==============================] - 13s 135ms/step - loss: 2.0256\n",
      "Epoch 18/30\n",
      "93/93 [==============================] - 12s 132ms/step - loss: 1.9865\n",
      "Epoch 19/30\n",
      "93/93 [==============================] - 12s 131ms/step - loss: 1.9448\n",
      "Epoch 20/30\n",
      "93/93 [==============================] - 12s 132ms/step - loss: 1.9043\n",
      "Epoch 21/30\n",
      "93/93 [==============================] - 12s 132ms/step - loss: 1.8633\n",
      "Epoch 22/30\n",
      "93/93 [==============================] - 12s 133ms/step - loss: 1.8234\n",
      "Epoch 23/30\n",
      "93/93 [==============================] - 12s 132ms/step - loss: 1.7816\n",
      "Epoch 24/30\n",
      "93/93 [==============================] - 13s 140ms/step - loss: 1.7411\n",
      "Epoch 25/30\n",
      "93/93 [==============================] - 12s 133ms/step - loss: 1.7012\n",
      "Epoch 26/30\n",
      "93/93 [==============================] - 12s 133ms/step - loss: 1.6608\n",
      "Epoch 27/30\n",
      "93/93 [==============================] - 13s 138ms/step - loss: 1.6197\n",
      "Epoch 28/30\n",
      "93/93 [==============================] - 14s 145ms/step - loss: 1.5806\n",
      "Epoch 29/30\n",
      "93/93 [==============================] - 13s 142ms/step - loss: 1.5423\n",
      "Epoch 30/30\n",
      "93/93 [==============================] - 13s 138ms/step - loss: 1.5012\n"
     ]
    },
    {
     "data": {
      "text/plain": [
       "<tensorflow.python.keras.callbacks.History at 0x7effb59dac50>"
      ]
     },
     "execution_count": 13,
     "metadata": {},
     "output_type": "execute_result"
    }
   ],
   "source": [
    "optimizer = tf.keras.optimizers.Adam()\n",
    "loss = tf.keras.losses.SparseCategoricalCrossentropy(\n",
    "    from_logits=True,\n",
    "    reduction='none'\n",
    ")\n",
    "\n",
    "model.compile(loss=loss, optimizer=optimizer)\n",
    "model.fit(dataset, epochs=30)"
   ]
  },
  {
   "cell_type": "markdown",
   "metadata": {},
   "source": [
    "#### 모델 평가\n",
    "enerate_text 함수는 모델에게 시작 문장을 전달하면 모델이 시작 문장을 바탕으로 작문을 진행하게 합니다."
   ]
  },
  {
   "cell_type": "code",
   "execution_count": 14,
   "metadata": {},
   "outputs": [],
   "source": [
    "def generate_text(model, tokenizer, init_sentence=\"<start>\", max_len=20):\n",
    "    # 테스트를 위해서 입력받은 init_sentence도 일단 텐서로 변환합니다.\n",
    "    test_input = tokenizer.texts_to_sequences([init_sentence])\n",
    "    test_tensor = tf.convert_to_tensor(test_input, dtype=tf.int64)\n",
    "    end_token = tokenizer.word_index[\"<end>\"]\n",
    "\n",
    "    # 텍스트를 실제로 생성할때는 루프를 돌면서 단어 하나씩 생성해야 합니다. \n",
    "    while True:\n",
    "        predict = model(test_tensor)  # 입력받은 문장의 텐서를 입력합니다. \n",
    "        predict_word = tf.argmax(tf.nn.softmax(predict, axis=-1), axis=-1)[:, -1]   # 우리 모델이 예측한 마지막 단어가 바로 새롭게 생성한 단어가 됩니다. \n",
    "\n",
    "        # 우리 모델이 새롭게 예측한 단어를 입력 문장의 뒤에 붙여 줍니다. \n",
    "        test_tensor = tf.concat([test_tensor, \n",
    "\t\t\t\t\t\t\t\t\t\t\t\t\t\t\t\t tf.expand_dims(predict_word, axis=0)], axis=-1)\n",
    "\n",
    "        # 우리 모델이 <END>를 예측했거나, max_len에 도달하지 않았다면  while 루프를 또 돌면서 다음 단어를 예측해야 합니다.\n",
    "        if predict_word.numpy()[0] == end_token: break\n",
    "        if test_tensor.shape[1] >= max_len: break\n",
    "\n",
    "    generated = \"\"\n",
    "    # 생성된 tensor 안에 있는 word index를 tokenizer.index_word 사전을 통해 실제 단어로 하나씩 변환합니다. \n",
    "    for word_index in test_tensor[0].numpy():\n",
    "        generated += tokenizer.index_word[word_index] + \" \"\n",
    "\n",
    "    return generated   # 이것이 최종적으로 모델이 생성한 자연어 문장입니다."
   ]
  },
  {
   "cell_type": "markdown",
   "metadata": {},
   "source": [
    "텍스트를 생성하는 함수 안을 들여다보면 while문이 하나 자리잡고 있는 것을 볼 수 있습니다. 왜 그럴까요?\n",
    "\n",
    "학습 단계에서 우리는 이런 while 문이 필요없었습니다. 소스 문장과 타겟 문장이 있었고, 우리는 소스 문장을 모델에 입력해서 나온 결과를 타겟 문장과 직접 비교하면 그만이었습니다.\n",
    "그러나 텍스트를 실제로 생성해야 하는 시점에서, 우리에게는 2가지가 없습니다. 하나는 타겟 문장입니다. 또하나는 무엇이냐 하면, 소스 문장입니다. 생각해 보면 우리는 텍스트 생성 태스크를 위해 테스트 데이터셋을 따로 생성한 적이 없습니다.\n",
    "\n",
    "generate_text() 함수에서 init_sentence를 인자로 받고는 있습니다. 이렇게 받은 인자를 일단 텐서로 만들고 있습니다. 디폴트로는 단어 하나만 받는군요.\n",
    "\n",
    "   - while의 첫번째 루프에서 test_tensor에 <START> 하나만 들어갔다고 합시다. 우리의 모델이 출력으로 7001개의 단어 중 A를 골랐다고 합시다.\n",
    "   - while의 두번째 루프에서 test_tensor에는 <START> A가 들어갑니다. 그래서 우리의 모델이 그다음 B를 골랐다고 합시다.\n",
    "   - while의 세번째 루프에서 test_tensor에는 <START> A B가 들어갑니다. 그래서….. (이하 후략)"
   ]
  },
  {
   "cell_type": "code",
   "execution_count": 15,
   "metadata": {},
   "outputs": [
    {
     "data": {
      "text/plain": [
       "'<start> he s not prepared to morrow . <end> '"
      ]
     },
     "execution_count": 15,
     "metadata": {},
     "output_type": "execute_result"
    }
   ],
   "source": [
    "# 문장 생성 함수 실행\n",
    "generate_text(model, tokenizer, init_sentence=\"<start> he\")"
   ]
  },
  {
   "cell_type": "code",
   "execution_count": null,
   "metadata": {},
   "outputs": [],
   "source": []
  },
  {
   "cell_type": "code",
   "execution_count": null,
   "metadata": {},
   "outputs": [],
   "source": []
  }
 ],
 "metadata": {
  "kernelspec": {
   "display_name": "aiffel",
   "language": "python",
   "name": "aiffel"
  },
  "language_info": {
   "codemirror_mode": {
    "name": "ipython",
    "version": 3
   },
   "file_extension": ".py",
   "mimetype": "text/x-python",
   "name": "python",
   "nbconvert_exporter": "python",
   "pygments_lexer": "ipython3",
   "version": "3.7.6"
  }
 },
 "nbformat": 4,
 "nbformat_minor": 4
}
