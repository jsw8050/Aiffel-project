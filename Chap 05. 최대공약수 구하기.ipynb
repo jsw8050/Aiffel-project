{
 "cells": [
  {
   "cell_type": "markdown",
   "metadata": {},
   "source": [
    "### 1. 최대공약수 구하기\n",
    "1. 두 수의 약수 중에서\n",
    "\n",
    "2. 공통된 것을 찾아\n",
    "\n",
    "3. 그 값 중 최댓값인 것 찾기"
   ]
  },
  {
   "cell_type": "code",
   "execution_count": 4,
   "metadata": {},
   "outputs": [
    {
     "name": "stdout",
     "output_type": "stream",
     "text": [
      "1\n"
     ]
    }
   ],
   "source": [
    "# 두 수 중 더 작은 값을 i에 저장\n",
    "# i가 두 수의 공통된 약수인지 확인\n",
    "# 공통된 약수면 이 값을 결괏값으로 돌려주고 종료\n",
    "# 공통된 약수가 아니면 i를 1만큼 감소시키고 2번으로 돌아가 반복\n",
    "\n",
    "def gcd(a, b):\n",
    "    i = min(a, b)\n",
    "    while True:\n",
    "        if a % i == 0 and b % i == 0:\n",
    "            return i\n",
    "        i = i - 1\n",
    "        \n",
    "print(gcd(1, 5))"
   ]
  },
  {
   "cell_type": "markdown",
   "metadata": {},
   "source": [
    "### 2. 유클리드 알고리즘\n",
    "- a와 b의 최대공약수는 'b'와 'a를 b로 나눈 나머지'의 최대공약수와 같다.\n",
    "    - gcd(a, b) = gcd(b, a % b)\n",
    "- 어떤 수와 0의 최대공약수는 자기 자신이다. \n",
    "    - gcd(n, 0) = n\n",
    "    "
   ]
  },
  {
   "cell_type": "code",
   "execution_count": 7,
   "metadata": {},
   "outputs": [
    {
     "data": {
      "text/plain": [
       "12"
      ]
     },
     "execution_count": 7,
     "metadata": {},
     "output_type": "execute_result"
    }
   ],
   "source": [
    "# 어떤 두 수의 최대공약수를 구하기 위해 다시 다른 두 수의 최대공약수를 구한다.: 재귀호출\n",
    "gcd(60, 24)\n",
    "gcd(24, 60 % 24)"
   ]
  },
  {
   "cell_type": "markdown",
   "metadata": {},
   "source": [
    "종료 조건: 어떤 수와 0의 최대공약수는 자기자신"
   ]
  },
  {
   "cell_type": "code",
   "execution_count": 8,
   "metadata": {},
   "outputs": [
    {
     "name": "stdout",
     "output_type": "stream",
     "text": [
      "1\n"
     ]
    }
   ],
   "source": [
    "def gcd(a, b):\n",
    "    if b == 0:\n",
    "        return a # 종료 조건\n",
    "    return gcd(b, a % b)\n",
    "\n",
    "print(gcd(1, 5))"
   ]
  },
  {
   "cell_type": "markdown",
   "metadata": {},
   "source": [
    "### 3. 퀴즈"
   ]
  },
  {
   "cell_type": "code",
   "execution_count": null,
   "metadata": {},
   "outputs": [],
   "source": [
    "def fibo(n):\n",
    "    if n <= 1:\n",
    "        return n\n",
    "    return fibo(n-2) + fibo(n-1)"
   ]
  }
 ],
 "metadata": {
  "kernelspec": {
   "display_name": "Python 3",
   "language": "python",
   "name": "python3"
  },
  "language_info": {
   "codemirror_mode": {
    "name": "ipython",
    "version": 3
   },
   "file_extension": ".py",
   "mimetype": "text/x-python",
   "name": "python",
   "nbconvert_exporter": "python",
   "pygments_lexer": "ipython3",
   "version": "3.7.6"
  }
 },
 "nbformat": 4,
 "nbformat_minor": 4
}
