{
 "cells": [
  {
   "cell_type": "markdown",
   "metadata": {},
   "source": [
    "## 1. 더 맵게"
   ]
  },
  {
   "cell_type": "code",
   "execution_count": 8,
   "metadata": {},
   "outputs": [
    {
     "data": {
      "text/plain": [
       "2"
      ]
     },
     "execution_count": 8,
     "metadata": {},
     "output_type": "execute_result"
    }
   ],
   "source": [
    "scoville = [1,2,3,9,10,12]\n",
    "K = 7\n",
    "\n",
    "import heapq\n",
    "\n",
    "def solution(scoville, K):\n",
    "    answer = 0\n",
    "    heapq.heapify(scoville) \n",
    "    \n",
    "    while True:\n",
    "        if scoville[0] >= K:\n",
    "            return answer\n",
    "        else:\n",
    "            try:\n",
    "                heapq.heappush(scoville, heapq.heappop(scoville)+(heapq.heappop(scoville)*2))\n",
    "            except:\n",
    "                return -1\n",
    "            answer += 1\n",
    "    return answer\n",
    "\n",
    "solution(scoville,K)"
   ]
  },
  {
   "cell_type": "markdown",
   "metadata": {},
   "source": [
    "## 2. 디스크 컨트롤러"
   ]
  },
  {
   "cell_type": "code",
   "execution_count": null,
   "metadata": {},
   "outputs": [],
   "source": [
    "jobs = [[0, 3], [1, 9], [2, 6]]\n",
    "\n",
    "import heapq as hq\n",
    "\n",
    "def solution(jobs):\n",
    "    hp.heapify(jobs)\n",
    "    # jobs 첫번째 작업 처리\n",
    "    \n",
    "    # 작업 시간 적게 걸리는 순으로 오름차순 정렬\n",
    "    \n",
    "    # 우선순위큐\n",
    "    first = (jobs[0][1] - jobs[0][0])\n",
    "    second = jobs[1][1] - first\n",
    "    third = jobs[2][1] second\n",
    "    \n",
    "    first + second + third / 3\n",
    "    \n",
    "    answer = 0\n",
    "    return answer"
   ]
  },
  {
   "cell_type": "code",
   "execution_count": null,
   "metadata": {},
   "outputs": [],
   "source": []
  }
 ],
 "metadata": {
  "kernelspec": {
   "display_name": "aiffel",
   "language": "python",
   "name": "aiffel"
  },
  "language_info": {
   "codemirror_mode": {
    "name": "ipython",
    "version": 3
   },
   "file_extension": ".py",
   "mimetype": "text/x-python",
   "name": "python",
   "nbconvert_exporter": "python",
   "pygments_lexer": "ipython3",
   "version": "3.7.6"
  }
 },
 "nbformat": 4,
 "nbformat_minor": 4
}
