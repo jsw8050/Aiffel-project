{
 "cells": [
  {
   "cell_type": "markdown",
   "metadata": {},
   "source": [
    "## 1. 더 맵게"
   ]
  },
  {
   "cell_type": "code",
   "execution_count": 8,
   "metadata": {},
   "outputs": [
    {
     "data": {
      "text/plain": [
       "2"
      ]
     },
     "execution_count": 8,
     "metadata": {},
     "output_type": "execute_result"
    }
   ],
   "source": [
    "scoville = [1,2,3,9,10,12]\n",
    "K = 7\n",
    "\n",
    "import heapq\n",
    "\n",
    "def solution(scoville, K):\n",
    "    answer = 0\n",
    "    heapq.heapify(scoville) \n",
    "    \n",
    "    while True:\n",
    "        if scoville[0] >= K:\n",
    "            return answer\n",
    "        else:\n",
    "            try:\n",
    "                heapq.heappush(scoville, heapq.heappop(scoville)+(heapq.heappop(scoville)*2))\n",
    "            except:\n",
    "                return -1\n",
    "            answer += 1\n",
    "    return answer\n",
    "\n",
    "solution(scoville,K)"
   ]
  },
  {
   "cell_type": "markdown",
   "metadata": {},
   "source": [
    "## 2. 디스크 컨트롤러"
   ]
  },
  {
   "cell_type": "code",
   "execution_count": 9,
   "metadata": {},
   "outputs": [],
   "source": [
    "# 실패"
   ]
  },
  {
   "cell_type": "code",
   "execution_count": null,
   "metadata": {},
   "outputs": [],
   "source": [
    "# 다른 코드\n",
    "\n",
    "def solution(jobs):\n",
    "    answer = 0\n",
    "    start = 0  # 현재까지 진행된 작업 시간\n",
    "    length = len(jobs)\n",
    "\n",
    "    jobs = sorted(jobs, key=lambda x: x[1])  # 소요시간 우선 정렬\n",
    "\n",
    "    while len(jobs) != 0:\n",
    "        for i in range(len(jobs)):\n",
    "            if jobs[i][0] <= start:\n",
    "                start += jobs[i][1]\n",
    "                answer += start - jobs[i][0]\n",
    "                jobs.pop(i)\n",
    "                break\n",
    "            # 해당시점에 아직 작업이 들어오지 않았으면 시간 ++\n",
    "            if i == len(jobs) - 1:\n",
    "                start += 1\n",
    "\n",
    "    return answer // length"
   ]
  },
  {
   "cell_type": "markdown",
   "metadata": {},
   "source": [
    "## 3. 이중우선순위큐"
   ]
  },
  {
   "cell_type": "code",
   "execution_count": 25,
   "metadata": {},
   "outputs": [
    {
     "data": {
      "text/plain": [
       "[0, 0]"
      ]
     },
     "execution_count": 25,
     "metadata": {},
     "output_type": "execute_result"
    }
   ],
   "source": [
    "operations = [\"I 16\",\"D 1\"]\n",
    "\n",
    "def solution(operations):\n",
    "    priority_queue = []\n",
    "    \n",
    "    for operation in operations:\n",
    "        op, num = operation.split()\n",
    "        \n",
    "        if op == \"I\":\n",
    "            priority_queue.append(int(num))\n",
    "            priority_queue.sort() # insert와 동시에 sort 하면 시간 줄일 수 있음\n",
    "            \n",
    "        elif op == \"D\" and priority_queue: \n",
    "            if num == \"1\":\n",
    "                priority_queue.pop(-1)\n",
    "                \n",
    "            elif num == \"-1\":\n",
    "                priority_queue.pop(0)\n",
    "                \n",
    "                \n",
    "    if priority_queue:\n",
    "        que_max = priority_queue[-1]\n",
    "        que_min = priority_queue[0]\n",
    "        return [que_max, que_min]\n",
    "\n",
    "    else:\n",
    "        return [0, 0]\n",
    "            \n",
    "\n",
    "solution(operations)\n"
   ]
  }
 ],
 "metadata": {
  "kernelspec": {
   "display_name": "aiffel",
   "language": "python",
   "name": "aiffel"
  },
  "language_info": {
   "codemirror_mode": {
    "name": "ipython",
    "version": 3
   },
   "file_extension": ".py",
   "mimetype": "text/x-python",
   "name": "python",
   "nbconvert_exporter": "python",
   "pygments_lexer": "ipython3",
   "version": "3.7.6"
  }
 },
 "nbformat": 4,
 "nbformat_minor": 4
}
