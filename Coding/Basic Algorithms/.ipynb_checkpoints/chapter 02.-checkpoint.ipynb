{
 "cells": [
  {
   "cell_type": "code",
   "execution_count": 2,
   "metadata": {
    "scrolled": true
   },
   "outputs": [
    {
     "name": "stdout",
     "output_type": "stream",
     "text": [
      "[]\n"
     ]
    }
   ],
   "source": [
    "a = [1,2,3]\n",
    "a.clear()\n",
    "print(a)"
   ]
  },
  {
   "cell_type": "code",
   "execution_count": 3,
   "metadata": {},
   "outputs": [],
   "source": [
    "# 최댓값\n",
    "def find_max(a):\n",
    "    n = len(a)\n",
    "    max_a = a[0]\n",
    "    for i in range(1, n):\n",
    "        if a[i] > max_a:\n",
    "            max_a = a[i]\n",
    "    return max_a"
   ]
  },
  {
   "cell_type": "markdown",
   "metadata": {},
   "source": [
    "### 시간 복잡도 O(n)\n",
    "- 입력 크기와 계산 시간 대체로 비례"
   ]
  },
  {
   "cell_type": "code",
   "execution_count": 4,
   "metadata": {},
   "outputs": [],
   "source": [
    "# 최댓값 인덱스\n",
    "def find_max_idx(a):\n",
    "    n = len(a)\n",
    "    max_idx = 0\n",
    "    for i in range(1, n):\n",
    "        if a[i] > a[max_idx]:\n",
    "            max_idx = i\n",
    "    return max_idx"
   ]
  },
  {
   "cell_type": "code",
   "execution_count": null,
   "metadata": {},
   "outputs": [],
   "source": [
    "# 최솟값 인덱스\n",
    "def find_min(a):\n",
    "    n = len(a):\n",
    "    min_a = a[0]\n",
    "    for i in range(1, n):\n",
    "        if a[i] < min_a:\n",
    "            min_a = a[i]\n",
    "    return min_a"
   ]
  },
  {
   "cell_type": "code",
   "execution_count": null,
   "metadata": {},
   "outputs": [],
   "source": []
  }
 ],
 "metadata": {
  "kernelspec": {
   "display_name": "aiffel",
   "language": "python",
   "name": "aiffel"
  },
  "language_info": {
   "codemirror_mode": {
    "name": "ipython",
    "version": 3
   },
   "file_extension": ".py",
   "mimetype": "text/x-python",
   "name": "python",
   "nbconvert_exporter": "python",
   "pygments_lexer": "ipython3",
   "version": "3.7.6"
  }
 },
 "nbformat": 4,
 "nbformat_minor": 4
}
