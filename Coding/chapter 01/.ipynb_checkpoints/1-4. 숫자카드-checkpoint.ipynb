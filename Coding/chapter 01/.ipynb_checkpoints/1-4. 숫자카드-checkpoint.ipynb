{
 "cells": [
  {
   "cell_type": "code",
   "execution_count": null,
   "metadata": {},
   "outputs": [],
   "source": [
    "from collections import Counter\n",
    "\n",
    "T = int(input())\n",
    "\n",
    "for tc in range(T):\n",
    "    n = int(input())\n",
    "    ai = list(input())\n",
    "    \n",
    "    _count = Counter(ai)\n",
    "\n",
    "    value_list = []\n",
    "    for value in _count.values():\n",
    "        value_list.append(value)\n",
    "        max_value= max(value_list)\n",
    "        max_key = _counter[max_value]\n",
    "\n",
    "    \n",
    "    print(\"#{} {} {}\".format(tc, max_key, max_value))\n"
   ]
  }
 ],
 "metadata": {
  "kernelspec": {
   "display_name": "aiffel",
   "language": "python",
   "name": "aiffel"
  },
  "language_info": {
   "codemirror_mode": {
    "name": "ipython",
    "version": 3
   },
   "file_extension": ".py",
   "mimetype": "text/x-python",
   "name": "python",
   "nbconvert_exporter": "python",
   "pygments_lexer": "ipython3",
   "version": "3.7.6"
  }
 },
 "nbformat": 4,
 "nbformat_minor": 4
}
