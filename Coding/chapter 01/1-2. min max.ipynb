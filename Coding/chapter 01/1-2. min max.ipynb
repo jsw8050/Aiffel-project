{
 "cells": [
  {
   "cell_type": "code",
   "execution_count": null,
   "metadata": {},
   "outputs": [],
   "source": [
    "T = int(input())\n",
    "\n",
    "for test_case in range(1, T+1):\n",
    "  num = int(input())\n",
    "  number_list = list(map(int, input().split()))\n",
    "  max_num = max(number_list)\n",
    "  min_num = min(number_list)\n",
    "  answer = max_num - min_num\n",
    "  print(\"#%d\"%test_case, answer)"
   ]
  }
 ],
 "metadata": {
  "kernelspec": {
   "display_name": "aiffel",
   "language": "python",
   "name": "aiffel"
  },
  "language_info": {
   "codemirror_mode": {
    "name": "ipython",
    "version": 3
   },
   "file_extension": ".py",
   "mimetype": "text/x-python",
   "name": "python",
   "nbconvert_exporter": "python",
   "pygments_lexer": "ipython3",
   "version": "3.7.6"
  }
 },
 "nbformat": 4,
 "nbformat_minor": 4
}
