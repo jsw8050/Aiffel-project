{
 "cells": [
  {
   "cell_type": "code",
   "execution_count": null,
   "metadata": {},
   "outputs": [],
   "source": [
    "TC = int(input())\n",
    "\n",
    "for tc in range(1, TC+1):\n",
    "    N, M = map(int, input().split())\n",
    "    num_list = list(map(int, input().split()))\n",
    "\n",
    "    sum_list = []\n",
    "    for i in range(N-M+1):\n",
    "        sum_list.append(sum(num_list[i:i+M]))\n",
    "\n",
    "    print('#%s %d'%(tc, max(sum_list)-min(sum_list)))"
   ]
  }
 ],
 "metadata": {
  "kernelspec": {
   "display_name": "aiffel",
   "language": "python",
   "name": "aiffel"
  },
  "language_info": {
   "codemirror_mode": {
    "name": "ipython",
    "version": 3
   },
   "file_extension": ".py",
   "mimetype": "text/x-python",
   "name": "python",
   "nbconvert_exporter": "python",
   "pygments_lexer": "ipython3",
   "version": "3.7.6"
  }
 },
 "nbformat": 4,
 "nbformat_minor": 4
}
