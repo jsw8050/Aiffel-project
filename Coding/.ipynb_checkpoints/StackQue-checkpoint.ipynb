{
 "cells": [
  {
   "cell_type": "markdown",
   "metadata": {},
   "source": [
    "### 2-1. 주식가격"
   ]
  },
  {
   "cell_type": "code",
   "execution_count": 1,
   "metadata": {},
   "outputs": [],
   "source": [
    "def solution(prices):\n",
    "    answer = []\n",
    "    for i in range(len(prices)):\n",
    "        cnt = 0# cnt초기화\n",
    "        for j in range(1+i, len(prices)):\n",
    "            cnt += 1\n",
    "            if prices[i] > prices[j]:# 다음날 가격이 더 작은 경우\n",
    "                break \n",
    "        answer.insert(i, cnt)# index에 cnt값 추가\n",
    "    return answer"
   ]
  },
  {
   "cell_type": "markdown",
   "metadata": {},
   "source": [
    "### 2-2. 기능개발"
   ]
  },
  {
   "cell_type": "code",
   "execution_count": null,
   "metadata": {},
   "outputs": [],
   "source": [
    "import math\n",
    "progresses = [93, 30, 55]\n",
    "speeds = [1,30,5]\n",
    "\n",
    "def solution(progresses, speeds):\n",
    "    residuals = []\n",
    "    for i in range(len(progresses)):\n",
    "        residual = math.ceil((100 - progresses[i]) / speeds[i])\n",
    "        residuals.append(residual)\n",
    "    \n",
    "    return release(residuals)\n",
    "\n",
    "def release(residuals):\n",
    "    answer = []\n",
    "    for i in residuals:\n",
    "        for j in residuals(1, -1):\n",
    "          release = 0\n",
    "          if residuals[i] > residuals[i-1]: ## 여기가 문제\n",
    "            release = 1\n",
    "            answer.append(release)\n",
    "          else:\n",
    "            answer[-1] += 1\n",
    "    return answer\n",
    "    \n",
    "solution(progresses, speeds)"
   ]
  },
  {
   "cell_type": "markdown",
   "metadata": {},
   "source": [
    "### 2-3. 다리를 지나는 트럭"
   ]
  },
  {
   "cell_type": "code",
   "execution_count": null,
   "metadata": {},
   "outputs": [],
   "source": [
    "def solution(bridge_length, weight, truck_weights):\n",
    "    answer = 0\n",
    "    return answer"
   ]
  },
  {
   "cell_type": "code",
   "execution_count": null,
   "metadata": {},
   "outputs": [],
   "source": []
  },
  {
   "cell_type": "code",
   "execution_count": null,
   "metadata": {},
   "outputs": [],
   "source": []
  },
  {
   "cell_type": "code",
   "execution_count": null,
   "metadata": {},
   "outputs": [],
   "source": []
  }
 ],
 "metadata": {
  "kernelspec": {
   "display_name": "aiffel",
   "language": "python",
   "name": "aiffel"
  },
  "language_info": {
   "codemirror_mode": {
    "name": "ipython",
    "version": 3
   },
   "file_extension": ".py",
   "mimetype": "text/x-python",
   "name": "python",
   "nbconvert_exporter": "python",
   "pygments_lexer": "ipython3",
   "version": "3.7.6"
  }
 },
 "nbformat": 4,
 "nbformat_minor": 4
}
