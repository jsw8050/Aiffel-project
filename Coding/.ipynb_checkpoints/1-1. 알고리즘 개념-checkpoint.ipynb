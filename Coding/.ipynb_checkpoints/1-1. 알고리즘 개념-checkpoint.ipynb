{
 "cells": [
  {
   "cell_type": "markdown",
   "metadata": {},
   "source": [
    "### 1. 알고리즘\n",
    "- 유한한 단계를 통해 문제를 해결하기 위한 절차나 방법\n",
    "\n",
    "    1) 슈도 코드: 일반적인 언어로 코드를 흉내 내어 알고리즘을 써 놓은 코드 (컴퓨터에서 사용 불가)\n",
    "    \n",
    "    2) 순서도: 프로그램이나 작업의 진행 흐름을 순서에 따라 여러 가지 기호나 문자로 나타낸 도표 (흐름도, 프로그램을 작성하기 전 작업)"
   ]
  },
  {
   "cell_type": "markdown",
   "metadata": {},
   "source": [
    "### 시간 복잡도\n",
    "\n",
    "**빅-오(O) 표기법**\n",
    "\n",
    "- 시간 복잡도 함수 중에서 가장 큰 영향력을 주는 n에 대한 항만을 표시\n",
    "- 계수는 생략하여 표기\n"
   ]
  },
  {
   "cell_type": "markdown",
   "metadata": {},
   "source": [
    "### 2. Python\n",
    "- 객체지향\n",
    "- 인터프리어 언어로 독립적인 플랫폼\n",
    "\n",
    "1) 변수 \n",
    "\n",
    "- 모든 자료는 객체\n",
    "- 변수 선언 필요 없음\n",
    "\n",
    "2) 자료형\n",
    "\n",
    "- tuple: 순서가 있기 때문에 중복 허용, 속도가 list보다 빠름\n",
    "- list: 배열. 하나의 변수로 사용, 시퀀스 자료형\n",
    "\n",
    "3) 리스트 함축\n",
    "\n",
    "- 예: [i for i in mylist if i%2 == 0 ]"
   ]
  },
  {
   "cell_type": "markdown",
   "metadata": {},
   "source": [
    "### 3. 완전 검색 (Exhaustive Search)\n",
    "\n",
    "- 문제의 해법으로 생각할 수 있는 모든 경우의 수를 나열해보고 확인하는 기법\n",
    "- 경우의 수가 상대적으로 작을 때 유용\n",
    "- 수행 속도가 느리나 해답 찾을 확률이 높음\n",
    "- 먼저 완전 검색으로 해답 도출한 후, 성능 개선 위해 다른 알고리즘 사용하여 확인하는 것이 좋음\n",
    "- 예: Baby-gin 게임, 순열"
   ]
  },
  {
   "cell_type": "markdown",
   "metadata": {},
   "source": [
    "### 4. 탐욕 알고리즘 (Greedy Algorithm)\n",
    "\n",
    "- 일반적으로 떠오르는 생각을 검증 없이 바로 구현하면 Greedy 접근\n",
    "- 여러 경우 중 하나를 결정해야 할 때마다 그 순간 최적이라고 생각되는 것을 선택해 나가는 방식으로 진행하여 최종적인 해답에 도달하지만 최적이라는 보장은 없음"
   ]
  },
  {
   "cell_type": "markdown",
   "metadata": {},
   "source": [
    "### 5. Sort\n",
    "\n",
    "- 버블 정렬: 인접한 두 개의 우너소를 비교하며 자리를 계속 교환하는 방식: O(n^2)\n",
    "- 카운팅 정렬: 항목들의 순서를 결정하기 위해 집합에 각 항목이 몇 개씩 있는지 세는 작업을 하여, 선형 시간에 유리한 작업\n",
    "\n"
   ]
  }
 ],
 "metadata": {
  "kernelspec": {
   "display_name": "aiffel",
   "language": "python",
   "name": "aiffel"
  },
  "language_info": {
   "codemirror_mode": {
    "name": "ipython",
    "version": 3
   },
   "file_extension": ".py",
   "mimetype": "text/x-python",
   "name": "python",
   "nbconvert_exporter": "python",
   "pygments_lexer": "ipython3",
   "version": "3.7.6"
  }
 },
 "nbformat": 4,
 "nbformat_minor": 4
}
