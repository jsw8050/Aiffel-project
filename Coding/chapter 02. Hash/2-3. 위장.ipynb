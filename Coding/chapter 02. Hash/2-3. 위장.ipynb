{
 "cells": [
  {
   "cell_type": "code",
   "execution_count": null,
   "metadata": {},
   "outputs": [],
   "source": [
    "def solution(clothes):\n",
    "    answer = 0\n",
    "    return answer"
   ]
  },
  {
   "cell_type": "code",
   "execution_count": null,
   "metadata": {},
   "outputs": [],
   "source": [
    "from collections import Counter\n",
    "from functools import reduce\n",
    "\n",
    "def solution(clothes):\n",
    "  count = Counter([kind for name, kind in clothes])\n",
    "  print(count)\n",
    "  answer = reduce(lambda x, y: x*(y+1), count.values(), 1) -1\n",
    "  return answer"
   ]
  },
  {
   "cell_type": "markdown",
   "metadata": {},
   "source": [
    "#### 다른 코드"
   ]
  },
  {
   "cell_type": "code",
   "execution_count": 1,
   "metadata": {},
   "outputs": [],
   "source": [
    "def solutions(clothes):\n",
    "  closet = dict()\n",
    "  for cloth in clothes:\n",
    "    if cloth[1] not in closet: \n",
    "      closet[cloth[1]] = [cloth[0]]\n",
    "    else:\n",
    "      closet[cloth[1]].append([cloth[0]])\n",
    "\n",
    "  for key in closet.keys():\n",
    "    closet[key].append(\"\")\n",
    "\n",
    "  answer = 1\n",
    "\n",
    "  for value in closet.values():\n",
    "    answer = answer*len(value)\n",
    "\n",
    "    answer -= 1\n",
    "    return answer\n",
    "\n",
    "[[crow_mask, face], [blue_sunglasses, face], [smoky_makeup, face]]\t3"
   ]
  },
  {
   "cell_type": "code",
   "execution_count": 2,
   "metadata": {},
   "outputs": [],
   "source": [
    "def solution(clothes):\n",
    "  answer = {}\n",
    "  for i in clothes:\n",
    "    if i[1] in answer: \n",
    "      answer[i[1]] += 1\n",
    "\n",
    "    else:\n",
    "      anwser[i[1]] = 1\n",
    "\n",
    "  count = 1\n",
    "\n",
    "  for i in answer.values():\n",
    "    count = (i+1) * count\n",
    "\n",
    "  return count - 1"
   ]
  },
  {
   "cell_type": "code",
   "execution_count": 3,
   "metadata": {},
   "outputs": [],
   "source": [
    "from collections import Counter\n",
    "from functools import reduce\n",
    "\n",
    "def solution(clothes):\n",
    "  count = Counter([kind for name, kind in clothes])\n",
    "  print(count)\n",
    "  answer = reduce(lambda x, y: x*(y+1), count.values(), 1) -1\n",
    "  return answer"
   ]
  }
 ],
 "metadata": {
  "kernelspec": {
   "display_name": "aiffel",
   "language": "python",
   "name": "aiffel"
  },
  "language_info": {
   "codemirror_mode": {
    "name": "ipython",
    "version": 3
   },
   "file_extension": ".py",
   "mimetype": "text/x-python",
   "name": "python",
   "nbconvert_exporter": "python",
   "pygments_lexer": "ipython3",
   "version": "3.7.6"
  }
 },
 "nbformat": 4,
 "nbformat_minor": 4
}
