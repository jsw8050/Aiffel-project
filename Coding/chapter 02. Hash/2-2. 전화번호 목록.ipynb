{
 "cells": [
  {
   "cell_type": "code",
   "execution_count": null,
   "metadata": {},
   "outputs": [],
   "source": [
    "# 1차 시도: 정확성은 있으나 효율성 부족으로 실패\n",
    "def solution(phone_book):\n",
    "    _count = 0\n",
    "    for i in phone_book:\n",
    "        for j in phone_book:\n",
    "            if i != j:\n",
    "                if j.startswith(i):\n",
    "                    _count += 1\n",
    "    if _count > 0:\n",
    "        return False\n",
    "    else:\n",
    "        return True\n",
    "                "
   ]
  },
  {
   "cell_type": "code",
   "execution_count": null,
   "metadata": {},
   "outputs": [],
   "source": [
    "# 2차 시도: 정답\n",
    "def solution(phone_book):\n",
    "    for i in phone_book:\n",
    "        for j in phone_book:\n",
    "            if i != j:\n",
    "                if j.startswith(i):\n",
    "                    return False\n",
    "    if not False:\n",
    "        return True"
   ]
  },
  {
   "cell_type": "code",
   "execution_count": null,
   "metadata": {},
   "outputs": [],
   "source": [
    "## 다른 풀이\n",
    "def solution(phoneBook):\n",
    "    phoneBook = sorted(phoneBook)\n",
    "\n",
    "    for p1, p2 in zip(phoneBook, phoneBook[1:]):\n",
    "        if p2.startswith(p1):\n",
    "            return False\n",
    "    return True"
   ]
  },
  {
   "cell_type": "markdown",
   "metadata": {},
   "source": [
    "### zip()\n",
    "- 동일한 개수로 이루어진 자료형을 묶어 주는 역할을 하는 함수"
   ]
  },
  {
   "cell_type": "code",
   "execution_count": 2,
   "metadata": {},
   "outputs": [
    {
     "name": "stdout",
     "output_type": "stream",
     "text": [
      "[(1, 'hong'), (2, 'gil'), (3, 'dong'), (4, 'nim')]\n"
     ]
    }
   ],
   "source": [
    "# 리스트\n",
    "Number = [1,2,3,4]\n",
    "Name = ['hong','gil','dong','nim']\n",
    "Number_Name = list(zip(Number,Name))\n",
    "print(Number_Name)"
   ]
  },
  {
   "cell_type": "code",
   "execution_count": 3,
   "metadata": {},
   "outputs": [
    {
     "name": "stdout",
     "output_type": "stream",
     "text": [
      "{1: 'hong', 2: 'gil', 3: 'dong', 4: 'nim'}\n"
     ]
    }
   ],
   "source": [
    "# 딕셔너리\n",
    "Number = [1,2,3,4]\n",
    "Name = ['hong','gil','dong','nim']\n",
    "dic = {}\n",
    "for i in range(len(Number)) : \n",
    "    dic[Number[i]] = Name[i]\n",
    "print(dic)"
   ]
  }
 ],
 "metadata": {
  "kernelspec": {
   "display_name": "aiffel",
   "language": "python",
   "name": "aiffel"
  },
  "language_info": {
   "codemirror_mode": {
    "name": "ipython",
    "version": 3
   },
   "file_extension": ".py",
   "mimetype": "text/x-python",
   "name": "python",
   "nbconvert_exporter": "python",
   "pygments_lexer": "ipython3",
   "version": "3.7.6"
  }
 },
 "nbformat": 4,
 "nbformat_minor": 4
}
