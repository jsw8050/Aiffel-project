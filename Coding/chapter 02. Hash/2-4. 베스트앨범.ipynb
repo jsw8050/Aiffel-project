{
 "cells": [
  {
   "cell_type": "code",
   "execution_count": 13,
   "metadata": {},
   "outputs": [],
   "source": [
    "def solution(genres, plays):\n",
    "    song_dict = {}\n",
    "    for gen, pl in zip(genres, plays):\n",
    "        song_dict[gen] = pl\n",
    "    sorted(song_dict(), key=lambda x:x[1], reverse = True)\n",
    "    answer = song_dict.keys()\n",
    "    print(answer)\n",
    "#     return answer\n",
    "\n",
    "genres = ['classic', 'pop', 'classic', 'classic', 'pop']\n",
    "plays = [500, 600, 150, 800, 2500]"
   ]
  },
  {
   "cell_type": "code",
   "execution_count": 18,
   "metadata": {},
   "outputs": [
    {
     "name": "stdout",
     "output_type": "stream",
     "text": [
      "[('pop', 2500), ('classic', 800)]\n"
     ]
    }
   ],
   "source": [
    "genres = ['classic', 'pop', 'classic', 'classic', 'pop']\n",
    "plays = [500, 600, 150, 800, 2500]\n",
    "\n",
    "def solution(genres, plays):\n",
    "    song_dict = {}\n",
    "    for gen, pl in zip(genres, plays):\n",
    "        song_dict[gen] = pl\n",
    "    a = sorted(song_dict.items(), key=lambda x:x[1], reverse = True)\n"
   ]
  },
  {
   "cell_type": "code",
   "execution_count": 22,
   "metadata": {},
   "outputs": [],
   "source": [
    "genres = ['classic', 'pop', 'classic', 'classic', 'pop']\n",
    "plays = [500, 600, 150, 800, 2500]\n",
    "\n",
    "def solution(genres, plays):\n",
    "    keys = []\n",
    "    for i in range(len(genres)):\n",
    "        keys.append(i)\n",
    "    print(keys)\n",
    "    song_dict = {}\n",
    "    for key, pl in zip(keys, plays):\n",
    "        song_dict[key] = pl\n",
    "    sorted(song_dict.items(), key=lambda x:x[1], reverse = True)\n",
    "    \n",
    "    print(song_dict)"
   ]
  }
 ],
 "metadata": {
  "kernelspec": {
   "display_name": "aiffel",
   "language": "python",
   "name": "aiffel"
  },
  "language_info": {
   "codemirror_mode": {
    "name": "ipython",
    "version": 3
   },
   "file_extension": ".py",
   "mimetype": "text/x-python",
   "name": "python",
   "nbconvert_exporter": "python",
   "pygments_lexer": "ipython3",
   "version": "3.7.6"
  }
 },
 "nbformat": 4,
 "nbformat_minor": 4
}
