{
 "cells": [
  {
   "cell_type": "markdown",
   "metadata": {},
   "source": [
    "### 2-1. 주식 가격"
   ]
  },
  {
   "cell_type": "code",
   "execution_count": null,
   "metadata": {},
   "outputs": [],
   "source": [
    "def solution(prices):\n",
    "    answer = []\n",
    "    for i in range(len(prices)):\n",
    "        cnt = 0# cnt초기화\n",
    "        for j in range(1+i, len(prices)):\n",
    "            cnt += 1\n",
    "            if prices[i] > prices[j]:# 다음날 가격이 더 작은 경우\n",
    "                break \n",
    "        answer.insert(i, cnt)# index에 cnt값 추가\n",
    "    return answer"
   ]
  },
  {
   "cell_type": "markdown",
   "metadata": {},
   "source": [
    "### 2-2. 기능 개발"
   ]
  },
  {
   "cell_type": "code",
   "execution_count": 1,
   "metadata": {},
   "outputs": [
    {
     "data": {
      "text/plain": [
       "[2, 1]"
      ]
     },
     "execution_count": 1,
     "metadata": {},
     "output_type": "execute_result"
    }
   ],
   "source": [
    "import math\n",
    "progresses = [93, 30, 55]\n",
    "speeds = [1,30,5]\n",
    "\n",
    "def solution(progresses, speeds):\n",
    "    residuals = []\n",
    "    for i in range(len(progresses)):\n",
    "        residual = math.ceil((100 - progresses[i]) / speeds[i])\n",
    "        residuals.append(residual)\n",
    "    \n",
    "    return release(residuals)\n",
    "\n",
    "def release(residuals):\n",
    "    # residuals 리스트 없으면 배포도 없다.\n",
    "    if(len(residuals) == 0):\n",
    "        return []\n",
    "\n",
    "    # 초기화\n",
    "    answer = []\n",
    "    # 첫번째 residual을 save에 넣고 release_count를 1 올림\n",
    "    save_residual = residuals[0]\n",
    "    release_count = 1\n",
    "\n",
    "    # 0번째는 save_resiudal 에 들어가서 [1:] 처리\n",
    "    for residual in residuals[1:]:\n",
    "        # 만약 residual 이 크면, 이전 release_count를 answer에 추가 후 save_residual release_count 초기화\n",
    "        # 작거나 같으면 함께 배포되니까, release_count 1증가\n",
    "        if save_residual < residual:\n",
    "            answer.append(release_count)\n",
    "            save_residual = residual\n",
    "            release_count = 1\n",
    "        else:\n",
    "            release_count = release_count + 1\n",
    "    # 마지막 배포 갯수 추가\n",
    "    answer.append(release_count)\n",
    "    return answer\n",
    "\n",
    "solution(progresses, speeds)"
   ]
  },
  {
   "cell_type": "code",
   "execution_count": null,
   "metadata": {},
   "outputs": [],
   "source": [
    "### 2-3. "
   ]
  }
 ],
 "metadata": {
  "kernelspec": {
   "display_name": "Python 3",
   "language": "python",
   "name": "python3"
  },
  "language_info": {
   "codemirror_mode": {
    "name": "ipython",
    "version": 3
   },
   "file_extension": ".py",
   "mimetype": "text/x-python",
   "name": "python",
   "nbconvert_exporter": "python",
   "pygments_lexer": "ipython3",
   "version": "3.7.6"
  }
 },
 "nbformat": 4,
 "nbformat_minor": 4
}
